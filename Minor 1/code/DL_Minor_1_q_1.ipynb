{
  "cells": [
    {
      "cell_type": "markdown",
      "metadata": {
        "id": "vM4Zt7DealDy"
      },
      "source": [
        "# Question 1 Train a CNN on CIFAR-10 with specified params"
      ]
    },
    {
      "cell_type": "markdown",
      "metadata": {
        "id": "h5jmZTh6bArF"
      },
      "source": [
        "## Checking Avilable GPU"
      ]
    },
    {
      "cell_type": "code",
      "execution_count": 1,
      "metadata": {
        "colab": {
          "base_uri": "https://localhost:8080/"
        },
        "id": "DwVYnqGaZowj",
        "outputId": "036c16db-178a-4eba-e1d2-b738c5d90b47"
      },
      "outputs": [
        {
          "name": "stdout",
          "output_type": "stream",
          "text": [
            "Mon Feb 13 04:53:44 2023       \n",
            "+-----------------------------------------------------------------------------+\n",
            "| NVIDIA-SMI 525.78.01    Driver Version: 525.78.01    CUDA Version: 12.0     |\n",
            "|-------------------------------+----------------------+----------------------+\n",
            "| GPU  Name        Persistence-M| Bus-Id        Disp.A | Volatile Uncorr. ECC |\n",
            "| Fan  Temp  Perf  Pwr:Usage/Cap|         Memory-Usage | GPU-Util  Compute M. |\n",
            "|                               |                      |               MIG M. |\n",
            "|===============================+======================+======================|\n",
            "|   0  NVIDIA GeForce ...  Off  | 00000000:01:00.0 Off |                  N/A |\n",
            "|  0%   47C    P8    32W / 350W |    182MiB / 24576MiB |      0%      Default |\n",
            "|                               |                      |                  N/A |\n",
            "+-------------------------------+----------------------+----------------------+\n",
            "                                                                               \n",
            "+-----------------------------------------------------------------------------+\n",
            "| Processes:                                                                  |\n",
            "|  GPU   GI   CI        PID   Type   Process name                  GPU Memory |\n",
            "|        ID   ID                                                   Usage      |\n",
            "|=============================================================================|\n",
            "|    0   N/A  N/A      1636      G   /usr/lib/xorg/Xorg                167MiB |\n",
            "|    0   N/A  N/A      1949      G   /usr/bin/gnome-shell               13MiB |\n",
            "+-----------------------------------------------------------------------------+\n"
          ]
        }
      ],
      "source": [
        "!nvidia-smi"
      ]
    },
    {
      "cell_type": "markdown",
      "metadata": {
        "id": "rgDZV_3LbM4b"
      },
      "source": [
        "## Importing requirements"
      ]
    },
    {
      "cell_type": "code",
      "execution_count": 2,
      "metadata": {
        "colab": {
          "base_uri": "https://localhost:8080/"
        },
        "id": "zEAQWhwpaH4v",
        "outputId": "a0acc33b-5693-40d9-b069-1e03d60ef8e9"
      },
      "outputs": [],
      "source": [
        "# pytorch libs\n",
        "import torch\n",
        "from torch import nn\n",
        "import torchvision\n",
        "\n",
        "# matplot libs\n",
        "import matplotlib.pyplot as plt\n",
        "\n",
        "# numpy\n",
        "import numpy as np\n",
        "\n",
        "# torch metrics\n",
        "try:\n",
        "    import torchmetrics\n",
        "except:\n",
        "    !pip3 -q install torchmetrics\n",
        "import torchmetrics\n",
        "from torchmetrics.classification import MulticlassAccuracy"
      ]
    },
    {
      "cell_type": "markdown",
      "metadata": {
        "id": "nCe4S9RDKCCi"
      },
      "source": [
        "## device agnostic code"
      ]
    },
    {
      "cell_type": "code",
      "execution_count": 3,
      "metadata": {
        "colab": {
          "base_uri": "https://localhost:8080/",
          "height": 0
        },
        "id": "bN4saR5mKITV",
        "outputId": "b517f42c-b890-4cc6-e7f1-580a1283ee2e"
      },
      "outputs": [
        {
          "data": {
            "text/plain": [
              "'cuda'"
            ]
          },
          "execution_count": 3,
          "metadata": {},
          "output_type": "execute_result"
        }
      ],
      "source": [
        "device = \"cuda\" if torch.cuda.is_available() else \"cpu\"\n",
        "device"
      ]
    },
    {
      "cell_type": "markdown",
      "metadata": {
        "id": "4DVJEos8et6e"
      },
      "source": [
        "## Getting Dataset with pytorch"
      ]
    },
    {
      "cell_type": "markdown",
      "metadata": {
        "id": "nzKRNK7xhF66"
      },
      "source": [
        "### Downloading Dataset"
      ]
    },
    {
      "cell_type": "code",
      "execution_count": 4,
      "metadata": {
        "colab": {
          "base_uri": "https://localhost:8080/",
          "height": 0,
          "referenced_widgets": [
            "cc7b08527ea24f71bc599415452734d5",
            "30049721ee0b47a18a327f2984c2625a",
            "4a83062f3f574f71b9082cd24860dfbd",
            "3900b366b949408cb0a9bb4185cff183",
            "bc8c2b37f64b401b8d302f85f7c80a31",
            "1f4de2a4b39c4e4a84ad7b094d626e28",
            "a7cb121abe9c48549fb0c6f046a9d88a",
            "3b3d4c5aa72f46a8b7f3f68611575c60",
            "642451da3cfc48d390d143829ad5c35e",
            "302d0493efae41d48f4a9823d9d818e0",
            "963890e6f8384eb9b6e9545aec673426"
          ]
        },
        "id": "M0y5h3xOfj76",
        "outputId": "f3825fa9-7137-4783-9571-9dad92707777"
      },
      "outputs": [
        {
          "name": "stdout",
          "output_type": "stream",
          "text": [
            "Files already downloaded and verified\n",
            "Files already downloaded and verified\n",
            "Files already downloaded and verified\n"
          ]
        },
        {
          "data": {
            "text/plain": [
              "(<torch.utils.data.dataset.Subset at 0x7fb1e60f1ba0>,\n",
              " <torch.utils.data.dataset.Subset at 0x7fb2f84c2380>)"
            ]
          },
          "execution_count": 4,
          "metadata": {},
          "output_type": "execute_result"
        }
      ],
      "source": [
        "from torchvision import transforms\n",
        "\n",
        "# for simple conversion to grayscale and then to tensor\n",
        "image_train_trasform_simple = transforms.Compose(\n",
        "        [\n",
        "                # transforms.Grayscale(num_output_channels=1),\n",
        "                transforms.ToTensor()\n",
        "        ]\n",
        ")\n",
        "\n",
        "# for simple conversion to grayscale + augmentation and then to tensor\n",
        "image_train_trasform_augmented = transforms.Compose(\n",
        "        [\n",
        "                # transforms.Grayscale(num_output_channels=1),\n",
        "                transforms.RandomRotation(10), # as mentioned in the question paper\n",
        "                transforms.GaussianBlur(kernel_size=(3, 3), sigma=(0.01, 0.2)), # as mentioned in the question paper\n",
        "                transforms.ToTensor()\n",
        "        ]\n",
        ")\n",
        "\n",
        "image_test_trasform = transforms.Compose(\n",
        "        [\n",
        "                # transforms.Grayscale(num_output_channels=1),\n",
        "                # no need to apply in test dataset\n",
        "                transforms.ToTensor()\n",
        "        ]\n",
        ")\n",
        "\n",
        "# plain dataset\n",
        "train_dataset_original = torchvision.datasets.CIFAR10(\n",
        "        root = 'data/',\n",
        "        download = True,\n",
        "        train = True,\n",
        "        transform = image_train_trasform_simple\n",
        ")\n",
        "\n",
        "# augmented dataset\n",
        "train_dataset_augmented = torchvision.datasets.CIFAR10(\n",
        "        root = 'data/',\n",
        "        download = True,\n",
        "        train = True,\n",
        "        transform = image_train_trasform_augmented\n",
        ")\n",
        "\n",
        "train_dataset_all_classes = torch.utils.data.ConcatDataset([train_dataset_original, train_dataset_augmented])\n",
        "\n",
        "# removing non-required classes\n",
        "final_subset = []\n",
        "for idx,data in enumerate(train_dataset_all_classes):\n",
        "  if data[1] in [0,2,4,6,8]: # specific classes, mentioned in the paper.\n",
        "    final_subset.append(idx)\n",
        "\n",
        "train_dataset = torch.utils.data.Subset(train_dataset_all_classes,final_subset)\n",
        "\n",
        "# test dataset\n",
        "test_dataset_all_classes = torchvision.datasets.CIFAR10(\n",
        "        root = 'data/',\n",
        "        download = True,\n",
        "        train = False,\n",
        "        transform = image_test_trasform\n",
        ")\n",
        "\n",
        "# removing non-required classes\n",
        "final_subset = []\n",
        "for idx,data in enumerate(test_dataset_all_classes):\n",
        "  if data[1] in [0,2,4,6,8]: # specific classes, mentioned in the paper.\n",
        "    final_subset.append(idx)\n",
        "\n",
        "test_dataset = torch.utils.data.Subset(test_dataset_all_classes,final_subset)\n",
        "\n",
        "\n",
        "# train_dataset_original, train_dataset_augmented ,test_dataset\n",
        "train_dataset, test_dataset"
      ]
    },
    {
      "cell_type": "code",
      "execution_count": 5,
      "metadata": {
        "colab": {
          "base_uri": "https://localhost:8080/"
        },
        "id": "9xZCYjji4uQk",
        "outputId": "c28f1bbd-3ad4-40e5-b1f0-4be4bdb5bbf7"
      },
      "outputs": [],
      "source": [
        "# print(\"len of train dataset all class\",len(train_dataset_all_classes),\"5 class\",len(train_dataset))\n",
        "# print(\"len of test dataset\",len(test_dataset_all_classes),\"5 class\",len(test_dataset))"
      ]
    },
    {
      "cell_type": "markdown",
      "metadata": {
        "id": "dyPd2udBaUOT"
      },
      "source": [
        "### Vis. dataset (train dataset)"
      ]
    },
    {
      "cell_type": "code",
      "execution_count": 6,
      "metadata": {
        "id": "DoLciHIvhX3W"
      },
      "outputs": [],
      "source": [
        "# randomly ploting image samples from the grayscale dataset\n",
        "def visualization(dataset):\n",
        "  labels_map = dataset.class_to_idx # getting class -> index map\n",
        "  labels_map = dict(map(reversed, labels_map.items())) # inverting dict\n",
        "  # print(labels_map)\n",
        "\n",
        "  figure = plt.figure(figsize=(8, 8)) # fixing plotsize\n",
        "  cols, rows = 3, 3\n",
        "  for i in range(1, cols * rows + 1):\n",
        "      sample_idx = torch.randint(len(dataset), size=(1,)) # randomely selecting one image sample from the image index\n",
        "      img, label = dataset[sample_idx] # getting image and label of selected index\n",
        "      # sub plot code\n",
        "      figure.add_subplot(rows, cols, i) \n",
        "      plt.title(labels_map[label])\n",
        "      plt.axis(\"off\")\n",
        "      plt.imshow(img.permute(1,2,0)) # NOTE:- Color map is gray because we're converting imgae to grayscale / permute is used to change the channel order\n",
        "      # sub plot code ends\n",
        "  plt.show()"
      ]
    },
    {
      "cell_type": "code",
      "execution_count": 7,
      "metadata": {
        "colab": {
          "base_uri": "https://localhost:8080/",
          "height": 0
        },
        "id": "fz9eQMNtz1lS",
        "outputId": "10005143-11e6-455a-aa16-990a0c762f13"
      },
      "outputs": [
        {
          "name": "stdout",
          "output_type": "stream",
          "text": [
            "\t\t\t SAMPELS FORM Original Dataset\n"
          ]
        },
        {
          "data": {
            "image/png": "[encoded data removed]",
            "text/plain": [
              "<Figure size 800x800 with 9 Axes>"
            ]
          },
          "metadata": {},
          "output_type": "display_data"
        },
        {
          "name": "stdout",
          "output_type": "stream",
          "text": [
            "\n",
            "\t\t\t SAMPELS FORM Augmented Dataset\n"
          ]
        },
        {
          "data": {
            "image/png": "[encoded data removed]",
            "text/plain": [
              "<Figure size 800x800 with 9 Axes>"
            ]
          },
          "metadata": {},
          "output_type": "display_data"
        }
      ],
      "source": [
        "print(\"\\t\\t\\t SAMPELS FORM Original Dataset\")\n",
        "visualization(train_dataset_original)\n",
        "print()\n",
        "print(\"\\t\\t\\t SAMPELS FORM Augmented Dataset\")\n",
        "visualization(train_dataset_augmented)"
      ]
    },
    {
      "cell_type": "markdown",
      "metadata": {
        "id": "sYyXAxh9ok_b"
      },
      "source": [
        "### Converting dataset to dataloader"
      ]
    },
    {
      "cell_type": "code",
      "execution_count": 8,
      "metadata": {
        "colab": {
          "base_uri": "https://localhost:8080/"
        },
        "id": "kFDnlX5to1ut",
        "outputId": "9e136e3c-66c5-4d5d-eebf-8f2620ae75ee"
      },
      "outputs": [
        {
          "name": "stdout",
          "output_type": "stream",
          "text": [
            "Numbers of Batches in Train Dataloader Original: 1563\n",
            "Numbers of Batches in Test Dataloader: 157\n"
          ]
        }
      ],
      "source": [
        "import os\n",
        "\n",
        "# hyper parms. for dataloader\n",
        "BATCH_SIZE = 32\n",
        "NUM_WORKERS = os.cpu_count() # no. of avilable cpu cores\n",
        "\n",
        "# train dataloaders\n",
        "train_dataloader = torch.utils.data.DataLoader(\n",
        "        dataset = train_dataset,\n",
        "        batch_size = BATCH_SIZE,\n",
        "        shuffle = True,\n",
        "        num_workers = NUM_WORKERS     \n",
        ")\n",
        "\n",
        "# train_dataloader_original = torch.utils.data.DataLoader(\n",
        "#         dataset = train_dataset_original,\n",
        "#         batch_size = BATCH_SIZE,\n",
        "#         shuffle = True,\n",
        "#         num_workers = NUM_WORKERS     \n",
        "# )\n",
        "\n",
        "# train_dataloader_augmented = torch.utils.data.DataLoader(\n",
        "#         dataset = train_dataset_augmented,\n",
        "#         batch_size = BATCH_SIZE,\n",
        "#         shuffle = True,\n",
        "#         num_workers = NUM_WORKERS     \n",
        "# )\n",
        "\n",
        "# test dataloader\n",
        "test_dataloader = torch.utils.data.DataLoader(\n",
        "        dataset = test_dataset,\n",
        "        batch_size = BATCH_SIZE,\n",
        "        shuffle = False,\n",
        "        num_workers = NUM_WORKERS     \n",
        ")\n",
        "\n",
        "print(f\"Numbers of Batches in Train Dataloader Original: {len(train_dataloader)}\")\n",
        "# print(f\"Numbers of Batches in Train Dataloader Augmented: {len(train_dataloader_augmented)}\")\n",
        "print(f\"Numbers of Batches in Test Dataloader: {len(test_dataloader)}\")\n",
        "# train_dataloader,test_dataloader"
      ]
    },
    {
      "cell_type": "markdown",
      "metadata": {
        "id": "5Olm8t8b1nt4"
      },
      "source": [
        "## Defining Model"
      ]
    },
    {
      "cell_type": "code",
      "execution_count": 9,
      "metadata": {},
      "outputs": [],
      "source": [
        "class CustomArchNoCNN(nn.Module):\n",
        "  def __init__(\n",
        "      self,\n",
        "    #   in_channels:int,\n",
        "    #   hidden_units:int,\n",
        "    #   out_channels:int,\n",
        "      activation_funtion:nn.Module\n",
        "      ) -> None:\n",
        "    '''\n",
        "    args:\n",
        "      in_channels: input image shape\n",
        "    #   hidden_units: numbers of filters\n",
        "      out_channels: number of classes in the data\n",
        "      actication_function: activation function of your choice\n",
        "    '''\n",
        "    super().__init__()\n",
        "    self.block_1 = nn.Sequential(\n",
        "        nn.Flatten(),\n",
        "        nn.Linear(\n",
        "            in_features = 32*32*3,\n",
        "            out_features = 1024\n",
        "        ),\n",
        "        activation_funtion,\n",
        "        nn.Linear(\n",
        "            in_features = 1024,\n",
        "            out_features = 1024\n",
        "        ),\n",
        "        activation_funtion,\n",
        "        nn.Linear(\n",
        "            in_features = 1024,\n",
        "            out_features = 1024\n",
        "        ),\n",
        "        activation_funtion\n",
        "    )\n",
        "    # applying xavier init. on weights\n",
        "    for _ in self.block_1:\n",
        "      try:\n",
        "        nn.init.xavier_uniform_(_.weight)\n",
        "      except:\n",
        "        pass\n",
        "        # print(\"No Weight params found!!!\")\n",
        "    \n",
        "    self.fc_block = nn.Sequential(\n",
        "        nn.Linear(\n",
        "            in_features = 1024,\n",
        "            out_features = 1024\n",
        "        ),\n",
        "        activation_funtion,\n",
        "        nn.Linear(\n",
        "            in_features = 1024,\n",
        "            out_features = 10\n",
        "            )\n",
        "    )\n",
        "    # applying xavier init. on weights\n",
        "    # print(self.fc_block)\n",
        "    nn.init.xavier_uniform_(self.fc_block[0].weight)\n",
        "    nn.init.xavier_uniform_(self.fc_block[2].weight)\n",
        "    \n",
        "    # applying dropout \n",
        "    self.dropout = nn.Dropout(0.5)\n",
        "  def forward(self,x:torch.Tensor):\n",
        "    x = self.block_1(x)\n",
        "    # print(\"conv_block_out shape:\",x.shape)\n",
        "    x = self.dropout(x)\n",
        "    x = self.fc_block(x)\n",
        "    # print(\"fc_block_out_ shape:\",x.shape)\n",
        "    return x"
      ]
    },
    {
      "cell_type": "code",
      "execution_count": 10,
      "metadata": {
        "id": "68iYS7XL1qyT"
      },
      "outputs": [],
      "source": [
        "class CustomArch(nn.Module):\n",
        "  def __init__(\n",
        "      self,\n",
        "      in_channels:int,\n",
        "      hidden_units:int,\n",
        "      out_channels:int,\n",
        "      activation_funtion:nn.Module\n",
        "      ) -> None:\n",
        "    '''\n",
        "    args:\n",
        "      in_channels: input image shape\n",
        "      hidden_units: numbers of filters\n",
        "      out_channels: number of classes in the data\n",
        "      actication_function: activation function of your choice\n",
        "    '''\n",
        "    super().__init__()\n",
        "    self.conv_block = nn.Sequential(\n",
        "        # Conv layer 1 with number of filter = hidden_units\n",
        "        nn.Conv2d(\n",
        "            in_channels = in_channels, \n",
        "            out_channels = hidden_units, \n",
        "            kernel_size = 3, # kernel size\n",
        "            stride = 1,\n",
        "            padding = 1\n",
        "          ),\n",
        "        activation_funtion,\n",
        "        # Conv layer 2\n",
        "        nn.Conv2d(\n",
        "            in_channels = hidden_units, \n",
        "            out_channels = hidden_units, \n",
        "            kernel_size = 3, # kernel size\n",
        "            stride = 1,\n",
        "            padding = 1\n",
        "        ),\n",
        "        activation_funtion,\n",
        "        # Conv layer 3\n",
        "        nn.Conv2d(\n",
        "            in_channels = hidden_units, \n",
        "            out_channels = hidden_units, \n",
        "            kernel_size = 3, # kernel size\n",
        "            stride = 1,\n",
        "            padding = 1\n",
        "        ),\n",
        "        activation_funtion,\n",
        "        # Conv layer 4\n",
        "        nn.Conv2d(\n",
        "            in_channels = hidden_units, \n",
        "            out_channels = hidden_units, \n",
        "            kernel_size = 3, # kernel size\n",
        "            stride = 1,\n",
        "            padding = 1\n",
        "        ),\n",
        "        activation_funtion,\n",
        "        # Conv layer 5\n",
        "        nn.Conv2d(\n",
        "            in_channels = hidden_units, \n",
        "            out_channels = hidden_units, \n",
        "            kernel_size = 3, # kernel size\n",
        "            stride = 1,\n",
        "            padding = 1\n",
        "        ),\n",
        "        activation_funtion,\n",
        "        # Conv layer 6\n",
        "        nn.Conv2d(\n",
        "            in_channels = hidden_units, \n",
        "            out_channels = hidden_units, \n",
        "            kernel_size = 3, # kernel size\n",
        "            stride = 1,\n",
        "            padding = 1\n",
        "        ),\n",
        "        activation_funtion,\n",
        "        # applying average pool\n",
        "        nn.AvgPool2d(\n",
        "            kernel_size = 2, # kernel size\n",
        "            stride=2\n",
        "        )\n",
        "    )\n",
        "    # applying xavier init. on weights\n",
        "    for _ in self.conv_block:\n",
        "      try:\n",
        "        nn.init.xavier_uniform_(_.weight)\n",
        "      except:\n",
        "        pass\n",
        "        # print(\"No Weight params found!!!\")\n",
        "    \n",
        "    self.fc_block = nn.Sequential(\n",
        "        nn.Flatten(),\n",
        "        nn.Linear(\n",
        "            in_features = hidden_units * 16 * 16,\n",
        "            out_features = 1024\n",
        "        ),\n",
        "        activation_funtion,\n",
        "        nn.Linear(\n",
        "            in_features = 1024,\n",
        "            out_features = out_channels\n",
        "            )\n",
        "    )\n",
        "    # applying xavier init. on weights\n",
        "    # print(self.fc_block)\n",
        "    nn.init.xavier_uniform_(self.fc_block[1].weight)\n",
        "    nn.init.xavier_uniform_(self.fc_block[3].weight)\n",
        "    \n",
        "    # applying dropout \n",
        "    self.dropout = nn.Dropout(0.25)\n",
        "\n",
        "  def forward(self,x:torch.Tensor):\n",
        "    x = self.conv_block(x)\n",
        "    # print(\"conv_block_out shape:\",x.shape)\n",
        "    x = self.dropout(x)\n",
        "    x = self.fc_block(x)\n",
        "    # print(\"fc_block_out_ shape:\",x.shape)\n",
        "    return x"
      ]
    },
    {
      "cell_type": "markdown",
      "metadata": {
        "id": "uqz9hqflF1YM"
      },
      "source": [
        "## Train Test Fucntions"
      ]
    },
    {
      "cell_type": "markdown",
      "metadata": {
        "id": "xPhYeiHbGGZs"
      },
      "source": [
        "### training step"
      ]
    },
    {
      "cell_type": "code",
      "execution_count": 11,
      "metadata": {
        "id": "_nBJj049F873"
      },
      "outputs": [],
      "source": [
        "def training_step(\n",
        "    model: nn.Module,\n",
        "    dataloader: torch.utils.data.DataLoader,\n",
        "    loss_fn: nn.Module,\n",
        "    acc_fn: torchmetrics.classification.accuracy.MulticlassAccuracy,\n",
        "    optimizer: torch.optim.Optimizer,\n",
        "    device: str\n",
        "    ):\n",
        "    \"\"\"\n",
        "    Desc:\n",
        "      funtion to perform traning step for one EPOCH\n",
        "\n",
        "    Args:\n",
        "      model (nn.Module): Pytorch model class object\n",
        "      dataloader (torch.utils.data.DataLoader): training dataloder from training dataset\n",
        "      loss_fn (nn.Module): Loss Function (object) of your choice\n",
        "      acc_fn (torchmetrics.classification.accuracy.MulticlassAccuracy): accuracy function from trochmetrics\n",
        "      optimizer (torch.optim.Optimizer): Optimizer Function (object) of your choice\n",
        "      device (str): Torch Device \"CPU/GPU\"\n",
        "    Returns:\n",
        "      train_loss (float), train_acc (float): training loss and training accuracy for one EPOCH\n",
        "    \"\"\"\n",
        "    model.train() # putting model in traing model\n",
        "\n",
        "    train_loss, train_acc = 0, 0 # initlizing loss and acc. for the epoch\n",
        "\n",
        "    for (X,y) in dataloader: # loop in batches\n",
        "      X,y = X.to(device), y.to(device) # sending the data to target device\n",
        "      # print(f\"shape of X: {X.shape}, shape of y: {y.shape}\")\n",
        "\n",
        "      # 1. forward pass\n",
        "      y_pred_logits = model(X)\n",
        "\n",
        "      # 2. calculate the loss\n",
        "      # print(\"shape of logits and ground truth\",y_pred_logits.shape,y.shape)\n",
        "      loss = loss_fn(y_pred_logits, y)\n",
        "      train_loss += loss.item()\n",
        "\n",
        "      # 3. optimizer zero grad\n",
        "      optimizer.zero_grad()\n",
        "\n",
        "      # 4. loss backword\n",
        "      loss.backward()\n",
        "\n",
        "      # 5. optimizer step\n",
        "      optimizer.step()\n",
        "      \n",
        "\n",
        "      # model_parms_after_forward_pass = np.array([x.detach().numpy() for x in model.parameters()])\n",
        "      # print(\"Model parms diff:\")\n",
        "      # print([(i,j) for (i,j) in zip(iter(model_parms_after_forward_pass),iter(model_parms_before_forward_pass))])\n",
        "      # print(model_parms_after_forward_pass - model_parms_before_forward_pass,sep=\"\\n\")\n",
        "      train_acc += acc_fn(y_pred_logits.argmax(dim = 1), y).item()\n",
        "\n",
        "    # 6. returning actual loss and acc.x\n",
        "    return train_loss/len(dataloader), train_acc/len(dataloader)\n"
      ]
    },
    {
      "cell_type": "markdown",
      "metadata": {
        "id": "i5vx3d6EGL2t"
      },
      "source": [
        "### testing step"
      ]
    },
    {
      "cell_type": "code",
      "execution_count": 12,
      "metadata": {
        "id": "J6dlo_UBGN37"
      },
      "outputs": [],
      "source": [
        "def testing_step(\n",
        "    model: nn.Module,\n",
        "    dataloader: torch.utils.data.DataLoader,\n",
        "    loss_fn: nn.Module,\n",
        "    acc_fn: torchmetrics.classification.accuracy.MulticlassAccuracy,\n",
        "    device: str\n",
        "    ):\n",
        "    \"\"\"\n",
        "    Desc:\n",
        "      funtion to perform testing step for one EPOCH\n",
        "\n",
        "    Args:\n",
        "      model (nn.Module): Pytorch model class object\n",
        "      dataloader (torch.utils.data.DataLoader): testing dataloder from training dataset\n",
        "      loss_fn (nn.Module): Loss Function (object) of your choice\n",
        "      acc_fn (torchmetrics.classification.accuracy.MulticlassAccuracy): accuracy function from trochmetrics\n",
        "      device (str): Torch Device \"CPU/GPU\"\n",
        "    Returns:\n",
        "      test_loss (float), test_acc (float): testing loss and testing accuracy for one EPOCH\n",
        "    \"\"\"\n",
        "    model.eval() # putting model in eval model\n",
        "\n",
        "    test_loss, test_acc = 0, 0 # initlizing loss and acc. for the epoch\n",
        "\n",
        "    with torch.inference_mode():\n",
        "      for (X,y) in dataloader: # loop in batches\n",
        "        X,y = X.to(device), y.to(device) # sending the data to target device\n",
        "        # print(f\"shape of X: {X.shape}, shape of y: {y.shape}\")\n",
        "\n",
        "        # 1. forward pass\n",
        "        y_pred_logits = model(X)\n",
        "\n",
        "        # 2. calculate the loss\n",
        "        loss = loss_fn(y_pred_logits, y)\n",
        "        test_loss += loss.item()\n",
        "\n",
        "        # 3. calculating accuracy\n",
        "        test_acc += acc_fn(y_pred_logits.argmax(dim = 1), y).item()\n",
        "\n",
        "    # 6. returning actual loss and acc.\n",
        "    return test_loss/len(dataloader), test_acc/len(dataloader)"
      ]
    },
    {
      "cell_type": "markdown",
      "metadata": {
        "id": "wpqoi2FvGWDn"
      },
      "source": [
        "### traing loop"
      ]
    },
    {
      "cell_type": "code",
      "execution_count": 13,
      "metadata": {
        "id": "D7_d4XEOG_lZ"
      },
      "outputs": [],
      "source": [
        "from tqdm.auto import tqdm\n",
        "\n",
        "def train(\n",
        "    model: nn.Module,\n",
        "    train_dataloader: torch.utils.data.DataLoader,\n",
        "    # train_dataloader_augmented: torch.utils.data.DataLoader,\n",
        "    test_dataloader: torch.utils.data.DataLoader,\n",
        "    loss_fn: nn.Module,\n",
        "    acc_fn: torchmetrics.classification.accuracy.MulticlassAccuracy,\n",
        "    optimizer: torch.optim.Optimizer,\n",
        "    epochs: int,\n",
        "  ):\n",
        "  \"\"\"\n",
        "    Desc:\n",
        "      funtion to perform training for one {epochs} param\n",
        "\n",
        "    Args:\n",
        "      model (nn.Module): Pytorch model class object\n",
        "      train_dataloader (torch.utils.data.DataLoader): training dataloder from training dataset with augmented data\n",
        "      # train_dataloader_augmented (torch.utils.data.DataLoader): training dataloder from training dataset of augmented data\n",
        "      test_dataloader (torch.utils.data.DataLoader): testing dataloder from testing dataset\n",
        "      loss_fn (nn.Module): Loss Function (object) of your choice\n",
        "      acc_fn (torchmetrics.classification.accuracy.MulticlassAccuracy): accuracy function from trochmetrics\n",
        "      device (str): Torch Device \"CPU/GPU\"\n",
        "    Returns:\n",
        "      result_dict ({str: List[float]}): testing loss and testing accuracy for one EPOCH\n",
        "  \"\"\"\n",
        "  # 1. init. result dict\n",
        "  result_dict = {\n",
        "      \"train_loss\": [],\n",
        "      \"train_acc\": [],\n",
        "      \"test_loss\": [],\n",
        "      \"test_acc\": []\n",
        "    }\n",
        "  \n",
        "  # 2. loop in range epochs performs train and test steps on the model\n",
        "  for epoch in tqdm(range(epochs)):\n",
        "    train_loss, train_acc = training_step(\n",
        "                                            model=model,\n",
        "                                            dataloader=train_dataloader,\n",
        "                                            loss_fn=loss_fn,\n",
        "                                            acc_fn=acc_fn,\n",
        "                                            optimizer=optimizer,\n",
        "                                            device=device\n",
        "                                          )\n",
        "    \n",
        "    # train_loss, train_acc = training_step(\n",
        "    #                                         model=model,\n",
        "    #                                         dataloader=train_dataloader_augmented,\n",
        "    #                                         loss_fn=loss_fn,\n",
        "    #                                         acc_fn=acc_fn,\n",
        "    #                                         optimizer=optimizer,\n",
        "    #                                         device=device\n",
        "    #                                       )\n",
        "\n",
        "    test_loss, test_acc = testing_step(\n",
        "                                        model=model,\n",
        "                                        dataloader=test_dataloader,\n",
        "                                        loss_fn=loss_fn,\n",
        "                                        acc_fn=acc_fn,\n",
        "                                        device=device\n",
        "                                      )\n",
        "  \n",
        "  # 3. print out results\n",
        "    print(\n",
        "              f\"Epoch: {epoch+1} | \"\n",
        "              f\"train_loss: {train_loss:.4f} | \"\n",
        "              f\"train_acc: {train_acc:.4f} | \"\n",
        "              f\"test_loss: {test_loss:.4f} | \"\n",
        "              f\"test_acc: {test_acc:.4f}\"\n",
        "          )\n",
        "    \n",
        "  # 4. adding results to result_dict\n",
        "    result_dict[\"train_loss\"].append(train_loss)\n",
        "    result_dict[\"train_acc\"].append(train_acc)\n",
        "    result_dict[\"test_loss\"].append(test_loss)\n",
        "    result_dict[\"test_acc\"].append(test_acc)\n",
        "\n",
        "  # 5. return result dict\n",
        "  return result_dict"
      ]
    },
    {
      "cell_type": "markdown",
      "metadata": {
        "id": "0GuROqaAJVAA"
      },
      "source": [
        "## Plot loss and acc. curves funtion"
      ]
    },
    {
      "cell_type": "code",
      "execution_count": 14,
      "metadata": {
        "id": "vslBKuseJaGs"
      },
      "outputs": [],
      "source": [
        "from typing import Dict,List\n",
        "\n",
        "def plot_loss_curves(results: Dict[str, List[float]]):\n",
        "    \"\"\"\n",
        "    Desc:\n",
        "      Plots curves of a results dictionary.\n",
        "\n",
        "    Args:\n",
        "        results (dict): dictionary containing list of values, e.g.\n",
        "            {\n",
        "              \"train_loss\": [...],\n",
        "              \"train_acc\": [...],\n",
        "              \"test_loss\": [...],\n",
        "              \"test_acc\": [...]\n",
        "            }\n",
        "    \"\"\"\n",
        "    \n",
        "    # Get the loss values of the results dictionary (training and test)\n",
        "    loss = results['train_loss']\n",
        "    test_loss = results['test_loss']\n",
        "\n",
        "    # Get the accuracy values of the results dictionary (training and test)\n",
        "    accuracy = results['train_acc']\n",
        "    test_accuracy = results['test_acc']\n",
        "\n",
        "    # Figure out how many epochs there were\n",
        "    epochs = range(len(results['train_loss']))\n",
        "\n",
        "    # Setup a plot \n",
        "    plt.figure(figsize=(15, 7))\n",
        "\n",
        "    # Plot loss\n",
        "    plt.subplot(1, 2, 1)\n",
        "    plt.plot(epochs, loss, label='train_loss')\n",
        "    plt.plot(epochs, test_loss, label='test_loss')\n",
        "    plt.title('Loss')\n",
        "    plt.xlabel('Epochs')\n",
        "    plt.legend()\n",
        "\n",
        "    # Plot accuracy\n",
        "    plt.subplot(1, 2, 2)\n",
        "    plt.plot(epochs, accuracy, label='train_accuracy')\n",
        "    plt.plot(epochs, test_accuracy, label='test_accuracy')\n",
        "    plt.title('Accuracy')\n",
        "    plt.xlabel('Epochs')\n",
        "    plt.legend()\n",
        "    plt.show()"
      ]
    },
    {
      "cell_type": "markdown",
      "metadata": {
        "id": "zu9dAeFPIeD3"
      },
      "source": [
        "## Model Defination and training"
      ]
    },
    {
      "cell_type": "code",
      "execution_count": 15,
      "metadata": {
        "colab": {
          "base_uri": "https://localhost:8080/"
        },
        "id": "FciexHia9SyM",
        "outputId": "5eb1b207-55cc-40a7-9b26-2bac02a1492f"
      },
      "outputs": [
        {
          "name": "stdout",
          "output_type": "stream",
          "text": [
            "{'airplane': 0, 'automobile': 1, 'bird': 2, 'cat': 3, 'deer': 4, 'dog': 5, 'frog': 6, 'horse': 7, 'ship': 8, 'truck': 9}\n"
          ]
        }
      ],
      "source": [
        "class_names = test_dataloader.dataset.dataset.class_to_idx\n",
        "print(class_names)\n",
        "class_names = class_names.items()"
      ]
    },
    {
      "cell_type": "code",
      "execution_count": 16,
      "metadata": {
        "id": "QsEx2gm-IjSf"
      },
      "outputs": [
        {
          "data": {
            "text/plain": [
              "CustomArch(\n",
              "  (conv_block): Sequential(\n",
              "    (0): Conv2d(3, 12, kernel_size=(3, 3), stride=(1, 1), padding=(1, 1))\n",
              "    (1): ReLU()\n",
              "    (2): Conv2d(12, 12, kernel_size=(3, 3), stride=(1, 1), padding=(1, 1))\n",
              "    (3): ReLU()\n",
              "    (4): Conv2d(12, 12, kernel_size=(3, 3), stride=(1, 1), padding=(1, 1))\n",
              "    (5): ReLU()\n",
              "    (6): Conv2d(12, 12, kernel_size=(3, 3), stride=(1, 1), padding=(1, 1))\n",
              "    (7): ReLU()\n",
              "    (8): Conv2d(12, 12, kernel_size=(3, 3), stride=(1, 1), padding=(1, 1))\n",
              "    (9): ReLU()\n",
              "    (10): Conv2d(12, 12, kernel_size=(3, 3), stride=(1, 1), padding=(1, 1))\n",
              "    (11): ReLU()\n",
              "    (12): AvgPool2d(kernel_size=2, stride=2, padding=0)\n",
              "  )\n",
              "  (fc_block): Sequential(\n",
              "    (0): Flatten(start_dim=1, end_dim=-1)\n",
              "    (1): Linear(in_features=3072, out_features=1024, bias=True)\n",
              "    (2): ReLU()\n",
              "    (3): Linear(in_features=1024, out_features=10, bias=True)\n",
              "  )\n",
              "  (dropout): Dropout(p=0.25, inplace=False)\n",
              ")"
            ]
          },
          "execution_count": 16,
          "metadata": {},
          "output_type": "execute_result"
        }
      ],
      "source": [
        "model_0 = CustomArch(\n",
        "    in_channels = 3,\n",
        "    hidden_units = 12, # number of filters\n",
        "    out_channels = len(class_names),\n",
        "    activation_funtion = nn.ReLU(),\n",
        ").to(device)\n",
        "\n",
        "model_0"
      ]
    },
    {
      "cell_type": "code",
      "execution_count": 17,
      "metadata": {
        "colab": {
          "base_uri": "https://localhost:8080/"
        },
        "id": "HV3ymhkiMvDo",
        "outputId": "7194f4ec-933d-433c-9cbd-4f7bc56e6bc6"
      },
      "outputs": [
        {
          "data": {
            "text/plain": [
              "==========================================================================================\n",
              "Layer (type:depth-idx)                   Output Shape              Param #\n",
              "==========================================================================================\n",
              "CustomArch                               [32, 10]                  --\n",
              "├─Sequential: 1-1                        [32, 12, 16, 16]          6,540\n",
              "│    └─Conv2d: 2-1                       [32, 12, 32, 32]          336\n",
              "├─Sequential: 1-12                       --                        (recursive)\n",
              "│    └─ReLU: 2-2                         [32, 12, 32, 32]          --\n",
              "├─Sequential: 1-13                       --                        (recursive)\n",
              "│    └─Conv2d: 2-3                       [32, 12, 32, 32]          1,308\n",
              "├─Sequential: 1-12                       --                        (recursive)\n",
              "│    └─ReLU: 2-4                         [32, 12, 32, 32]          --\n",
              "├─Sequential: 1-13                       --                        (recursive)\n",
              "│    └─Conv2d: 2-5                       [32, 12, 32, 32]          1,308\n",
              "├─Sequential: 1-12                       --                        (recursive)\n",
              "│    └─ReLU: 2-6                         [32, 12, 32, 32]          --\n",
              "├─Sequential: 1-13                       --                        (recursive)\n",
              "│    └─Conv2d: 2-7                       [32, 12, 32, 32]          1,308\n",
              "├─Sequential: 1-12                       --                        (recursive)\n",
              "│    └─ReLU: 2-8                         [32, 12, 32, 32]          --\n",
              "├─Sequential: 1-13                       --                        (recursive)\n",
              "│    └─Conv2d: 2-9                       [32, 12, 32, 32]          1,308\n",
              "├─Sequential: 1-12                       --                        (recursive)\n",
              "│    └─ReLU: 2-10                        [32, 12, 32, 32]          --\n",
              "├─Sequential: 1-13                       --                        (recursive)\n",
              "│    └─Conv2d: 2-11                      [32, 12, 32, 32]          1,308\n",
              "├─Sequential: 1-12                       --                        (recursive)\n",
              "│    └─ReLU: 2-12                        [32, 12, 32, 32]          --\n",
              "├─Sequential: 1-13                       --                        (recursive)\n",
              "│    └─AvgPool2d: 2-13                   [32, 12, 16, 16]          --\n",
              "├─Dropout: 1-14                          [32, 12, 16, 16]          --\n",
              "├─Sequential: 1-15                       [32, 10]                  --\n",
              "│    └─Flatten: 2-14                     [32, 3072]                --\n",
              "│    └─Linear: 2-15                      [32, 1024]                3,146,752\n",
              "│    └─ReLU: 2-16                        [32, 1024]                --\n",
              "│    └─Linear: 2-17                      [32, 10]                  10,250\n",
              "==========================================================================================\n",
              "Total params: 3,170,418\n",
              "Trainable params: 3,170,418\n",
              "Non-trainable params: 0\n",
              "Total mult-adds (M): 326.34\n",
              "==========================================================================================\n",
              "Input size (MB): 0.39\n",
              "Forward/backward pass size (MB): 19.14\n",
              "Params size (MB): 12.66\n",
              "Estimated Total Size (MB): 32.19\n",
              "=========================================================================================="
            ]
          },
          "execution_count": 17,
          "metadata": {},
          "output_type": "execute_result"
        }
      ],
      "source": [
        "# Install torchinfo if it's not available, import it if it is\n",
        "try: \n",
        "    import torchinfo\n",
        "except:\n",
        "    !pip -q install torchinfo\n",
        "    import torchinfo\n",
        "    \n",
        "from torchinfo import summary\n",
        "summary(model_0, input_size=[32, 3, 32, 32]) # do a test pass through of an example input size "
      ]
    },
    {
      "cell_type": "code",
      "execution_count": 18,
      "metadata": {
        "colab": {
          "base_uri": "https://localhost:8080/",
          "height": 228,
          "referenced_widgets": [
            "35ac408c6f8d406c9d686222a6c1ba49",
            "4292540bc3a64e919b87ca009764219d",
            "7e82e640c0764097912f684f685b41fa",
            "01a69274e8bc4cefb62c809ef48f2652",
            "4c4cd902f2dd48a2b7650ed8997bf298",
            "a6e4b5ab18214cd2a8dfd760488f647c",
            "2d62327e2cca4c31a3442370c7e57f90",
            "2031ecda270d41a581ff26d5d701ef53",
            "13e030bb989e43e387d3b0a49dc2b5e8",
            "536c97278ed3426987feaa7b61a77069",
            "aed2eb6ed4474ff28835c8fddc1966c1"
          ]
        },
        "id": "yqL6JDXuKg7m",
        "outputId": "0ea5c70d-80a5-4c89-c8b4-47dd4fb16f54"
      },
      "outputs": [
        {
          "data": {
            "application/vnd.jupyter.widget-view+json": {
              "model_id": "941bd284de9340c5966b17d52427d9ba",
              "version_major": 2,
              "version_minor": 0
            },
            "text/plain": [
              "  0%|          | 0/30 [00:00<?, ?it/s]"
            ]
          },
          "metadata": {},
          "output_type": "display_data"
        },
        {
          "name": "stdout",
          "output_type": "stream",
          "text": [
            "Epoch: 1 | train_loss: 1.0090 | train_acc: 0.2873 | test_loss: 0.7794 | test_acc: 0.3421\n",
            "Epoch: 2 | train_loss: 0.6840 | train_acc: 0.3660 | test_loss: 0.6886 | test_acc: 0.3612\n",
            "Epoch: 3 | train_loss: 0.5064 | train_acc: 0.4039 | test_loss: 0.6278 | test_acc: 0.3822\n",
            "Epoch: 4 | train_loss: 0.3611 | train_acc: 0.4326 | test_loss: 0.7132 | test_acc: 0.3850\n",
            "Epoch: 5 | train_loss: 0.2619 | train_acc: 0.4536 | test_loss: 0.6753 | test_acc: 0.3897\n",
            "Epoch: 6 | train_loss: 0.2031 | train_acc: 0.4635 | test_loss: 0.7997 | test_acc: 0.3847\n",
            "Epoch: 7 | train_loss: 0.1702 | train_acc: 0.4691 | test_loss: 0.8322 | test_acc: 0.3886\n",
            "Epoch: 8 | train_loss: 0.1494 | train_acc: 0.4729 | test_loss: 0.8881 | test_acc: 0.3831\n",
            "Epoch: 9 | train_loss: 0.1352 | train_acc: 0.4764 | test_loss: 0.7970 | test_acc: 0.3894\n",
            "Epoch: 10 | train_loss: 0.1291 | train_acc: 0.4770 | test_loss: 0.8693 | test_acc: 0.3910\n",
            "Epoch: 11 | train_loss: 0.1182 | train_acc: 0.4794 | test_loss: 0.9126 | test_acc: 0.3885\n",
            "Epoch: 12 | train_loss: 0.1098 | train_acc: 0.4807 | test_loss: 0.9615 | test_acc: 0.3904\n",
            "Epoch: 13 | train_loss: 0.1021 | train_acc: 0.4819 | test_loss: 0.9145 | test_acc: 0.3931\n",
            "Epoch: 14 | train_loss: 0.1052 | train_acc: 0.4814 | test_loss: 0.8795 | test_acc: 0.3903\n",
            "Epoch: 15 | train_loss: 0.0965 | train_acc: 0.4829 | test_loss: 0.8869 | test_acc: 0.3906\n",
            "Epoch: 16 | train_loss: 0.0930 | train_acc: 0.4835 | test_loss: 0.8540 | test_acc: 0.3875\n",
            "Epoch: 17 | train_loss: 0.0896 | train_acc: 0.4845 | test_loss: 0.8324 | test_acc: 0.3902\n",
            "Epoch: 18 | train_loss: 0.0845 | train_acc: 0.4851 | test_loss: 0.9085 | test_acc: 0.3936\n",
            "Epoch: 19 | train_loss: 0.0827 | train_acc: 0.4856 | test_loss: 0.9763 | test_acc: 0.3896\n",
            "Epoch: 20 | train_loss: 0.0841 | train_acc: 0.4854 | test_loss: 1.0483 | test_acc: 0.3914\n",
            "Epoch: 21 | train_loss: 0.0807 | train_acc: 0.4860 | test_loss: 0.9452 | test_acc: 0.3921\n",
            "Epoch: 22 | train_loss: 0.0806 | train_acc: 0.4863 | test_loss: 0.9445 | test_acc: 0.3905\n",
            "Epoch: 23 | train_loss: 0.0765 | train_acc: 0.4865 | test_loss: 0.9742 | test_acc: 0.3899\n",
            "Epoch: 24 | train_loss: 0.0757 | train_acc: 0.4866 | test_loss: 0.9944 | test_acc: 0.3914\n",
            "Epoch: 25 | train_loss: 0.0751 | train_acc: 0.4870 | test_loss: 0.9584 | test_acc: 0.3926\n",
            "Epoch: 26 | train_loss: 0.0758 | train_acc: 0.4870 | test_loss: 0.9082 | test_acc: 0.3946\n",
            "Epoch: 27 | train_loss: 0.0731 | train_acc: 0.4876 | test_loss: 1.0113 | test_acc: 0.3896\n",
            "Epoch: 28 | train_loss: 0.0707 | train_acc: 0.4874 | test_loss: 1.0020 | test_acc: 0.3896\n",
            "Epoch: 29 | train_loss: 0.0695 | train_acc: 0.4877 | test_loss: 0.9678 | test_acc: 0.3909\n",
            "Epoch: 30 | train_loss: 0.0671 | train_acc: 0.4882 | test_loss: 0.9172 | test_acc: 0.3913\n",
            "total training time: 491.051 sec.\n"
          ]
        }
      ],
      "source": [
        "# init. epochs\n",
        "NUM_EPOCHS = 30\n",
        "\n",
        "# init. loss function, accuracy function and optimizer\n",
        "loss_fn = nn.CrossEntropyLoss()\n",
        "acc_fn = MulticlassAccuracy(num_classes=len(class_names)).to(device=device)\n",
        "optimizer = torch.optim.Adam(params=model_0.parameters(), lr=1e-3, weight_decay=1e-5)\n",
        "\n",
        "# importing and init. the timer for checking model training time\n",
        "from timeit import default_timer as timer\n",
        "start_time = timer()\n",
        "\n",
        "# train model\n",
        "model_0_results = train(model=model_0, \n",
        "                        train_dataloader=train_dataloader,\n",
        "                        test_dataloader=test_dataloader,\n",
        "                        optimizer=optimizer,\n",
        "                        loss_fn=loss_fn, \n",
        "                        acc_fn=acc_fn,\n",
        "                        epochs=NUM_EPOCHS)\n",
        "\n",
        "# end timer\n",
        "end_time = timer()\n",
        "# printing time taken\n",
        "print(f\"total training time: {end_time-start_time:.3f} sec.\")\n",
        "# print(\"model stats:\")\n",
        "# print(model_0_results)"
      ]
    },
    {
      "cell_type": "code",
      "execution_count": 19,
      "metadata": {
        "id": "zph4SRSCXDcw"
      },
      "outputs": [
        {
          "data": {
            "image/png": "[encoded data removed]",
            "text/plain": [
              "<Figure size 1500x700 with 2 Axes>"
            ]
          },
          "metadata": {},
          "output_type": "display_data"
        }
      ],
      "source": [
        "plot_loss_curves(model_0_results)"
      ]
    },
    {
      "attachments": {},
      "cell_type": "markdown",
      "metadata": {},
      "source": [
        "## ----------------------------------- model_exp. -----------------------------------"
      ]
    },
    {
      "cell_type": "code",
      "execution_count": 20,
      "metadata": {},
      "outputs": [
        {
          "data": {
            "text/plain": [
              "CustomArchNoCNN(\n",
              "  (block_1): Sequential(\n",
              "    (0): Flatten(start_dim=1, end_dim=-1)\n",
              "    (1): Linear(in_features=3072, out_features=1024, bias=True)\n",
              "    (2): ReLU()\n",
              "    (3): Linear(in_features=1024, out_features=1024, bias=True)\n",
              "    (4): ReLU()\n",
              "    (5): Linear(in_features=1024, out_features=1024, bias=True)\n",
              "    (6): ReLU()\n",
              "  )\n",
              "  (fc_block): Sequential(\n",
              "    (0): Linear(in_features=1024, out_features=1024, bias=True)\n",
              "    (1): ReLU()\n",
              "    (2): Linear(in_features=1024, out_features=10, bias=True)\n",
              "  )\n",
              "  (dropout): Dropout(p=0.5, inplace=False)\n",
              ")"
            ]
          },
          "execution_count": 20,
          "metadata": {},
          "output_type": "execute_result"
        }
      ],
      "source": [
        "model_1 = CustomArchNoCNN(\n",
        "    nn.ReLU(),\n",
        ").to(device)\n",
        "model_1"
      ]
    },
    {
      "cell_type": "code",
      "execution_count": 21,
      "metadata": {},
      "outputs": [
        {
          "data": {
            "application/vnd.jupyter.widget-view+json": {
              "model_id": "72347ac493d44389a8ac3571d9432065",
              "version_major": 2,
              "version_minor": 0
            },
            "text/plain": [
              "  0%|          | 0/30 [00:00<?, ?it/s]"
            ]
          },
          "metadata": {},
          "output_type": "display_data"
        },
        {
          "name": "stdout",
          "output_type": "stream",
          "text": [
            "Epoch: 1 | train_loss: 1.2229 | train_acc: 0.2419 | test_loss: 1.1269 | test_acc: 0.2700\n",
            "Epoch: 2 | train_loss: 1.0815 | train_acc: 0.2778 | test_loss: 1.0253 | test_acc: 0.2858\n",
            "Epoch: 3 | train_loss: 1.0128 | train_acc: 0.2942 | test_loss: 1.0099 | test_acc: 0.2883\n",
            "Epoch: 4 | train_loss: 0.9555 | train_acc: 0.3060 | test_loss: 0.9903 | test_acc: 0.2982\n",
            "Epoch: 5 | train_loss: 0.9122 | train_acc: 0.3161 | test_loss: 0.9925 | test_acc: 0.2988\n",
            "Epoch: 6 | train_loss: 0.8705 | train_acc: 0.3258 | test_loss: 0.9187 | test_acc: 0.3193\n",
            "Epoch: 7 | train_loss: 0.8283 | train_acc: 0.3330 | test_loss: 0.9192 | test_acc: 0.3192\n",
            "Epoch: 8 | train_loss: 0.7909 | train_acc: 0.3425 | test_loss: 0.9213 | test_acc: 0.3163\n",
            "Epoch: 9 | train_loss: 0.7526 | train_acc: 0.3492 | test_loss: 0.8988 | test_acc: 0.3244\n",
            "Epoch: 10 | train_loss: 0.7206 | train_acc: 0.3568 | test_loss: 0.9345 | test_acc: 0.3202\n",
            "Epoch: 11 | train_loss: 0.6822 | train_acc: 0.3638 | test_loss: 0.9354 | test_acc: 0.3267\n",
            "Epoch: 12 | train_loss: 0.6394 | train_acc: 0.3739 | test_loss: 0.9420 | test_acc: 0.3298\n",
            "Epoch: 13 | train_loss: 0.6053 | train_acc: 0.3805 | test_loss: 0.9839 | test_acc: 0.3292\n",
            "Epoch: 14 | train_loss: 0.5741 | train_acc: 0.3871 | test_loss: 0.9710 | test_acc: 0.3274\n",
            "Epoch: 15 | train_loss: 0.5316 | train_acc: 0.3951 | test_loss: 1.0064 | test_acc: 0.3312\n",
            "Epoch: 16 | train_loss: 0.5019 | train_acc: 0.4020 | test_loss: 1.0908 | test_acc: 0.3268\n",
            "Epoch: 17 | train_loss: 0.4642 | train_acc: 0.4083 | test_loss: 1.1282 | test_acc: 0.3279\n",
            "Epoch: 18 | train_loss: 0.4354 | train_acc: 0.4140 | test_loss: 1.1233 | test_acc: 0.3303\n",
            "Epoch: 19 | train_loss: 0.4029 | train_acc: 0.4222 | test_loss: 1.2097 | test_acc: 0.3292\n",
            "Epoch: 20 | train_loss: 0.3781 | train_acc: 0.4258 | test_loss: 1.2410 | test_acc: 0.3297\n",
            "Epoch: 21 | train_loss: 0.3495 | train_acc: 0.4328 | test_loss: 1.2873 | test_acc: 0.3278\n",
            "Epoch: 22 | train_loss: 0.3258 | train_acc: 0.4378 | test_loss: 1.4131 | test_acc: 0.3309\n",
            "Epoch: 23 | train_loss: 0.3038 | train_acc: 0.4421 | test_loss: 1.4511 | test_acc: 0.3278\n",
            "Epoch: 24 | train_loss: 0.2882 | train_acc: 0.4449 | test_loss: 1.4259 | test_acc: 0.3354\n",
            "Epoch: 25 | train_loss: 0.2662 | train_acc: 0.4484 | test_loss: 1.4171 | test_acc: 0.3297\n",
            "Epoch: 26 | train_loss: 0.2527 | train_acc: 0.4519 | test_loss: 1.4719 | test_acc: 0.3329\n",
            "Epoch: 27 | train_loss: 0.2370 | train_acc: 0.4547 | test_loss: 1.5867 | test_acc: 0.3299\n",
            "Epoch: 28 | train_loss: 0.2320 | train_acc: 0.4562 | test_loss: 1.5199 | test_acc: 0.3356\n",
            "Epoch: 29 | train_loss: 0.2126 | train_acc: 0.4593 | test_loss: 1.6236 | test_acc: 0.3307\n",
            "Epoch: 30 | train_loss: 0.2058 | train_acc: 0.4620 | test_loss: 1.6578 | test_acc: 0.3312\n",
            "total training time: 362.087 sec.\n"
          ]
        }
      ],
      "source": [
        "# init. epochs\n",
        "NUM_EPOCHS = 30\n",
        "\n",
        "# init. loss function, accuracy function and optimizer\n",
        "loss_fn = nn.CrossEntropyLoss()\n",
        "acc_fn = MulticlassAccuracy(num_classes=len(class_names)).to(device=device)\n",
        "optimizer = torch.optim.Adam(params=model_1.parameters(), lr=1e-4, weight_decay=1e-5)\n",
        "\n",
        "# importing and init. the timer for checking model training time\n",
        "from timeit import default_timer as timer\n",
        "start_time = timer()\n",
        "\n",
        "# train model\n",
        "model_1_results = train(model=model_1, \n",
        "                        train_dataloader=train_dataloader,\n",
        "                        test_dataloader=test_dataloader,\n",
        "                        optimizer=optimizer,\n",
        "                        loss_fn=loss_fn, \n",
        "                        acc_fn=acc_fn,\n",
        "                        epochs=NUM_EPOCHS)\n",
        "\n",
        "# end timer\n",
        "end_time = timer()\n",
        "# printing time taken\n",
        "print(f\"total training time: {end_time-start_time:.3f} sec.\")\n",
        "# print(\"model stats:\")\n",
        "# print(model_1_results)"
      ]
    },
    {
      "cell_type": "code",
      "execution_count": 22,
      "metadata": {},
      "outputs": [
        {
          "data": {
            "image/png": "[encoded data removed]",
            "text/plain": [
              "<Figure size 1500x700 with 2 Axes>"
            ]
          },
          "metadata": {},
          "output_type": "display_data"
        }
      ],
      "source": [
        "plot_loss_curves(model_1_results)"
      ]
    }
  ],
  "metadata": {
    "accelerator": "GPU",
    "colab": {
      "provenance": []
    },
    "gpuClass": "standard",
    "kernelspec": {
      "display_name": "bikash",
      "language": "python",
      "name": "python3"
    },
    "language_info": {
      "codemirror_mode": {
        "name": "ipython",
        "version": 3
      },
      "file_extension": ".py",
      "mimetype": "text/x-python",
      "name": "python",
      "nbconvert_exporter": "python",
      "pygments_lexer": "ipython3",
      "version": "3.10.9"
    },
    "vscode": {
      "interpreter": {
        "hash": "03fa9ab8dee7f6d4068b8990f5349af33774139a3a67650fc9428a052da813d2"
      }
    },
    "widgets": {
      "application/vnd.jupyter.widget-state+json": {
        "01a69274e8bc4cefb62c809ef48f2652": {
          "model_module": "@jupyter-widgets/controls",
          "model_module_version": "1.5.0",
          "model_name": "HTMLModel",
          "state": {
            "_dom_classes": [],
            "_model_module": "@jupyter-widgets/controls",
            "_model_module_version": "1.5.0",
            "_model_name": "HTMLModel",
            "_view_count": null,
            "_view_module": "@jupyter-widgets/controls",
            "_view_module_version": "1.5.0",
            "_view_name": "HTMLView",
            "description": "",
            "description_tooltip": null,
            "layout": "IPY_MODEL_536c97278ed3426987feaa7b61a77069",
            "placeholder": "​",
            "style": "IPY_MODEL_aed2eb6ed4474ff28835c8fddc1966c1",
            "value": " 10/30 [25:50&lt;51:07, 153.40s/it]"
          }
        },
        "13e030bb989e43e387d3b0a49dc2b5e8": {
          "model_module": "@jupyter-widgets/controls",
          "model_module_version": "1.5.0",
          "model_name": "ProgressStyleModel",
          "state": {
            "_model_module": "@jupyter-widgets/controls",
            "_model_module_version": "1.5.0",
            "_model_name": "ProgressStyleModel",
            "_view_count": null,
            "_view_module": "@jupyter-widgets/base",
            "_view_module_version": "1.2.0",
            "_view_name": "StyleView",
            "bar_color": null,
            "description_width": ""
          }
        },
        "1f4de2a4b39c4e4a84ad7b094d626e28": {
          "model_module": "@jupyter-widgets/base",
          "model_module_version": "1.2.0",
          "model_name": "LayoutModel",
          "state": {
            "_model_module": "@jupyter-widgets/base",
            "_model_module_version": "1.2.0",
            "_model_name": "LayoutModel",
            "_view_count": null,
            "_view_module": "@jupyter-widgets/base",
            "_view_module_version": "1.2.0",
            "_view_name": "LayoutView",
            "align_content": null,
            "align_items": null,
            "align_self": null,
            "border": null,
            "bottom": null,
            "display": null,
            "flex": null,
            "flex_flow": null,
            "grid_area": null,
            "grid_auto_columns": null,
            "grid_auto_flow": null,
            "grid_auto_rows": null,
            "grid_column": null,
            "grid_gap": null,
            "grid_row": null,
            "grid_template_areas": null,
            "grid_template_columns": null,
            "grid_template_rows": null,
            "height": null,
            "justify_content": null,
            "justify_items": null,
            "left": null,
            "margin": null,
            "max_height": null,
            "max_width": null,
            "min_height": null,
            "min_width": null,
            "object_fit": null,
            "object_position": null,
            "order": null,
            "overflow": null,
            "overflow_x": null,
            "overflow_y": null,
            "padding": null,
            "right": null,
            "top": null,
            "visibility": null,
            "width": null
          }
        },
        "2031ecda270d41a581ff26d5d701ef53": {
          "model_module": "@jupyter-widgets/base",
          "model_module_version": "1.2.0",
          "model_name": "LayoutModel",
          "state": {
            "_model_module": "@jupyter-widgets/base",
            "_model_module_version": "1.2.0",
            "_model_name": "LayoutModel",
            "_view_count": null,
            "_view_module": "@jupyter-widgets/base",
            "_view_module_version": "1.2.0",
            "_view_name": "LayoutView",
            "align_content": null,
            "align_items": null,
            "align_self": null,
            "border": null,
            "bottom": null,
            "display": null,
            "flex": null,
            "flex_flow": null,
            "grid_area": null,
            "grid_auto_columns": null,
            "grid_auto_flow": null,
            "grid_auto_rows": null,
            "grid_column": null,
            "grid_gap": null,
            "grid_row": null,
            "grid_template_areas": null,
            "grid_template_columns": null,
            "grid_template_rows": null,
            "height": null,
            "justify_content": null,
            "justify_items": null,
            "left": null,
            "margin": null,
            "max_height": null,
            "max_width": null,
            "min_height": null,
            "min_width": null,
            "object_fit": null,
            "object_position": null,
            "order": null,
            "overflow": null,
            "overflow_x": null,
            "overflow_y": null,
            "padding": null,
            "right": null,
            "top": null,
            "visibility": null,
            "width": null
          }
        },
        "2d62327e2cca4c31a3442370c7e57f90": {
          "model_module": "@jupyter-widgets/controls",
          "model_module_version": "1.5.0",
          "model_name": "DescriptionStyleModel",
          "state": {
            "_model_module": "@jupyter-widgets/controls",
            "_model_module_version": "1.5.0",
            "_model_name": "DescriptionStyleModel",
            "_view_count": null,
            "_view_module": "@jupyter-widgets/base",
            "_view_module_version": "1.2.0",
            "_view_name": "StyleView",
            "description_width": ""
          }
        },
        "30049721ee0b47a18a327f2984c2625a": {
          "model_module": "@jupyter-widgets/controls",
          "model_module_version": "1.5.0",
          "model_name": "HTMLModel",
          "state": {
            "_dom_classes": [],
            "_model_module": "@jupyter-widgets/controls",
            "_model_module_version": "1.5.0",
            "_model_name": "HTMLModel",
            "_view_count": null,
            "_view_module": "@jupyter-widgets/controls",
            "_view_module_version": "1.5.0",
            "_view_name": "HTMLView",
            "description": "",
            "description_tooltip": null,
            "layout": "IPY_MODEL_1f4de2a4b39c4e4a84ad7b094d626e28",
            "placeholder": "​",
            "style": "IPY_MODEL_a7cb121abe9c48549fb0c6f046a9d88a",
            "value": "100%"
          }
        },
        "302d0493efae41d48f4a9823d9d818e0": {
          "model_module": "@jupyter-widgets/base",
          "model_module_version": "1.2.0",
          "model_name": "LayoutModel",
          "state": {
            "_model_module": "@jupyter-widgets/base",
            "_model_module_version": "1.2.0",
            "_model_name": "LayoutModel",
            "_view_count": null,
            "_view_module": "@jupyter-widgets/base",
            "_view_module_version": "1.2.0",
            "_view_name": "LayoutView",
            "align_content": null,
            "align_items": null,
            "align_self": null,
            "border": null,
            "bottom": null,
            "display": null,
            "flex": null,
            "flex_flow": null,
            "grid_area": null,
            "grid_auto_columns": null,
            "grid_auto_flow": null,
            "grid_auto_rows": null,
            "grid_column": null,
            "grid_gap": null,
            "grid_row": null,
            "grid_template_areas": null,
            "grid_template_columns": null,
            "grid_template_rows": null,
            "height": null,
            "justify_content": null,
            "justify_items": null,
            "left": null,
            "margin": null,
            "max_height": null,
            "max_width": null,
            "min_height": null,
            "min_width": null,
            "object_fit": null,
            "object_position": null,
            "order": null,
            "overflow": null,
            "overflow_x": null,
            "overflow_y": null,
            "padding": null,
            "right": null,
            "top": null,
            "visibility": null,
            "width": null
          }
        },
        "35ac408c6f8d406c9d686222a6c1ba49": {
          "model_module": "@jupyter-widgets/controls",
          "model_module_version": "1.5.0",
          "model_name": "HBoxModel",
          "state": {
            "_dom_classes": [],
            "_model_module": "@jupyter-widgets/controls",
            "_model_module_version": "1.5.0",
            "_model_name": "HBoxModel",
            "_view_count": null,
            "_view_module": "@jupyter-widgets/controls",
            "_view_module_version": "1.5.0",
            "_view_name": "HBoxView",
            "box_style": "",
            "children": [
              "IPY_MODEL_4292540bc3a64e919b87ca009764219d",
              "IPY_MODEL_7e82e640c0764097912f684f685b41fa",
              "IPY_MODEL_01a69274e8bc4cefb62c809ef48f2652"
            ],
            "layout": "IPY_MODEL_4c4cd902f2dd48a2b7650ed8997bf298"
          }
        },
        "3900b366b949408cb0a9bb4185cff183": {
          "model_module": "@jupyter-widgets/controls",
          "model_module_version": "1.5.0",
          "model_name": "HTMLModel",
          "state": {
            "_dom_classes": [],
            "_model_module": "@jupyter-widgets/controls",
            "_model_module_version": "1.5.0",
            "_model_name": "HTMLModel",
            "_view_count": null,
            "_view_module": "@jupyter-widgets/controls",
            "_view_module_version": "1.5.0",
            "_view_name": "HTMLView",
            "description": "",
            "description_tooltip": null,
            "layout": "IPY_MODEL_302d0493efae41d48f4a9823d9d818e0",
            "placeholder": "​",
            "style": "IPY_MODEL_963890e6f8384eb9b6e9545aec673426",
            "value": " 170498071/170498071 [00:02&lt;00:00, 80586054.32it/s]"
          }
        },
        "3b3d4c5aa72f46a8b7f3f68611575c60": {
          "model_module": "@jupyter-widgets/base",
          "model_module_version": "1.2.0",
          "model_name": "LayoutModel",
          "state": {
            "_model_module": "@jupyter-widgets/base",
            "_model_module_version": "1.2.0",
            "_model_name": "LayoutModel",
            "_view_count": null,
            "_view_module": "@jupyter-widgets/base",
            "_view_module_version": "1.2.0",
            "_view_name": "LayoutView",
            "align_content": null,
            "align_items": null,
            "align_self": null,
            "border": null,
            "bottom": null,
            "display": null,
            "flex": null,
            "flex_flow": null,
            "grid_area": null,
            "grid_auto_columns": null,
            "grid_auto_flow": null,
            "grid_auto_rows": null,
            "grid_column": null,
            "grid_gap": null,
            "grid_row": null,
            "grid_template_areas": null,
            "grid_template_columns": null,
            "grid_template_rows": null,
            "height": null,
            "justify_content": null,
            "justify_items": null,
            "left": null,
            "margin": null,
            "max_height": null,
            "max_width": null,
            "min_height": null,
            "min_width": null,
            "object_fit": null,
            "object_position": null,
            "order": null,
            "overflow": null,
            "overflow_x": null,
            "overflow_y": null,
            "padding": null,
            "right": null,
            "top": null,
            "visibility": null,
            "width": null
          }
        },
        "4292540bc3a64e919b87ca009764219d": {
          "model_module": "@jupyter-widgets/controls",
          "model_module_version": "1.5.0",
          "model_name": "HTMLModel",
          "state": {
            "_dom_classes": [],
            "_model_module": "@jupyter-widgets/controls",
            "_model_module_version": "1.5.0",
            "_model_name": "HTMLModel",
            "_view_count": null,
            "_view_module": "@jupyter-widgets/controls",
            "_view_module_version": "1.5.0",
            "_view_name": "HTMLView",
            "description": "",
            "description_tooltip": null,
            "layout": "IPY_MODEL_a6e4b5ab18214cd2a8dfd760488f647c",
            "placeholder": "​",
            "style": "IPY_MODEL_2d62327e2cca4c31a3442370c7e57f90",
            "value": " 33%"
          }
        },
        "4a83062f3f574f71b9082cd24860dfbd": {
          "model_module": "@jupyter-widgets/controls",
          "model_module_version": "1.5.0",
          "model_name": "FloatProgressModel",
          "state": {
            "_dom_classes": [],
            "_model_module": "@jupyter-widgets/controls",
            "_model_module_version": "1.5.0",
            "_model_name": "FloatProgressModel",
            "_view_count": null,
            "_view_module": "@jupyter-widgets/controls",
            "_view_module_version": "1.5.0",
            "_view_name": "ProgressView",
            "bar_style": "success",
            "description": "",
            "description_tooltip": null,
            "layout": "IPY_MODEL_3b3d4c5aa72f46a8b7f3f68611575c60",
            "max": 170498071,
            "min": 0,
            "orientation": "horizontal",
            "style": "IPY_MODEL_642451da3cfc48d390d143829ad5c35e",
            "value": 170498071
          }
        },
        "4c4cd902f2dd48a2b7650ed8997bf298": {
          "model_module": "@jupyter-widgets/base",
          "model_module_version": "1.2.0",
          "model_name": "LayoutModel",
          "state": {
            "_model_module": "@jupyter-widgets/base",
            "_model_module_version": "1.2.0",
            "_model_name": "LayoutModel",
            "_view_count": null,
            "_view_module": "@jupyter-widgets/base",
            "_view_module_version": "1.2.0",
            "_view_name": "LayoutView",
            "align_content": null,
            "align_items": null,
            "align_self": null,
            "border": null,
            "bottom": null,
            "display": null,
            "flex": null,
            "flex_flow": null,
            "grid_area": null,
            "grid_auto_columns": null,
            "grid_auto_flow": null,
            "grid_auto_rows": null,
            "grid_column": null,
            "grid_gap": null,
            "grid_row": null,
            "grid_template_areas": null,
            "grid_template_columns": null,
            "grid_template_rows": null,
            "height": null,
            "justify_content": null,
            "justify_items": null,
            "left": null,
            "margin": null,
            "max_height": null,
            "max_width": null,
            "min_height": null,
            "min_width": null,
            "object_fit": null,
            "object_position": null,
            "order": null,
            "overflow": null,
            "overflow_x": null,
            "overflow_y": null,
            "padding": null,
            "right": null,
            "top": null,
            "visibility": null,
            "width": null
          }
        },
        "536c97278ed3426987feaa7b61a77069": {
          "model_module": "@jupyter-widgets/base",
          "model_module_version": "1.2.0",
          "model_name": "LayoutModel",
          "state": {
            "_model_module": "@jupyter-widgets/base",
            "_model_module_version": "1.2.0",
            "_model_name": "LayoutModel",
            "_view_count": null,
            "_view_module": "@jupyter-widgets/base",
            "_view_module_version": "1.2.0",
            "_view_name": "LayoutView",
            "align_content": null,
            "align_items": null,
            "align_self": null,
            "border": null,
            "bottom": null,
            "display": null,
            "flex": null,
            "flex_flow": null,
            "grid_area": null,
            "grid_auto_columns": null,
            "grid_auto_flow": null,
            "grid_auto_rows": null,
            "grid_column": null,
            "grid_gap": null,
            "grid_row": null,
            "grid_template_areas": null,
            "grid_template_columns": null,
            "grid_template_rows": null,
            "height": null,
            "justify_content": null,
            "justify_items": null,
            "left": null,
            "margin": null,
            "max_height": null,
            "max_width": null,
            "min_height": null,
            "min_width": null,
            "object_fit": null,
            "object_position": null,
            "order": null,
            "overflow": null,
            "overflow_x": null,
            "overflow_y": null,
            "padding": null,
            "right": null,
            "top": null,
            "visibility": null,
            "width": null
          }
        },
        "642451da3cfc48d390d143829ad5c35e": {
          "model_module": "@jupyter-widgets/controls",
          "model_module_version": "1.5.0",
          "model_name": "ProgressStyleModel",
          "state": {
            "_model_module": "@jupyter-widgets/controls",
            "_model_module_version": "1.5.0",
            "_model_name": "ProgressStyleModel",
            "_view_count": null,
            "_view_module": "@jupyter-widgets/base",
            "_view_module_version": "1.2.0",
            "_view_name": "StyleView",
            "bar_color": null,
            "description_width": ""
          }
        },
        "7e82e640c0764097912f684f685b41fa": {
          "model_module": "@jupyter-widgets/controls",
          "model_module_version": "1.5.0",
          "model_name": "FloatProgressModel",
          "state": {
            "_dom_classes": [],
            "_model_module": "@jupyter-widgets/controls",
            "_model_module_version": "1.5.0",
            "_model_name": "FloatProgressModel",
            "_view_count": null,
            "_view_module": "@jupyter-widgets/controls",
            "_view_module_version": "1.5.0",
            "_view_name": "ProgressView",
            "bar_style": "",
            "description": "",
            "description_tooltip": null,
            "layout": "IPY_MODEL_2031ecda270d41a581ff26d5d701ef53",
            "max": 30,
            "min": 0,
            "orientation": "horizontal",
            "style": "IPY_MODEL_13e030bb989e43e387d3b0a49dc2b5e8",
            "value": 10
          }
        },
        "963890e6f8384eb9b6e9545aec673426": {
          "model_module": "@jupyter-widgets/controls",
          "model_module_version": "1.5.0",
          "model_name": "DescriptionStyleModel",
          "state": {
            "_model_module": "@jupyter-widgets/controls",
            "_model_module_version": "1.5.0",
            "_model_name": "DescriptionStyleModel",
            "_view_count": null,
            "_view_module": "@jupyter-widgets/base",
            "_view_module_version": "1.2.0",
            "_view_name": "StyleView",
            "description_width": ""
          }
        },
        "a6e4b5ab18214cd2a8dfd760488f647c": {
          "model_module": "@jupyter-widgets/base",
          "model_module_version": "1.2.0",
          "model_name": "LayoutModel",
          "state": {
            "_model_module": "@jupyter-widgets/base",
            "_model_module_version": "1.2.0",
            "_model_name": "LayoutModel",
            "_view_count": null,
            "_view_module": "@jupyter-widgets/base",
            "_view_module_version": "1.2.0",
            "_view_name": "LayoutView",
            "align_content": null,
            "align_items": null,
            "align_self": null,
            "border": null,
            "bottom": null,
            "display": null,
            "flex": null,
            "flex_flow": null,
            "grid_area": null,
            "grid_auto_columns": null,
            "grid_auto_flow": null,
            "grid_auto_rows": null,
            "grid_column": null,
            "grid_gap": null,
            "grid_row": null,
            "grid_template_areas": null,
            "grid_template_columns": null,
            "grid_template_rows": null,
            "height": null,
            "justify_content": null,
            "justify_items": null,
            "left": null,
            "margin": null,
            "max_height": null,
            "max_width": null,
            "min_height": null,
            "min_width": null,
            "object_fit": null,
            "object_position": null,
            "order": null,
            "overflow": null,
            "overflow_x": null,
            "overflow_y": null,
            "padding": null,
            "right": null,
            "top": null,
            "visibility": null,
            "width": null
          }
        },
        "a7cb121abe9c48549fb0c6f046a9d88a": {
          "model_module": "@jupyter-widgets/controls",
          "model_module_version": "1.5.0",
          "model_name": "DescriptionStyleModel",
          "state": {
            "_model_module": "@jupyter-widgets/controls",
            "_model_module_version": "1.5.0",
            "_model_name": "DescriptionStyleModel",
            "_view_count": null,
            "_view_module": "@jupyter-widgets/base",
            "_view_module_version": "1.2.0",
            "_view_name": "StyleView",
            "description_width": ""
          }
        },
        "aed2eb6ed4474ff28835c8fddc1966c1": {
          "model_module": "@jupyter-widgets/controls",
          "model_module_version": "1.5.0",
          "model_name": "DescriptionStyleModel",
          "state": {
            "_model_module": "@jupyter-widgets/controls",
            "_model_module_version": "1.5.0",
            "_model_name": "DescriptionStyleModel",
            "_view_count": null,
            "_view_module": "@jupyter-widgets/base",
            "_view_module_version": "1.2.0",
            "_view_name": "StyleView",
            "description_width": ""
          }
        },
        "bc8c2b37f64b401b8d302f85f7c80a31": {
          "model_module": "@jupyter-widgets/base",
          "model_module_version": "1.2.0",
          "model_name": "LayoutModel",
          "state": {
            "_model_module": "@jupyter-widgets/base",
            "_model_module_version": "1.2.0",
            "_model_name": "LayoutModel",
            "_view_count": null,
            "_view_module": "@jupyter-widgets/base",
            "_view_module_version": "1.2.0",
            "_view_name": "LayoutView",
            "align_content": null,
            "align_items": null,
            "align_self": null,
            "border": null,
            "bottom": null,
            "display": null,
            "flex": null,
            "flex_flow": null,
            "grid_area": null,
            "grid_auto_columns": null,
            "grid_auto_flow": null,
            "grid_auto_rows": null,
            "grid_column": null,
            "grid_gap": null,
            "grid_row": null,
            "grid_template_areas": null,
            "grid_template_columns": null,
            "grid_template_rows": null,
            "height": null,
            "justify_content": null,
            "justify_items": null,
            "left": null,
            "margin": null,
            "max_height": null,
            "max_width": null,
            "min_height": null,
            "min_width": null,
            "object_fit": null,
            "object_position": null,
            "order": null,
            "overflow": null,
            "overflow_x": null,
            "overflow_y": null,
            "padding": null,
            "right": null,
            "top": null,
            "visibility": null,
            "width": null
          }
        },
        "cc7b08527ea24f71bc599415452734d5": {
          "model_module": "@jupyter-widgets/controls",
          "model_module_version": "1.5.0",
          "model_name": "HBoxModel",
          "state": {
            "_dom_classes": [],
            "_model_module": "@jupyter-widgets/controls",
            "_model_module_version": "1.5.0",
            "_model_name": "HBoxModel",
            "_view_count": null,
            "_view_module": "@jupyter-widgets/controls",
            "_view_module_version": "1.5.0",
            "_view_name": "HBoxView",
            "box_style": "",
            "children": [
              "IPY_MODEL_30049721ee0b47a18a327f2984c2625a",
              "IPY_MODEL_4a83062f3f574f71b9082cd24860dfbd",
              "IPY_MODEL_3900b366b949408cb0a9bb4185cff183"
            ],
            "layout": "IPY_MODEL_bc8c2b37f64b401b8d302f85f7c80a31"
          }
        }
      }
    }
  },
  "nbformat": 4,
  "nbformat_minor": 0
}
