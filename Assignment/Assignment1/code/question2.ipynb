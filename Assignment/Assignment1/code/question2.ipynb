{
  "nbformat": 4,
  "nbformat_minor": 0,
  "metadata": {
    "colab": {
      "provenance": [],
      "collapsed_sections": [
        "h5jmZTh6bArF",
        "rgDZV_3LbM4b",
        "nCe4S9RDKCCi",
        "4DVJEos8et6e",
        "nzKRNK7xhF66",
        "W342rX4_d0Nr",
        "eNiE5yivrNEF",
        "Fs9h-eMnntoh",
        "iDXgbPG8agEC",
        "68T7u1VLank8",
        "O0iHgYDIaxoW",
        "FOHRRZDugJQZ",
        "5jf_onRmoSvi",
        "3gpa9IR8aJf-",
        "-IpaeVBbbEjV",
        "-G5ZZlwGlSzw",
        "SullUiyloLAm",
        "mDS_Q36IoLAm",
        "-KFJe34covdU",
        "2MSf3BEOovdU",
        "Avj96Fh8qH6z",
        "cDgbPGMJqP64",
        "dJbVsbYIqSOE",
        "CQb9At0cKPKT",
        "8LuvL6J8KPKU"
      ],
      "toc_visible": true
    },
    "kernelspec": {
      "name": "python3",
      "display_name": "Python 3"
    },
    "language_info": {
      "name": "python"
    },
    "widgets": {
      "application/vnd.jupyter.widget-state+json": {
        "14816ec6f7e440c696af3d25aa64c63f": {
          "model_module": "@jupyter-widgets/controls",
          "model_name": "HBoxModel",
          "model_module_version": "1.5.0",
          "state": {
            "_dom_classes": [],
            "_model_module": "@jupyter-widgets/controls",
            "_model_module_version": "1.5.0",
            "_model_name": "HBoxModel",
            "_view_count": null,
            "_view_module": "@jupyter-widgets/controls",
            "_view_module_version": "1.5.0",
            "_view_name": "HBoxView",
            "box_style": "",
            "children": [
              "IPY_MODEL_83c9507fab144727b32b4f7452a2321e",
              "IPY_MODEL_94f78799f39b41ad9ccdb1a50b3d6b2b",
              "IPY_MODEL_59db24a5ec954898baa1ecbe02fe6893"
            ],
            "layout": "IPY_MODEL_5626c2d9955343b4bbfd10b5ba5e6451"
          }
        },
        "83c9507fab144727b32b4f7452a2321e": {
          "model_module": "@jupyter-widgets/controls",
          "model_name": "HTMLModel",
          "model_module_version": "1.5.0",
          "state": {
            "_dom_classes": [],
            "_model_module": "@jupyter-widgets/controls",
            "_model_module_version": "1.5.0",
            "_model_name": "HTMLModel",
            "_view_count": null,
            "_view_module": "@jupyter-widgets/controls",
            "_view_module_version": "1.5.0",
            "_view_name": "HTMLView",
            "description": "",
            "description_tooltip": null,
            "layout": "IPY_MODEL_29621700160e42978e79b8c8e272c314",
            "placeholder": "​",
            "style": "IPY_MODEL_2b2d28855b864cb2b9ff0b0f82deae63",
            "value": "100%"
          }
        },
        "94f78799f39b41ad9ccdb1a50b3d6b2b": {
          "model_module": "@jupyter-widgets/controls",
          "model_name": "FloatProgressModel",
          "model_module_version": "1.5.0",
          "state": {
            "_dom_classes": [],
            "_model_module": "@jupyter-widgets/controls",
            "_model_module_version": "1.5.0",
            "_model_name": "FloatProgressModel",
            "_view_count": null,
            "_view_module": "@jupyter-widgets/controls",
            "_view_module_version": "1.5.0",
            "_view_name": "ProgressView",
            "bar_style": "success",
            "description": "",
            "description_tooltip": null,
            "layout": "IPY_MODEL_7d7d37c730a141a69c461bf2427636f0",
            "max": 20,
            "min": 0,
            "orientation": "horizontal",
            "style": "IPY_MODEL_a1742db4c44c41ec8889c4f2960594bf",
            "value": 20
          }
        },
        "59db24a5ec954898baa1ecbe02fe6893": {
          "model_module": "@jupyter-widgets/controls",
          "model_name": "HTMLModel",
          "model_module_version": "1.5.0",
          "state": {
            "_dom_classes": [],
            "_model_module": "@jupyter-widgets/controls",
            "_model_module_version": "1.5.0",
            "_model_name": "HTMLModel",
            "_view_count": null,
            "_view_module": "@jupyter-widgets/controls",
            "_view_module_version": "1.5.0",
            "_view_name": "HTMLView",
            "description": "",
            "description_tooltip": null,
            "layout": "IPY_MODEL_09b5a54e9c984dcca3a95d27311226f9",
            "placeholder": "​",
            "style": "IPY_MODEL_7b828b6a554f4a90952723a92d4c0efc",
            "value": " 20/20 [00:18&lt;00:00,  1.08it/s]"
          }
        },
        "5626c2d9955343b4bbfd10b5ba5e6451": {
          "model_module": "@jupyter-widgets/base",
          "model_name": "LayoutModel",
          "model_module_version": "1.2.0",
          "state": {
            "_model_module": "@jupyter-widgets/base",
            "_model_module_version": "1.2.0",
            "_model_name": "LayoutModel",
            "_view_count": null,
            "_view_module": "@jupyter-widgets/base",
            "_view_module_version": "1.2.0",
            "_view_name": "LayoutView",
            "align_content": null,
            "align_items": null,
            "align_self": null,
            "border": null,
            "bottom": null,
            "display": null,
            "flex": null,
            "flex_flow": null,
            "grid_area": null,
            "grid_auto_columns": null,
            "grid_auto_flow": null,
            "grid_auto_rows": null,
            "grid_column": null,
            "grid_gap": null,
            "grid_row": null,
            "grid_template_areas": null,
            "grid_template_columns": null,
            "grid_template_rows": null,
            "height": null,
            "justify_content": null,
            "justify_items": null,
            "left": null,
            "margin": null,
            "max_height": null,
            "max_width": null,
            "min_height": null,
            "min_width": null,
            "object_fit": null,
            "object_position": null,
            "order": null,
            "overflow": null,
            "overflow_x": null,
            "overflow_y": null,
            "padding": null,
            "right": null,
            "top": null,
            "visibility": null,
            "width": null
          }
        },
        "29621700160e42978e79b8c8e272c314": {
          "model_module": "@jupyter-widgets/base",
          "model_name": "LayoutModel",
          "model_module_version": "1.2.0",
          "state": {
            "_model_module": "@jupyter-widgets/base",
            "_model_module_version": "1.2.0",
            "_model_name": "LayoutModel",
            "_view_count": null,
            "_view_module": "@jupyter-widgets/base",
            "_view_module_version": "1.2.0",
            "_view_name": "LayoutView",
            "align_content": null,
            "align_items": null,
            "align_self": null,
            "border": null,
            "bottom": null,
            "display": null,
            "flex": null,
            "flex_flow": null,
            "grid_area": null,
            "grid_auto_columns": null,
            "grid_auto_flow": null,
            "grid_auto_rows": null,
            "grid_column": null,
            "grid_gap": null,
            "grid_row": null,
            "grid_template_areas": null,
            "grid_template_columns": null,
            "grid_template_rows": null,
            "height": null,
            "justify_content": null,
            "justify_items": null,
            "left": null,
            "margin": null,
            "max_height": null,
            "max_width": null,
            "min_height": null,
            "min_width": null,
            "object_fit": null,
            "object_position": null,
            "order": null,
            "overflow": null,
            "overflow_x": null,
            "overflow_y": null,
            "padding": null,
            "right": null,
            "top": null,
            "visibility": null,
            "width": null
          }
        },
        "2b2d28855b864cb2b9ff0b0f82deae63": {
          "model_module": "@jupyter-widgets/controls",
          "model_name": "DescriptionStyleModel",
          "model_module_version": "1.5.0",
          "state": {
            "_model_module": "@jupyter-widgets/controls",
            "_model_module_version": "1.5.0",
            "_model_name": "DescriptionStyleModel",
            "_view_count": null,
            "_view_module": "@jupyter-widgets/base",
            "_view_module_version": "1.2.0",
            "_view_name": "StyleView",
            "description_width": ""
          }
        },
        "7d7d37c730a141a69c461bf2427636f0": {
          "model_module": "@jupyter-widgets/base",
          "model_name": "LayoutModel",
          "model_module_version": "1.2.0",
          "state": {
            "_model_module": "@jupyter-widgets/base",
            "_model_module_version": "1.2.0",
            "_model_name": "LayoutModel",
            "_view_count": null,
            "_view_module": "@jupyter-widgets/base",
            "_view_module_version": "1.2.0",
            "_view_name": "LayoutView",
            "align_content": null,
            "align_items": null,
            "align_self": null,
            "border": null,
            "bottom": null,
            "display": null,
            "flex": null,
            "flex_flow": null,
            "grid_area": null,
            "grid_auto_columns": null,
            "grid_auto_flow": null,
            "grid_auto_rows": null,
            "grid_column": null,
            "grid_gap": null,
            "grid_row": null,
            "grid_template_areas": null,
            "grid_template_columns": null,
            "grid_template_rows": null,
            "height": null,
            "justify_content": null,
            "justify_items": null,
            "left": null,
            "margin": null,
            "max_height": null,
            "max_width": null,
            "min_height": null,
            "min_width": null,
            "object_fit": null,
            "object_position": null,
            "order": null,
            "overflow": null,
            "overflow_x": null,
            "overflow_y": null,
            "padding": null,
            "right": null,
            "top": null,
            "visibility": null,
            "width": null
          }
        },
        "a1742db4c44c41ec8889c4f2960594bf": {
          "model_module": "@jupyter-widgets/controls",
          "model_name": "ProgressStyleModel",
          "model_module_version": "1.5.0",
          "state": {
            "_model_module": "@jupyter-widgets/controls",
            "_model_module_version": "1.5.0",
            "_model_name": "ProgressStyleModel",
            "_view_count": null,
            "_view_module": "@jupyter-widgets/base",
            "_view_module_version": "1.2.0",
            "_view_name": "StyleView",
            "bar_color": null,
            "description_width": ""
          }
        },
        "09b5a54e9c984dcca3a95d27311226f9": {
          "model_module": "@jupyter-widgets/base",
          "model_name": "LayoutModel",
          "model_module_version": "1.2.0",
          "state": {
            "_model_module": "@jupyter-widgets/base",
            "_model_module_version": "1.2.0",
            "_model_name": "LayoutModel",
            "_view_count": null,
            "_view_module": "@jupyter-widgets/base",
            "_view_module_version": "1.2.0",
            "_view_name": "LayoutView",
            "align_content": null,
            "align_items": null,
            "align_self": null,
            "border": null,
            "bottom": null,
            "display": null,
            "flex": null,
            "flex_flow": null,
            "grid_area": null,
            "grid_auto_columns": null,
            "grid_auto_flow": null,
            "grid_auto_rows": null,
            "grid_column": null,
            "grid_gap": null,
            "grid_row": null,
            "grid_template_areas": null,
            "grid_template_columns": null,
            "grid_template_rows": null,
            "height": null,
            "justify_content": null,
            "justify_items": null,
            "left": null,
            "margin": null,
            "max_height": null,
            "max_width": null,
            "min_height": null,
            "min_width": null,
            "object_fit": null,
            "object_position": null,
            "order": null,
            "overflow": null,
            "overflow_x": null,
            "overflow_y": null,
            "padding": null,
            "right": null,
            "top": null,
            "visibility": null,
            "width": null
          }
        },
        "7b828b6a554f4a90952723a92d4c0efc": {
          "model_module": "@jupyter-widgets/controls",
          "model_name": "DescriptionStyleModel",
          "model_module_version": "1.5.0",
          "state": {
            "_model_module": "@jupyter-widgets/controls",
            "_model_module_version": "1.5.0",
            "_model_name": "DescriptionStyleModel",
            "_view_count": null,
            "_view_module": "@jupyter-widgets/base",
            "_view_module_version": "1.2.0",
            "_view_name": "StyleView",
            "description_width": ""
          }
        },
        "aac35fdc6f72414fb630f218ee2d9b3f": {
          "model_module": "@jupyter-widgets/controls",
          "model_name": "HBoxModel",
          "model_module_version": "1.5.0",
          "state": {
            "_dom_classes": [],
            "_model_module": "@jupyter-widgets/controls",
            "_model_module_version": "1.5.0",
            "_model_name": "HBoxModel",
            "_view_count": null,
            "_view_module": "@jupyter-widgets/controls",
            "_view_module_version": "1.5.0",
            "_view_name": "HBoxView",
            "box_style": "",
            "children": [
              "IPY_MODEL_e57c66bebfc44aa78cd5107cfedee82b",
              "IPY_MODEL_fd4ee1ed465343d096a5d45959c2dd24",
              "IPY_MODEL_158b5b9b4517476796beee3944031610"
            ],
            "layout": "IPY_MODEL_a041c34f3c28408eb6e80a535c838e1a"
          }
        },
        "e57c66bebfc44aa78cd5107cfedee82b": {
          "model_module": "@jupyter-widgets/controls",
          "model_name": "HTMLModel",
          "model_module_version": "1.5.0",
          "state": {
            "_dom_classes": [],
            "_model_module": "@jupyter-widgets/controls",
            "_model_module_version": "1.5.0",
            "_model_name": "HTMLModel",
            "_view_count": null,
            "_view_module": "@jupyter-widgets/controls",
            "_view_module_version": "1.5.0",
            "_view_name": "HTMLView",
            "description": "",
            "description_tooltip": null,
            "layout": "IPY_MODEL_878238dff4514ebfa4e4df0ab855e766",
            "placeholder": "​",
            "style": "IPY_MODEL_792e5b99d4354c858cbad4f4ca598bf0",
            "value": "100%"
          }
        },
        "fd4ee1ed465343d096a5d45959c2dd24": {
          "model_module": "@jupyter-widgets/controls",
          "model_name": "FloatProgressModel",
          "model_module_version": "1.5.0",
          "state": {
            "_dom_classes": [],
            "_model_module": "@jupyter-widgets/controls",
            "_model_module_version": "1.5.0",
            "_model_name": "FloatProgressModel",
            "_view_count": null,
            "_view_module": "@jupyter-widgets/controls",
            "_view_module_version": "1.5.0",
            "_view_name": "ProgressView",
            "bar_style": "success",
            "description": "",
            "description_tooltip": null,
            "layout": "IPY_MODEL_f97900276c5a4126bb060598f03d7d32",
            "max": 20,
            "min": 0,
            "orientation": "horizontal",
            "style": "IPY_MODEL_9a111e8e76234c3c8dd9e534e0f425d5",
            "value": 20
          }
        },
        "158b5b9b4517476796beee3944031610": {
          "model_module": "@jupyter-widgets/controls",
          "model_name": "HTMLModel",
          "model_module_version": "1.5.0",
          "state": {
            "_dom_classes": [],
            "_model_module": "@jupyter-widgets/controls",
            "_model_module_version": "1.5.0",
            "_model_name": "HTMLModel",
            "_view_count": null,
            "_view_module": "@jupyter-widgets/controls",
            "_view_module_version": "1.5.0",
            "_view_name": "HTMLView",
            "description": "",
            "description_tooltip": null,
            "layout": "IPY_MODEL_805ed158756746c998d0558d1a98d0cd",
            "placeholder": "​",
            "style": "IPY_MODEL_92effcb9ca32463ea44bfa4a66ae13a2",
            "value": " 20/20 [00:18&lt;00:00,  1.03it/s]"
          }
        },
        "a041c34f3c28408eb6e80a535c838e1a": {
          "model_module": "@jupyter-widgets/base",
          "model_name": "LayoutModel",
          "model_module_version": "1.2.0",
          "state": {
            "_model_module": "@jupyter-widgets/base",
            "_model_module_version": "1.2.0",
            "_model_name": "LayoutModel",
            "_view_count": null,
            "_view_module": "@jupyter-widgets/base",
            "_view_module_version": "1.2.0",
            "_view_name": "LayoutView",
            "align_content": null,
            "align_items": null,
            "align_self": null,
            "border": null,
            "bottom": null,
            "display": null,
            "flex": null,
            "flex_flow": null,
            "grid_area": null,
            "grid_auto_columns": null,
            "grid_auto_flow": null,
            "grid_auto_rows": null,
            "grid_column": null,
            "grid_gap": null,
            "grid_row": null,
            "grid_template_areas": null,
            "grid_template_columns": null,
            "grid_template_rows": null,
            "height": null,
            "justify_content": null,
            "justify_items": null,
            "left": null,
            "margin": null,
            "max_height": null,
            "max_width": null,
            "min_height": null,
            "min_width": null,
            "object_fit": null,
            "object_position": null,
            "order": null,
            "overflow": null,
            "overflow_x": null,
            "overflow_y": null,
            "padding": null,
            "right": null,
            "top": null,
            "visibility": null,
            "width": null
          }
        },
        "878238dff4514ebfa4e4df0ab855e766": {
          "model_module": "@jupyter-widgets/base",
          "model_name": "LayoutModel",
          "model_module_version": "1.2.0",
          "state": {
            "_model_module": "@jupyter-widgets/base",
            "_model_module_version": "1.2.0",
            "_model_name": "LayoutModel",
            "_view_count": null,
            "_view_module": "@jupyter-widgets/base",
            "_view_module_version": "1.2.0",
            "_view_name": "LayoutView",
            "align_content": null,
            "align_items": null,
            "align_self": null,
            "border": null,
            "bottom": null,
            "display": null,
            "flex": null,
            "flex_flow": null,
            "grid_area": null,
            "grid_auto_columns": null,
            "grid_auto_flow": null,
            "grid_auto_rows": null,
            "grid_column": null,
            "grid_gap": null,
            "grid_row": null,
            "grid_template_areas": null,
            "grid_template_columns": null,
            "grid_template_rows": null,
            "height": null,
            "justify_content": null,
            "justify_items": null,
            "left": null,
            "margin": null,
            "max_height": null,
            "max_width": null,
            "min_height": null,
            "min_width": null,
            "object_fit": null,
            "object_position": null,
            "order": null,
            "overflow": null,
            "overflow_x": null,
            "overflow_y": null,
            "padding": null,
            "right": null,
            "top": null,
            "visibility": null,
            "width": null
          }
        },
        "792e5b99d4354c858cbad4f4ca598bf0": {
          "model_module": "@jupyter-widgets/controls",
          "model_name": "DescriptionStyleModel",
          "model_module_version": "1.5.0",
          "state": {
            "_model_module": "@jupyter-widgets/controls",
            "_model_module_version": "1.5.0",
            "_model_name": "DescriptionStyleModel",
            "_view_count": null,
            "_view_module": "@jupyter-widgets/base",
            "_view_module_version": "1.2.0",
            "_view_name": "StyleView",
            "description_width": ""
          }
        },
        "f97900276c5a4126bb060598f03d7d32": {
          "model_module": "@jupyter-widgets/base",
          "model_name": "LayoutModel",
          "model_module_version": "1.2.0",
          "state": {
            "_model_module": "@jupyter-widgets/base",
            "_model_module_version": "1.2.0",
            "_model_name": "LayoutModel",
            "_view_count": null,
            "_view_module": "@jupyter-widgets/base",
            "_view_module_version": "1.2.0",
            "_view_name": "LayoutView",
            "align_content": null,
            "align_items": null,
            "align_self": null,
            "border": null,
            "bottom": null,
            "display": null,
            "flex": null,
            "flex_flow": null,
            "grid_area": null,
            "grid_auto_columns": null,
            "grid_auto_flow": null,
            "grid_auto_rows": null,
            "grid_column": null,
            "grid_gap": null,
            "grid_row": null,
            "grid_template_areas": null,
            "grid_template_columns": null,
            "grid_template_rows": null,
            "height": null,
            "justify_content": null,
            "justify_items": null,
            "left": null,
            "margin": null,
            "max_height": null,
            "max_width": null,
            "min_height": null,
            "min_width": null,
            "object_fit": null,
            "object_position": null,
            "order": null,
            "overflow": null,
            "overflow_x": null,
            "overflow_y": null,
            "padding": null,
            "right": null,
            "top": null,
            "visibility": null,
            "width": null
          }
        },
        "9a111e8e76234c3c8dd9e534e0f425d5": {
          "model_module": "@jupyter-widgets/controls",
          "model_name": "ProgressStyleModel",
          "model_module_version": "1.5.0",
          "state": {
            "_model_module": "@jupyter-widgets/controls",
            "_model_module_version": "1.5.0",
            "_model_name": "ProgressStyleModel",
            "_view_count": null,
            "_view_module": "@jupyter-widgets/base",
            "_view_module_version": "1.2.0",
            "_view_name": "StyleView",
            "bar_color": null,
            "description_width": ""
          }
        },
        "805ed158756746c998d0558d1a98d0cd": {
          "model_module": "@jupyter-widgets/base",
          "model_name": "LayoutModel",
          "model_module_version": "1.2.0",
          "state": {
            "_model_module": "@jupyter-widgets/base",
            "_model_module_version": "1.2.0",
            "_model_name": "LayoutModel",
            "_view_count": null,
            "_view_module": "@jupyter-widgets/base",
            "_view_module_version": "1.2.0",
            "_view_name": "LayoutView",
            "align_content": null,
            "align_items": null,
            "align_self": null,
            "border": null,
            "bottom": null,
            "display": null,
            "flex": null,
            "flex_flow": null,
            "grid_area": null,
            "grid_auto_columns": null,
            "grid_auto_flow": null,
            "grid_auto_rows": null,
            "grid_column": null,
            "grid_gap": null,
            "grid_row": null,
            "grid_template_areas": null,
            "grid_template_columns": null,
            "grid_template_rows": null,
            "height": null,
            "justify_content": null,
            "justify_items": null,
            "left": null,
            "margin": null,
            "max_height": null,
            "max_width": null,
            "min_height": null,
            "min_width": null,
            "object_fit": null,
            "object_position": null,
            "order": null,
            "overflow": null,
            "overflow_x": null,
            "overflow_y": null,
            "padding": null,
            "right": null,
            "top": null,
            "visibility": null,
            "width": null
          }
        },
        "92effcb9ca32463ea44bfa4a66ae13a2": {
          "model_module": "@jupyter-widgets/controls",
          "model_name": "DescriptionStyleModel",
          "model_module_version": "1.5.0",
          "state": {
            "_model_module": "@jupyter-widgets/controls",
            "_model_module_version": "1.5.0",
            "_model_name": "DescriptionStyleModel",
            "_view_count": null,
            "_view_module": "@jupyter-widgets/base",
            "_view_module_version": "1.2.0",
            "_view_name": "StyleView",
            "description_width": ""
          }
        },
        "0f70afe6644344148bf4885a0a9267af": {
          "model_module": "@jupyter-widgets/controls",
          "model_name": "HBoxModel",
          "model_module_version": "1.5.0",
          "state": {
            "_dom_classes": [],
            "_model_module": "@jupyter-widgets/controls",
            "_model_module_version": "1.5.0",
            "_model_name": "HBoxModel",
            "_view_count": null,
            "_view_module": "@jupyter-widgets/controls",
            "_view_module_version": "1.5.0",
            "_view_name": "HBoxView",
            "box_style": "",
            "children": [
              "IPY_MODEL_1c05dcb888fa488b8e085e644ba7609e",
              "IPY_MODEL_3ee856de41fc42149ab522987aaa9579",
              "IPY_MODEL_cd6d59cd4949468fbc646d3721a2d843"
            ],
            "layout": "IPY_MODEL_6f573e80791d480790c3ec71b9c9d434"
          }
        },
        "1c05dcb888fa488b8e085e644ba7609e": {
          "model_module": "@jupyter-widgets/controls",
          "model_name": "HTMLModel",
          "model_module_version": "1.5.0",
          "state": {
            "_dom_classes": [],
            "_model_module": "@jupyter-widgets/controls",
            "_model_module_version": "1.5.0",
            "_model_name": "HTMLModel",
            "_view_count": null,
            "_view_module": "@jupyter-widgets/controls",
            "_view_module_version": "1.5.0",
            "_view_name": "HTMLView",
            "description": "",
            "description_tooltip": null,
            "layout": "IPY_MODEL_db7a4432a5424693b76a85890329caed",
            "placeholder": "​",
            "style": "IPY_MODEL_a846dc90f9954d84889a2e607ab6a52c",
            "value": "100%"
          }
        },
        "3ee856de41fc42149ab522987aaa9579": {
          "model_module": "@jupyter-widgets/controls",
          "model_name": "FloatProgressModel",
          "model_module_version": "1.5.0",
          "state": {
            "_dom_classes": [],
            "_model_module": "@jupyter-widgets/controls",
            "_model_module_version": "1.5.0",
            "_model_name": "FloatProgressModel",
            "_view_count": null,
            "_view_module": "@jupyter-widgets/controls",
            "_view_module_version": "1.5.0",
            "_view_name": "ProgressView",
            "bar_style": "success",
            "description": "",
            "description_tooltip": null,
            "layout": "IPY_MODEL_e0250758b9a440dfacaa2caea9391ccd",
            "max": 20,
            "min": 0,
            "orientation": "horizontal",
            "style": "IPY_MODEL_6ba7346fbdd344ccb82af56578818127",
            "value": 20
          }
        },
        "cd6d59cd4949468fbc646d3721a2d843": {
          "model_module": "@jupyter-widgets/controls",
          "model_name": "HTMLModel",
          "model_module_version": "1.5.0",
          "state": {
            "_dom_classes": [],
            "_model_module": "@jupyter-widgets/controls",
            "_model_module_version": "1.5.0",
            "_model_name": "HTMLModel",
            "_view_count": null,
            "_view_module": "@jupyter-widgets/controls",
            "_view_module_version": "1.5.0",
            "_view_name": "HTMLView",
            "description": "",
            "description_tooltip": null,
            "layout": "IPY_MODEL_9a4e247972884fabb23b402704ef465f",
            "placeholder": "​",
            "style": "IPY_MODEL_6405b3c454b9430eb1431d6a791db854",
            "value": " 20/20 [00:19&lt;00:00,  1.04it/s]"
          }
        },
        "6f573e80791d480790c3ec71b9c9d434": {
          "model_module": "@jupyter-widgets/base",
          "model_name": "LayoutModel",
          "model_module_version": "1.2.0",
          "state": {
            "_model_module": "@jupyter-widgets/base",
            "_model_module_version": "1.2.0",
            "_model_name": "LayoutModel",
            "_view_count": null,
            "_view_module": "@jupyter-widgets/base",
            "_view_module_version": "1.2.0",
            "_view_name": "LayoutView",
            "align_content": null,
            "align_items": null,
            "align_self": null,
            "border": null,
            "bottom": null,
            "display": null,
            "flex": null,
            "flex_flow": null,
            "grid_area": null,
            "grid_auto_columns": null,
            "grid_auto_flow": null,
            "grid_auto_rows": null,
            "grid_column": null,
            "grid_gap": null,
            "grid_row": null,
            "grid_template_areas": null,
            "grid_template_columns": null,
            "grid_template_rows": null,
            "height": null,
            "justify_content": null,
            "justify_items": null,
            "left": null,
            "margin": null,
            "max_height": null,
            "max_width": null,
            "min_height": null,
            "min_width": null,
            "object_fit": null,
            "object_position": null,
            "order": null,
            "overflow": null,
            "overflow_x": null,
            "overflow_y": null,
            "padding": null,
            "right": null,
            "top": null,
            "visibility": null,
            "width": null
          }
        },
        "db7a4432a5424693b76a85890329caed": {
          "model_module": "@jupyter-widgets/base",
          "model_name": "LayoutModel",
          "model_module_version": "1.2.0",
          "state": {
            "_model_module": "@jupyter-widgets/base",
            "_model_module_version": "1.2.0",
            "_model_name": "LayoutModel",
            "_view_count": null,
            "_view_module": "@jupyter-widgets/base",
            "_view_module_version": "1.2.0",
            "_view_name": "LayoutView",
            "align_content": null,
            "align_items": null,
            "align_self": null,
            "border": null,
            "bottom": null,
            "display": null,
            "flex": null,
            "flex_flow": null,
            "grid_area": null,
            "grid_auto_columns": null,
            "grid_auto_flow": null,
            "grid_auto_rows": null,
            "grid_column": null,
            "grid_gap": null,
            "grid_row": null,
            "grid_template_areas": null,
            "grid_template_columns": null,
            "grid_template_rows": null,
            "height": null,
            "justify_content": null,
            "justify_items": null,
            "left": null,
            "margin": null,
            "max_height": null,
            "max_width": null,
            "min_height": null,
            "min_width": null,
            "object_fit": null,
            "object_position": null,
            "order": null,
            "overflow": null,
            "overflow_x": null,
            "overflow_y": null,
            "padding": null,
            "right": null,
            "top": null,
            "visibility": null,
            "width": null
          }
        },
        "a846dc90f9954d84889a2e607ab6a52c": {
          "model_module": "@jupyter-widgets/controls",
          "model_name": "DescriptionStyleModel",
          "model_module_version": "1.5.0",
          "state": {
            "_model_module": "@jupyter-widgets/controls",
            "_model_module_version": "1.5.0",
            "_model_name": "DescriptionStyleModel",
            "_view_count": null,
            "_view_module": "@jupyter-widgets/base",
            "_view_module_version": "1.2.0",
            "_view_name": "StyleView",
            "description_width": ""
          }
        },
        "e0250758b9a440dfacaa2caea9391ccd": {
          "model_module": "@jupyter-widgets/base",
          "model_name": "LayoutModel",
          "model_module_version": "1.2.0",
          "state": {
            "_model_module": "@jupyter-widgets/base",
            "_model_module_version": "1.2.0",
            "_model_name": "LayoutModel",
            "_view_count": null,
            "_view_module": "@jupyter-widgets/base",
            "_view_module_version": "1.2.0",
            "_view_name": "LayoutView",
            "align_content": null,
            "align_items": null,
            "align_self": null,
            "border": null,
            "bottom": null,
            "display": null,
            "flex": null,
            "flex_flow": null,
            "grid_area": null,
            "grid_auto_columns": null,
            "grid_auto_flow": null,
            "grid_auto_rows": null,
            "grid_column": null,
            "grid_gap": null,
            "grid_row": null,
            "grid_template_areas": null,
            "grid_template_columns": null,
            "grid_template_rows": null,
            "height": null,
            "justify_content": null,
            "justify_items": null,
            "left": null,
            "margin": null,
            "max_height": null,
            "max_width": null,
            "min_height": null,
            "min_width": null,
            "object_fit": null,
            "object_position": null,
            "order": null,
            "overflow": null,
            "overflow_x": null,
            "overflow_y": null,
            "padding": null,
            "right": null,
            "top": null,
            "visibility": null,
            "width": null
          }
        },
        "6ba7346fbdd344ccb82af56578818127": {
          "model_module": "@jupyter-widgets/controls",
          "model_name": "ProgressStyleModel",
          "model_module_version": "1.5.0",
          "state": {
            "_model_module": "@jupyter-widgets/controls",
            "_model_module_version": "1.5.0",
            "_model_name": "ProgressStyleModel",
            "_view_count": null,
            "_view_module": "@jupyter-widgets/base",
            "_view_module_version": "1.2.0",
            "_view_name": "StyleView",
            "bar_color": null,
            "description_width": ""
          }
        },
        "9a4e247972884fabb23b402704ef465f": {
          "model_module": "@jupyter-widgets/base",
          "model_name": "LayoutModel",
          "model_module_version": "1.2.0",
          "state": {
            "_model_module": "@jupyter-widgets/base",
            "_model_module_version": "1.2.0",
            "_model_name": "LayoutModel",
            "_view_count": null,
            "_view_module": "@jupyter-widgets/base",
            "_view_module_version": "1.2.0",
            "_view_name": "LayoutView",
            "align_content": null,
            "align_items": null,
            "align_self": null,
            "border": null,
            "bottom": null,
            "display": null,
            "flex": null,
            "flex_flow": null,
            "grid_area": null,
            "grid_auto_columns": null,
            "grid_auto_flow": null,
            "grid_auto_rows": null,
            "grid_column": null,
            "grid_gap": null,
            "grid_row": null,
            "grid_template_areas": null,
            "grid_template_columns": null,
            "grid_template_rows": null,
            "height": null,
            "justify_content": null,
            "justify_items": null,
            "left": null,
            "margin": null,
            "max_height": null,
            "max_width": null,
            "min_height": null,
            "min_width": null,
            "object_fit": null,
            "object_position": null,
            "order": null,
            "overflow": null,
            "overflow_x": null,
            "overflow_y": null,
            "padding": null,
            "right": null,
            "top": null,
            "visibility": null,
            "width": null
          }
        },
        "6405b3c454b9430eb1431d6a791db854": {
          "model_module": "@jupyter-widgets/controls",
          "model_name": "DescriptionStyleModel",
          "model_module_version": "1.5.0",
          "state": {
            "_model_module": "@jupyter-widgets/controls",
            "_model_module_version": "1.5.0",
            "_model_name": "DescriptionStyleModel",
            "_view_count": null,
            "_view_module": "@jupyter-widgets/base",
            "_view_module_version": "1.2.0",
            "_view_name": "StyleView",
            "description_width": ""
          }
        },
        "def3ca8d3b5c48558389fc9c1fc5a91a": {
          "model_module": "@jupyter-widgets/controls",
          "model_name": "HBoxModel",
          "model_module_version": "1.5.0",
          "state": {
            "_dom_classes": [],
            "_model_module": "@jupyter-widgets/controls",
            "_model_module_version": "1.5.0",
            "_model_name": "HBoxModel",
            "_view_count": null,
            "_view_module": "@jupyter-widgets/controls",
            "_view_module_version": "1.5.0",
            "_view_name": "HBoxView",
            "box_style": "",
            "children": [
              "IPY_MODEL_6cc6019809234a6f95eb02a83f0f3794",
              "IPY_MODEL_af9ce9ed7e1646dd95ee715a382188bc",
              "IPY_MODEL_df66eef206df400b8ad05fbfe87a6403"
            ],
            "layout": "IPY_MODEL_e6bf2b7a9eb442c881bc1895e59e29f4"
          }
        },
        "6cc6019809234a6f95eb02a83f0f3794": {
          "model_module": "@jupyter-widgets/controls",
          "model_name": "HTMLModel",
          "model_module_version": "1.5.0",
          "state": {
            "_dom_classes": [],
            "_model_module": "@jupyter-widgets/controls",
            "_model_module_version": "1.5.0",
            "_model_name": "HTMLModel",
            "_view_count": null,
            "_view_module": "@jupyter-widgets/controls",
            "_view_module_version": "1.5.0",
            "_view_name": "HTMLView",
            "description": "",
            "description_tooltip": null,
            "layout": "IPY_MODEL_6419c31ba5ec4a80b1b06e2a2b529950",
            "placeholder": "​",
            "style": "IPY_MODEL_3799f57407554b1b9f1aed63bcd3edd2",
            "value": "100%"
          }
        },
        "af9ce9ed7e1646dd95ee715a382188bc": {
          "model_module": "@jupyter-widgets/controls",
          "model_name": "FloatProgressModel",
          "model_module_version": "1.5.0",
          "state": {
            "_dom_classes": [],
            "_model_module": "@jupyter-widgets/controls",
            "_model_module_version": "1.5.0",
            "_model_name": "FloatProgressModel",
            "_view_count": null,
            "_view_module": "@jupyter-widgets/controls",
            "_view_module_version": "1.5.0",
            "_view_name": "ProgressView",
            "bar_style": "success",
            "description": "",
            "description_tooltip": null,
            "layout": "IPY_MODEL_19053614918b4c50b62c0046aae6740f",
            "max": 20,
            "min": 0,
            "orientation": "horizontal",
            "style": "IPY_MODEL_229a5955b78341d6a5cdcb3371060c37",
            "value": 20
          }
        },
        "df66eef206df400b8ad05fbfe87a6403": {
          "model_module": "@jupyter-widgets/controls",
          "model_name": "HTMLModel",
          "model_module_version": "1.5.0",
          "state": {
            "_dom_classes": [],
            "_model_module": "@jupyter-widgets/controls",
            "_model_module_version": "1.5.0",
            "_model_name": "HTMLModel",
            "_view_count": null,
            "_view_module": "@jupyter-widgets/controls",
            "_view_module_version": "1.5.0",
            "_view_name": "HTMLView",
            "description": "",
            "description_tooltip": null,
            "layout": "IPY_MODEL_58cdc138cb2d45b9a5fef5f38ef32328",
            "placeholder": "​",
            "style": "IPY_MODEL_2d941cb08c1f46f4868acf5c1fcfef5f",
            "value": " 20/20 [00:20&lt;00:00,  1.04it/s]"
          }
        },
        "e6bf2b7a9eb442c881bc1895e59e29f4": {
          "model_module": "@jupyter-widgets/base",
          "model_name": "LayoutModel",
          "model_module_version": "1.2.0",
          "state": {
            "_model_module": "@jupyter-widgets/base",
            "_model_module_version": "1.2.0",
            "_model_name": "LayoutModel",
            "_view_count": null,
            "_view_module": "@jupyter-widgets/base",
            "_view_module_version": "1.2.0",
            "_view_name": "LayoutView",
            "align_content": null,
            "align_items": null,
            "align_self": null,
            "border": null,
            "bottom": null,
            "display": null,
            "flex": null,
            "flex_flow": null,
            "grid_area": null,
            "grid_auto_columns": null,
            "grid_auto_flow": null,
            "grid_auto_rows": null,
            "grid_column": null,
            "grid_gap": null,
            "grid_row": null,
            "grid_template_areas": null,
            "grid_template_columns": null,
            "grid_template_rows": null,
            "height": null,
            "justify_content": null,
            "justify_items": null,
            "left": null,
            "margin": null,
            "max_height": null,
            "max_width": null,
            "min_height": null,
            "min_width": null,
            "object_fit": null,
            "object_position": null,
            "order": null,
            "overflow": null,
            "overflow_x": null,
            "overflow_y": null,
            "padding": null,
            "right": null,
            "top": null,
            "visibility": null,
            "width": null
          }
        },
        "6419c31ba5ec4a80b1b06e2a2b529950": {
          "model_module": "@jupyter-widgets/base",
          "model_name": "LayoutModel",
          "model_module_version": "1.2.0",
          "state": {
            "_model_module": "@jupyter-widgets/base",
            "_model_module_version": "1.2.0",
            "_model_name": "LayoutModel",
            "_view_count": null,
            "_view_module": "@jupyter-widgets/base",
            "_view_module_version": "1.2.0",
            "_view_name": "LayoutView",
            "align_content": null,
            "align_items": null,
            "align_self": null,
            "border": null,
            "bottom": null,
            "display": null,
            "flex": null,
            "flex_flow": null,
            "grid_area": null,
            "grid_auto_columns": null,
            "grid_auto_flow": null,
            "grid_auto_rows": null,
            "grid_column": null,
            "grid_gap": null,
            "grid_row": null,
            "grid_template_areas": null,
            "grid_template_columns": null,
            "grid_template_rows": null,
            "height": null,
            "justify_content": null,
            "justify_items": null,
            "left": null,
            "margin": null,
            "max_height": null,
            "max_width": null,
            "min_height": null,
            "min_width": null,
            "object_fit": null,
            "object_position": null,
            "order": null,
            "overflow": null,
            "overflow_x": null,
            "overflow_y": null,
            "padding": null,
            "right": null,
            "top": null,
            "visibility": null,
            "width": null
          }
        },
        "3799f57407554b1b9f1aed63bcd3edd2": {
          "model_module": "@jupyter-widgets/controls",
          "model_name": "DescriptionStyleModel",
          "model_module_version": "1.5.0",
          "state": {
            "_model_module": "@jupyter-widgets/controls",
            "_model_module_version": "1.5.0",
            "_model_name": "DescriptionStyleModel",
            "_view_count": null,
            "_view_module": "@jupyter-widgets/base",
            "_view_module_version": "1.2.0",
            "_view_name": "StyleView",
            "description_width": ""
          }
        },
        "19053614918b4c50b62c0046aae6740f": {
          "model_module": "@jupyter-widgets/base",
          "model_name": "LayoutModel",
          "model_module_version": "1.2.0",
          "state": {
            "_model_module": "@jupyter-widgets/base",
            "_model_module_version": "1.2.0",
            "_model_name": "LayoutModel",
            "_view_count": null,
            "_view_module": "@jupyter-widgets/base",
            "_view_module_version": "1.2.0",
            "_view_name": "LayoutView",
            "align_content": null,
            "align_items": null,
            "align_self": null,
            "border": null,
            "bottom": null,
            "display": null,
            "flex": null,
            "flex_flow": null,
            "grid_area": null,
            "grid_auto_columns": null,
            "grid_auto_flow": null,
            "grid_auto_rows": null,
            "grid_column": null,
            "grid_gap": null,
            "grid_row": null,
            "grid_template_areas": null,
            "grid_template_columns": null,
            "grid_template_rows": null,
            "height": null,
            "justify_content": null,
            "justify_items": null,
            "left": null,
            "margin": null,
            "max_height": null,
            "max_width": null,
            "min_height": null,
            "min_width": null,
            "object_fit": null,
            "object_position": null,
            "order": null,
            "overflow": null,
            "overflow_x": null,
            "overflow_y": null,
            "padding": null,
            "right": null,
            "top": null,
            "visibility": null,
            "width": null
          }
        },
        "229a5955b78341d6a5cdcb3371060c37": {
          "model_module": "@jupyter-widgets/controls",
          "model_name": "ProgressStyleModel",
          "model_module_version": "1.5.0",
          "state": {
            "_model_module": "@jupyter-widgets/controls",
            "_model_module_version": "1.5.0",
            "_model_name": "ProgressStyleModel",
            "_view_count": null,
            "_view_module": "@jupyter-widgets/base",
            "_view_module_version": "1.2.0",
            "_view_name": "StyleView",
            "bar_color": null,
            "description_width": ""
          }
        },
        "58cdc138cb2d45b9a5fef5f38ef32328": {
          "model_module": "@jupyter-widgets/base",
          "model_name": "LayoutModel",
          "model_module_version": "1.2.0",
          "state": {
            "_model_module": "@jupyter-widgets/base",
            "_model_module_version": "1.2.0",
            "_model_name": "LayoutModel",
            "_view_count": null,
            "_view_module": "@jupyter-widgets/base",
            "_view_module_version": "1.2.0",
            "_view_name": "LayoutView",
            "align_content": null,
            "align_items": null,
            "align_self": null,
            "border": null,
            "bottom": null,
            "display": null,
            "flex": null,
            "flex_flow": null,
            "grid_area": null,
            "grid_auto_columns": null,
            "grid_auto_flow": null,
            "grid_auto_rows": null,
            "grid_column": null,
            "grid_gap": null,
            "grid_row": null,
            "grid_template_areas": null,
            "grid_template_columns": null,
            "grid_template_rows": null,
            "height": null,
            "justify_content": null,
            "justify_items": null,
            "left": null,
            "margin": null,
            "max_height": null,
            "max_width": null,
            "min_height": null,
            "min_width": null,
            "object_fit": null,
            "object_position": null,
            "order": null,
            "overflow": null,
            "overflow_x": null,
            "overflow_y": null,
            "padding": null,
            "right": null,
            "top": null,
            "visibility": null,
            "width": null
          }
        },
        "2d941cb08c1f46f4868acf5c1fcfef5f": {
          "model_module": "@jupyter-widgets/controls",
          "model_name": "DescriptionStyleModel",
          "model_module_version": "1.5.0",
          "state": {
            "_model_module": "@jupyter-widgets/controls",
            "_model_module_version": "1.5.0",
            "_model_name": "DescriptionStyleModel",
            "_view_count": null,
            "_view_module": "@jupyter-widgets/base",
            "_view_module_version": "1.2.0",
            "_view_name": "StyleView",
            "description_width": ""
          }
        },
        "95d9a32586d442a389f44c8698fe8b28": {
          "model_module": "@jupyter-widgets/controls",
          "model_name": "HBoxModel",
          "model_module_version": "1.5.0",
          "state": {
            "_dom_classes": [],
            "_model_module": "@jupyter-widgets/controls",
            "_model_module_version": "1.5.0",
            "_model_name": "HBoxModel",
            "_view_count": null,
            "_view_module": "@jupyter-widgets/controls",
            "_view_module_version": "1.5.0",
            "_view_name": "HBoxView",
            "box_style": "",
            "children": [
              "IPY_MODEL_043505c99b18413493653d765be9d1b7",
              "IPY_MODEL_9d42aed0bf794162aaeb47b2105ec3e5",
              "IPY_MODEL_575bd075b71f409285aeba9fa8222c63"
            ],
            "layout": "IPY_MODEL_ea70034ca0a0477a9421a7f9c5122b94"
          }
        },
        "043505c99b18413493653d765be9d1b7": {
          "model_module": "@jupyter-widgets/controls",
          "model_name": "HTMLModel",
          "model_module_version": "1.5.0",
          "state": {
            "_dom_classes": [],
            "_model_module": "@jupyter-widgets/controls",
            "_model_module_version": "1.5.0",
            "_model_name": "HTMLModel",
            "_view_count": null,
            "_view_module": "@jupyter-widgets/controls",
            "_view_module_version": "1.5.0",
            "_view_name": "HTMLView",
            "description": "",
            "description_tooltip": null,
            "layout": "IPY_MODEL_29a52f597a5340678321ac3b9830d9fe",
            "placeholder": "​",
            "style": "IPY_MODEL_5684ab2521ea44fa8b6b0ac4633ef49c",
            "value": "100%"
          }
        },
        "9d42aed0bf794162aaeb47b2105ec3e5": {
          "model_module": "@jupyter-widgets/controls",
          "model_name": "FloatProgressModel",
          "model_module_version": "1.5.0",
          "state": {
            "_dom_classes": [],
            "_model_module": "@jupyter-widgets/controls",
            "_model_module_version": "1.5.0",
            "_model_name": "FloatProgressModel",
            "_view_count": null,
            "_view_module": "@jupyter-widgets/controls",
            "_view_module_version": "1.5.0",
            "_view_name": "ProgressView",
            "bar_style": "success",
            "description": "",
            "description_tooltip": null,
            "layout": "IPY_MODEL_740abb730004424b8c380b650cc615c9",
            "max": 20,
            "min": 0,
            "orientation": "horizontal",
            "style": "IPY_MODEL_4b67e6490503441c8c009c6d2caf8f77",
            "value": 20
          }
        },
        "575bd075b71f409285aeba9fa8222c63": {
          "model_module": "@jupyter-widgets/controls",
          "model_name": "HTMLModel",
          "model_module_version": "1.5.0",
          "state": {
            "_dom_classes": [],
            "_model_module": "@jupyter-widgets/controls",
            "_model_module_version": "1.5.0",
            "_model_name": "HTMLModel",
            "_view_count": null,
            "_view_module": "@jupyter-widgets/controls",
            "_view_module_version": "1.5.0",
            "_view_name": "HTMLView",
            "description": "",
            "description_tooltip": null,
            "layout": "IPY_MODEL_07261243607240c2ad5d5e9f7d96d8d7",
            "placeholder": "​",
            "style": "IPY_MODEL_296e3cacdcdb473da655594e90d4fb04",
            "value": " 20/20 [00:20&lt;00:00,  1.01it/s]"
          }
        },
        "ea70034ca0a0477a9421a7f9c5122b94": {
          "model_module": "@jupyter-widgets/base",
          "model_name": "LayoutModel",
          "model_module_version": "1.2.0",
          "state": {
            "_model_module": "@jupyter-widgets/base",
            "_model_module_version": "1.2.0",
            "_model_name": "LayoutModel",
            "_view_count": null,
            "_view_module": "@jupyter-widgets/base",
            "_view_module_version": "1.2.0",
            "_view_name": "LayoutView",
            "align_content": null,
            "align_items": null,
            "align_self": null,
            "border": null,
            "bottom": null,
            "display": null,
            "flex": null,
            "flex_flow": null,
            "grid_area": null,
            "grid_auto_columns": null,
            "grid_auto_flow": null,
            "grid_auto_rows": null,
            "grid_column": null,
            "grid_gap": null,
            "grid_row": null,
            "grid_template_areas": null,
            "grid_template_columns": null,
            "grid_template_rows": null,
            "height": null,
            "justify_content": null,
            "justify_items": null,
            "left": null,
            "margin": null,
            "max_height": null,
            "max_width": null,
            "min_height": null,
            "min_width": null,
            "object_fit": null,
            "object_position": null,
            "order": null,
            "overflow": null,
            "overflow_x": null,
            "overflow_y": null,
            "padding": null,
            "right": null,
            "top": null,
            "visibility": null,
            "width": null
          }
        },
        "29a52f597a5340678321ac3b9830d9fe": {
          "model_module": "@jupyter-widgets/base",
          "model_name": "LayoutModel",
          "model_module_version": "1.2.0",
          "state": {
            "_model_module": "@jupyter-widgets/base",
            "_model_module_version": "1.2.0",
            "_model_name": "LayoutModel",
            "_view_count": null,
            "_view_module": "@jupyter-widgets/base",
            "_view_module_version": "1.2.0",
            "_view_name": "LayoutView",
            "align_content": null,
            "align_items": null,
            "align_self": null,
            "border": null,
            "bottom": null,
            "display": null,
            "flex": null,
            "flex_flow": null,
            "grid_area": null,
            "grid_auto_columns": null,
            "grid_auto_flow": null,
            "grid_auto_rows": null,
            "grid_column": null,
            "grid_gap": null,
            "grid_row": null,
            "grid_template_areas": null,
            "grid_template_columns": null,
            "grid_template_rows": null,
            "height": null,
            "justify_content": null,
            "justify_items": null,
            "left": null,
            "margin": null,
            "max_height": null,
            "max_width": null,
            "min_height": null,
            "min_width": null,
            "object_fit": null,
            "object_position": null,
            "order": null,
            "overflow": null,
            "overflow_x": null,
            "overflow_y": null,
            "padding": null,
            "right": null,
            "top": null,
            "visibility": null,
            "width": null
          }
        },
        "5684ab2521ea44fa8b6b0ac4633ef49c": {
          "model_module": "@jupyter-widgets/controls",
          "model_name": "DescriptionStyleModel",
          "model_module_version": "1.5.0",
          "state": {
            "_model_module": "@jupyter-widgets/controls",
            "_model_module_version": "1.5.0",
            "_model_name": "DescriptionStyleModel",
            "_view_count": null,
            "_view_module": "@jupyter-widgets/base",
            "_view_module_version": "1.2.0",
            "_view_name": "StyleView",
            "description_width": ""
          }
        },
        "740abb730004424b8c380b650cc615c9": {
          "model_module": "@jupyter-widgets/base",
          "model_name": "LayoutModel",
          "model_module_version": "1.2.0",
          "state": {
            "_model_module": "@jupyter-widgets/base",
            "_model_module_version": "1.2.0",
            "_model_name": "LayoutModel",
            "_view_count": null,
            "_view_module": "@jupyter-widgets/base",
            "_view_module_version": "1.2.0",
            "_view_name": "LayoutView",
            "align_content": null,
            "align_items": null,
            "align_self": null,
            "border": null,
            "bottom": null,
            "display": null,
            "flex": null,
            "flex_flow": null,
            "grid_area": null,
            "grid_auto_columns": null,
            "grid_auto_flow": null,
            "grid_auto_rows": null,
            "grid_column": null,
            "grid_gap": null,
            "grid_row": null,
            "grid_template_areas": null,
            "grid_template_columns": null,
            "grid_template_rows": null,
            "height": null,
            "justify_content": null,
            "justify_items": null,
            "left": null,
            "margin": null,
            "max_height": null,
            "max_width": null,
            "min_height": null,
            "min_width": null,
            "object_fit": null,
            "object_position": null,
            "order": null,
            "overflow": null,
            "overflow_x": null,
            "overflow_y": null,
            "padding": null,
            "right": null,
            "top": null,
            "visibility": null,
            "width": null
          }
        },
        "4b67e6490503441c8c009c6d2caf8f77": {
          "model_module": "@jupyter-widgets/controls",
          "model_name": "ProgressStyleModel",
          "model_module_version": "1.5.0",
          "state": {
            "_model_module": "@jupyter-widgets/controls",
            "_model_module_version": "1.5.0",
            "_model_name": "ProgressStyleModel",
            "_view_count": null,
            "_view_module": "@jupyter-widgets/base",
            "_view_module_version": "1.2.0",
            "_view_name": "StyleView",
            "bar_color": null,
            "description_width": ""
          }
        },
        "07261243607240c2ad5d5e9f7d96d8d7": {
          "model_module": "@jupyter-widgets/base",
          "model_name": "LayoutModel",
          "model_module_version": "1.2.0",
          "state": {
            "_model_module": "@jupyter-widgets/base",
            "_model_module_version": "1.2.0",
            "_model_name": "LayoutModel",
            "_view_count": null,
            "_view_module": "@jupyter-widgets/base",
            "_view_module_version": "1.2.0",
            "_view_name": "LayoutView",
            "align_content": null,
            "align_items": null,
            "align_self": null,
            "border": null,
            "bottom": null,
            "display": null,
            "flex": null,
            "flex_flow": null,
            "grid_area": null,
            "grid_auto_columns": null,
            "grid_auto_flow": null,
            "grid_auto_rows": null,
            "grid_column": null,
            "grid_gap": null,
            "grid_row": null,
            "grid_template_areas": null,
            "grid_template_columns": null,
            "grid_template_rows": null,
            "height": null,
            "justify_content": null,
            "justify_items": null,
            "left": null,
            "margin": null,
            "max_height": null,
            "max_width": null,
            "min_height": null,
            "min_width": null,
            "object_fit": null,
            "object_position": null,
            "order": null,
            "overflow": null,
            "overflow_x": null,
            "overflow_y": null,
            "padding": null,
            "right": null,
            "top": null,
            "visibility": null,
            "width": null
          }
        },
        "296e3cacdcdb473da655594e90d4fb04": {
          "model_module": "@jupyter-widgets/controls",
          "model_name": "DescriptionStyleModel",
          "model_module_version": "1.5.0",
          "state": {
            "_model_module": "@jupyter-widgets/controls",
            "_model_module_version": "1.5.0",
            "_model_name": "DescriptionStyleModel",
            "_view_count": null,
            "_view_module": "@jupyter-widgets/base",
            "_view_module_version": "1.2.0",
            "_view_name": "StyleView",
            "description_width": ""
          }
        },
        "b739395bcf63498b9c4d0a7d55b2968b": {
          "model_module": "@jupyter-widgets/controls",
          "model_name": "HBoxModel",
          "model_module_version": "1.5.0",
          "state": {
            "_dom_classes": [],
            "_model_module": "@jupyter-widgets/controls",
            "_model_module_version": "1.5.0",
            "_model_name": "HBoxModel",
            "_view_count": null,
            "_view_module": "@jupyter-widgets/controls",
            "_view_module_version": "1.5.0",
            "_view_name": "HBoxView",
            "box_style": "",
            "children": [
              "IPY_MODEL_69d3498b38ea401a996a52f199915581",
              "IPY_MODEL_b7179b1e1756489fbf2aeaa6ffa8221a",
              "IPY_MODEL_9791fe4b08bc4d67bace2eeb79b15a50"
            ],
            "layout": "IPY_MODEL_6ff76832af6d4512923636fb52017fe6"
          }
        },
        "69d3498b38ea401a996a52f199915581": {
          "model_module": "@jupyter-widgets/controls",
          "model_name": "HTMLModel",
          "model_module_version": "1.5.0",
          "state": {
            "_dom_classes": [],
            "_model_module": "@jupyter-widgets/controls",
            "_model_module_version": "1.5.0",
            "_model_name": "HTMLModel",
            "_view_count": null,
            "_view_module": "@jupyter-widgets/controls",
            "_view_module_version": "1.5.0",
            "_view_name": "HTMLView",
            "description": "",
            "description_tooltip": null,
            "layout": "IPY_MODEL_4de7a983731d4c9e942e9ebb943aab44",
            "placeholder": "​",
            "style": "IPY_MODEL_17eb1b24914644e2a37978d914023454",
            "value": "100%"
          }
        },
        "b7179b1e1756489fbf2aeaa6ffa8221a": {
          "model_module": "@jupyter-widgets/controls",
          "model_name": "FloatProgressModel",
          "model_module_version": "1.5.0",
          "state": {
            "_dom_classes": [],
            "_model_module": "@jupyter-widgets/controls",
            "_model_module_version": "1.5.0",
            "_model_name": "FloatProgressModel",
            "_view_count": null,
            "_view_module": "@jupyter-widgets/controls",
            "_view_module_version": "1.5.0",
            "_view_name": "ProgressView",
            "bar_style": "success",
            "description": "",
            "description_tooltip": null,
            "layout": "IPY_MODEL_e6ca70864f9e4503b2eac35b687a40e5",
            "max": 20,
            "min": 0,
            "orientation": "horizontal",
            "style": "IPY_MODEL_8eddf415fbb24e31b0bcee6696f87fee",
            "value": 20
          }
        },
        "9791fe4b08bc4d67bace2eeb79b15a50": {
          "model_module": "@jupyter-widgets/controls",
          "model_name": "HTMLModel",
          "model_module_version": "1.5.0",
          "state": {
            "_dom_classes": [],
            "_model_module": "@jupyter-widgets/controls",
            "_model_module_version": "1.5.0",
            "_model_name": "HTMLModel",
            "_view_count": null,
            "_view_module": "@jupyter-widgets/controls",
            "_view_module_version": "1.5.0",
            "_view_name": "HTMLView",
            "description": "",
            "description_tooltip": null,
            "layout": "IPY_MODEL_9e64c0698e024a088eccf6e792a15c4d",
            "placeholder": "​",
            "style": "IPY_MODEL_d36b5c918c7d4b4b9353316d8a007a47",
            "value": " 20/20 [00:21&lt;00:00,  1.14s/it]"
          }
        },
        "6ff76832af6d4512923636fb52017fe6": {
          "model_module": "@jupyter-widgets/base",
          "model_name": "LayoutModel",
          "model_module_version": "1.2.0",
          "state": {
            "_model_module": "@jupyter-widgets/base",
            "_model_module_version": "1.2.0",
            "_model_name": "LayoutModel",
            "_view_count": null,
            "_view_module": "@jupyter-widgets/base",
            "_view_module_version": "1.2.0",
            "_view_name": "LayoutView",
            "align_content": null,
            "align_items": null,
            "align_self": null,
            "border": null,
            "bottom": null,
            "display": null,
            "flex": null,
            "flex_flow": null,
            "grid_area": null,
            "grid_auto_columns": null,
            "grid_auto_flow": null,
            "grid_auto_rows": null,
            "grid_column": null,
            "grid_gap": null,
            "grid_row": null,
            "grid_template_areas": null,
            "grid_template_columns": null,
            "grid_template_rows": null,
            "height": null,
            "justify_content": null,
            "justify_items": null,
            "left": null,
            "margin": null,
            "max_height": null,
            "max_width": null,
            "min_height": null,
            "min_width": null,
            "object_fit": null,
            "object_position": null,
            "order": null,
            "overflow": null,
            "overflow_x": null,
            "overflow_y": null,
            "padding": null,
            "right": null,
            "top": null,
            "visibility": null,
            "width": null
          }
        },
        "4de7a983731d4c9e942e9ebb943aab44": {
          "model_module": "@jupyter-widgets/base",
          "model_name": "LayoutModel",
          "model_module_version": "1.2.0",
          "state": {
            "_model_module": "@jupyter-widgets/base",
            "_model_module_version": "1.2.0",
            "_model_name": "LayoutModel",
            "_view_count": null,
            "_view_module": "@jupyter-widgets/base",
            "_view_module_version": "1.2.0",
            "_view_name": "LayoutView",
            "align_content": null,
            "align_items": null,
            "align_self": null,
            "border": null,
            "bottom": null,
            "display": null,
            "flex": null,
            "flex_flow": null,
            "grid_area": null,
            "grid_auto_columns": null,
            "grid_auto_flow": null,
            "grid_auto_rows": null,
            "grid_column": null,
            "grid_gap": null,
            "grid_row": null,
            "grid_template_areas": null,
            "grid_template_columns": null,
            "grid_template_rows": null,
            "height": null,
            "justify_content": null,
            "justify_items": null,
            "left": null,
            "margin": null,
            "max_height": null,
            "max_width": null,
            "min_height": null,
            "min_width": null,
            "object_fit": null,
            "object_position": null,
            "order": null,
            "overflow": null,
            "overflow_x": null,
            "overflow_y": null,
            "padding": null,
            "right": null,
            "top": null,
            "visibility": null,
            "width": null
          }
        },
        "17eb1b24914644e2a37978d914023454": {
          "model_module": "@jupyter-widgets/controls",
          "model_name": "DescriptionStyleModel",
          "model_module_version": "1.5.0",
          "state": {
            "_model_module": "@jupyter-widgets/controls",
            "_model_module_version": "1.5.0",
            "_model_name": "DescriptionStyleModel",
            "_view_count": null,
            "_view_module": "@jupyter-widgets/base",
            "_view_module_version": "1.2.0",
            "_view_name": "StyleView",
            "description_width": ""
          }
        },
        "e6ca70864f9e4503b2eac35b687a40e5": {
          "model_module": "@jupyter-widgets/base",
          "model_name": "LayoutModel",
          "model_module_version": "1.2.0",
          "state": {
            "_model_module": "@jupyter-widgets/base",
            "_model_module_version": "1.2.0",
            "_model_name": "LayoutModel",
            "_view_count": null,
            "_view_module": "@jupyter-widgets/base",
            "_view_module_version": "1.2.0",
            "_view_name": "LayoutView",
            "align_content": null,
            "align_items": null,
            "align_self": null,
            "border": null,
            "bottom": null,
            "display": null,
            "flex": null,
            "flex_flow": null,
            "grid_area": null,
            "grid_auto_columns": null,
            "grid_auto_flow": null,
            "grid_auto_rows": null,
            "grid_column": null,
            "grid_gap": null,
            "grid_row": null,
            "grid_template_areas": null,
            "grid_template_columns": null,
            "grid_template_rows": null,
            "height": null,
            "justify_content": null,
            "justify_items": null,
            "left": null,
            "margin": null,
            "max_height": null,
            "max_width": null,
            "min_height": null,
            "min_width": null,
            "object_fit": null,
            "object_position": null,
            "order": null,
            "overflow": null,
            "overflow_x": null,
            "overflow_y": null,
            "padding": null,
            "right": null,
            "top": null,
            "visibility": null,
            "width": null
          }
        },
        "8eddf415fbb24e31b0bcee6696f87fee": {
          "model_module": "@jupyter-widgets/controls",
          "model_name": "ProgressStyleModel",
          "model_module_version": "1.5.0",
          "state": {
            "_model_module": "@jupyter-widgets/controls",
            "_model_module_version": "1.5.0",
            "_model_name": "ProgressStyleModel",
            "_view_count": null,
            "_view_module": "@jupyter-widgets/base",
            "_view_module_version": "1.2.0",
            "_view_name": "StyleView",
            "bar_color": null,
            "description_width": ""
          }
        },
        "9e64c0698e024a088eccf6e792a15c4d": {
          "model_module": "@jupyter-widgets/base",
          "model_name": "LayoutModel",
          "model_module_version": "1.2.0",
          "state": {
            "_model_module": "@jupyter-widgets/base",
            "_model_module_version": "1.2.0",
            "_model_name": "LayoutModel",
            "_view_count": null,
            "_view_module": "@jupyter-widgets/base",
            "_view_module_version": "1.2.0",
            "_view_name": "LayoutView",
            "align_content": null,
            "align_items": null,
            "align_self": null,
            "border": null,
            "bottom": null,
            "display": null,
            "flex": null,
            "flex_flow": null,
            "grid_area": null,
            "grid_auto_columns": null,
            "grid_auto_flow": null,
            "grid_auto_rows": null,
            "grid_column": null,
            "grid_gap": null,
            "grid_row": null,
            "grid_template_areas": null,
            "grid_template_columns": null,
            "grid_template_rows": null,
            "height": null,
            "justify_content": null,
            "justify_items": null,
            "left": null,
            "margin": null,
            "max_height": null,
            "max_width": null,
            "min_height": null,
            "min_width": null,
            "object_fit": null,
            "object_position": null,
            "order": null,
            "overflow": null,
            "overflow_x": null,
            "overflow_y": null,
            "padding": null,
            "right": null,
            "top": null,
            "visibility": null,
            "width": null
          }
        },
        "d36b5c918c7d4b4b9353316d8a007a47": {
          "model_module": "@jupyter-widgets/controls",
          "model_name": "DescriptionStyleModel",
          "model_module_version": "1.5.0",
          "state": {
            "_model_module": "@jupyter-widgets/controls",
            "_model_module_version": "1.5.0",
            "_model_name": "DescriptionStyleModel",
            "_view_count": null,
            "_view_module": "@jupyter-widgets/base",
            "_view_module_version": "1.2.0",
            "_view_name": "StyleView",
            "description_width": ""
          }
        },
        "488c18f642a6427cb4ac9ccd5a10f01a": {
          "model_module": "@jupyter-widgets/controls",
          "model_name": "HBoxModel",
          "model_module_version": "1.5.0",
          "state": {
            "_dom_classes": [],
            "_model_module": "@jupyter-widgets/controls",
            "_model_module_version": "1.5.0",
            "_model_name": "HBoxModel",
            "_view_count": null,
            "_view_module": "@jupyter-widgets/controls",
            "_view_module_version": "1.5.0",
            "_view_name": "HBoxView",
            "box_style": "",
            "children": [
              "IPY_MODEL_f826096aa642468f8049af4fd1186b89",
              "IPY_MODEL_b41f941b73204a6b9fc501276ef1a91e",
              "IPY_MODEL_c04a2815b3d143bf98b99a0d89731e36"
            ],
            "layout": "IPY_MODEL_8dbaf8a0d94044419ff621b076266c1b"
          }
        },
        "f826096aa642468f8049af4fd1186b89": {
          "model_module": "@jupyter-widgets/controls",
          "model_name": "HTMLModel",
          "model_module_version": "1.5.0",
          "state": {
            "_dom_classes": [],
            "_model_module": "@jupyter-widgets/controls",
            "_model_module_version": "1.5.0",
            "_model_name": "HTMLModel",
            "_view_count": null,
            "_view_module": "@jupyter-widgets/controls",
            "_view_module_version": "1.5.0",
            "_view_name": "HTMLView",
            "description": "",
            "description_tooltip": null,
            "layout": "IPY_MODEL_1ab74a26400941368b8697ec6f421596",
            "placeholder": "​",
            "style": "IPY_MODEL_160e1d07c5b64f1ea4c13551b641c994",
            "value": "100%"
          }
        },
        "b41f941b73204a6b9fc501276ef1a91e": {
          "model_module": "@jupyter-widgets/controls",
          "model_name": "FloatProgressModel",
          "model_module_version": "1.5.0",
          "state": {
            "_dom_classes": [],
            "_model_module": "@jupyter-widgets/controls",
            "_model_module_version": "1.5.0",
            "_model_name": "FloatProgressModel",
            "_view_count": null,
            "_view_module": "@jupyter-widgets/controls",
            "_view_module_version": "1.5.0",
            "_view_name": "ProgressView",
            "bar_style": "success",
            "description": "",
            "description_tooltip": null,
            "layout": "IPY_MODEL_cb84d9a4abe34b6088bf901a96010718",
            "max": 20,
            "min": 0,
            "orientation": "horizontal",
            "style": "IPY_MODEL_d311773a06a847969c8db0e8f83f8d8b",
            "value": 20
          }
        },
        "c04a2815b3d143bf98b99a0d89731e36": {
          "model_module": "@jupyter-widgets/controls",
          "model_name": "HTMLModel",
          "model_module_version": "1.5.0",
          "state": {
            "_dom_classes": [],
            "_model_module": "@jupyter-widgets/controls",
            "_model_module_version": "1.5.0",
            "_model_name": "HTMLModel",
            "_view_count": null,
            "_view_module": "@jupyter-widgets/controls",
            "_view_module_version": "1.5.0",
            "_view_name": "HTMLView",
            "description": "",
            "description_tooltip": null,
            "layout": "IPY_MODEL_775b49ad610f414a8c6576b4a82589c0",
            "placeholder": "​",
            "style": "IPY_MODEL_ac24df448fe846b99efd8054fccf66ea",
            "value": " 20/20 [00:18&lt;00:00,  1.05it/s]"
          }
        },
        "8dbaf8a0d94044419ff621b076266c1b": {
          "model_module": "@jupyter-widgets/base",
          "model_name": "LayoutModel",
          "model_module_version": "1.2.0",
          "state": {
            "_model_module": "@jupyter-widgets/base",
            "_model_module_version": "1.2.0",
            "_model_name": "LayoutModel",
            "_view_count": null,
            "_view_module": "@jupyter-widgets/base",
            "_view_module_version": "1.2.0",
            "_view_name": "LayoutView",
            "align_content": null,
            "align_items": null,
            "align_self": null,
            "border": null,
            "bottom": null,
            "display": null,
            "flex": null,
            "flex_flow": null,
            "grid_area": null,
            "grid_auto_columns": null,
            "grid_auto_flow": null,
            "grid_auto_rows": null,
            "grid_column": null,
            "grid_gap": null,
            "grid_row": null,
            "grid_template_areas": null,
            "grid_template_columns": null,
            "grid_template_rows": null,
            "height": null,
            "justify_content": null,
            "justify_items": null,
            "left": null,
            "margin": null,
            "max_height": null,
            "max_width": null,
            "min_height": null,
            "min_width": null,
            "object_fit": null,
            "object_position": null,
            "order": null,
            "overflow": null,
            "overflow_x": null,
            "overflow_y": null,
            "padding": null,
            "right": null,
            "top": null,
            "visibility": null,
            "width": null
          }
        },
        "1ab74a26400941368b8697ec6f421596": {
          "model_module": "@jupyter-widgets/base",
          "model_name": "LayoutModel",
          "model_module_version": "1.2.0",
          "state": {
            "_model_module": "@jupyter-widgets/base",
            "_model_module_version": "1.2.0",
            "_model_name": "LayoutModel",
            "_view_count": null,
            "_view_module": "@jupyter-widgets/base",
            "_view_module_version": "1.2.0",
            "_view_name": "LayoutView",
            "align_content": null,
            "align_items": null,
            "align_self": null,
            "border": null,
            "bottom": null,
            "display": null,
            "flex": null,
            "flex_flow": null,
            "grid_area": null,
            "grid_auto_columns": null,
            "grid_auto_flow": null,
            "grid_auto_rows": null,
            "grid_column": null,
            "grid_gap": null,
            "grid_row": null,
            "grid_template_areas": null,
            "grid_template_columns": null,
            "grid_template_rows": null,
            "height": null,
            "justify_content": null,
            "justify_items": null,
            "left": null,
            "margin": null,
            "max_height": null,
            "max_width": null,
            "min_height": null,
            "min_width": null,
            "object_fit": null,
            "object_position": null,
            "order": null,
            "overflow": null,
            "overflow_x": null,
            "overflow_y": null,
            "padding": null,
            "right": null,
            "top": null,
            "visibility": null,
            "width": null
          }
        },
        "160e1d07c5b64f1ea4c13551b641c994": {
          "model_module": "@jupyter-widgets/controls",
          "model_name": "DescriptionStyleModel",
          "model_module_version": "1.5.0",
          "state": {
            "_model_module": "@jupyter-widgets/controls",
            "_model_module_version": "1.5.0",
            "_model_name": "DescriptionStyleModel",
            "_view_count": null,
            "_view_module": "@jupyter-widgets/base",
            "_view_module_version": "1.2.0",
            "_view_name": "StyleView",
            "description_width": ""
          }
        },
        "cb84d9a4abe34b6088bf901a96010718": {
          "model_module": "@jupyter-widgets/base",
          "model_name": "LayoutModel",
          "model_module_version": "1.2.0",
          "state": {
            "_model_module": "@jupyter-widgets/base",
            "_model_module_version": "1.2.0",
            "_model_name": "LayoutModel",
            "_view_count": null,
            "_view_module": "@jupyter-widgets/base",
            "_view_module_version": "1.2.0",
            "_view_name": "LayoutView",
            "align_content": null,
            "align_items": null,
            "align_self": null,
            "border": null,
            "bottom": null,
            "display": null,
            "flex": null,
            "flex_flow": null,
            "grid_area": null,
            "grid_auto_columns": null,
            "grid_auto_flow": null,
            "grid_auto_rows": null,
            "grid_column": null,
            "grid_gap": null,
            "grid_row": null,
            "grid_template_areas": null,
            "grid_template_columns": null,
            "grid_template_rows": null,
            "height": null,
            "justify_content": null,
            "justify_items": null,
            "left": null,
            "margin": null,
            "max_height": null,
            "max_width": null,
            "min_height": null,
            "min_width": null,
            "object_fit": null,
            "object_position": null,
            "order": null,
            "overflow": null,
            "overflow_x": null,
            "overflow_y": null,
            "padding": null,
            "right": null,
            "top": null,
            "visibility": null,
            "width": null
          }
        },
        "d311773a06a847969c8db0e8f83f8d8b": {
          "model_module": "@jupyter-widgets/controls",
          "model_name": "ProgressStyleModel",
          "model_module_version": "1.5.0",
          "state": {
            "_model_module": "@jupyter-widgets/controls",
            "_model_module_version": "1.5.0",
            "_model_name": "ProgressStyleModel",
            "_view_count": null,
            "_view_module": "@jupyter-widgets/base",
            "_view_module_version": "1.2.0",
            "_view_name": "StyleView",
            "bar_color": null,
            "description_width": ""
          }
        },
        "775b49ad610f414a8c6576b4a82589c0": {
          "model_module": "@jupyter-widgets/base",
          "model_name": "LayoutModel",
          "model_module_version": "1.2.0",
          "state": {
            "_model_module": "@jupyter-widgets/base",
            "_model_module_version": "1.2.0",
            "_model_name": "LayoutModel",
            "_view_count": null,
            "_view_module": "@jupyter-widgets/base",
            "_view_module_version": "1.2.0",
            "_view_name": "LayoutView",
            "align_content": null,
            "align_items": null,
            "align_self": null,
            "border": null,
            "bottom": null,
            "display": null,
            "flex": null,
            "flex_flow": null,
            "grid_area": null,
            "grid_auto_columns": null,
            "grid_auto_flow": null,
            "grid_auto_rows": null,
            "grid_column": null,
            "grid_gap": null,
            "grid_row": null,
            "grid_template_areas": null,
            "grid_template_columns": null,
            "grid_template_rows": null,
            "height": null,
            "justify_content": null,
            "justify_items": null,
            "left": null,
            "margin": null,
            "max_height": null,
            "max_width": null,
            "min_height": null,
            "min_width": null,
            "object_fit": null,
            "object_position": null,
            "order": null,
            "overflow": null,
            "overflow_x": null,
            "overflow_y": null,
            "padding": null,
            "right": null,
            "top": null,
            "visibility": null,
            "width": null
          }
        },
        "ac24df448fe846b99efd8054fccf66ea": {
          "model_module": "@jupyter-widgets/controls",
          "model_name": "DescriptionStyleModel",
          "model_module_version": "1.5.0",
          "state": {
            "_model_module": "@jupyter-widgets/controls",
            "_model_module_version": "1.5.0",
            "_model_name": "DescriptionStyleModel",
            "_view_count": null,
            "_view_module": "@jupyter-widgets/base",
            "_view_module_version": "1.2.0",
            "_view_name": "StyleView",
            "description_width": ""
          }
        },
        "56c01534120e451283d7f868e323cc0c": {
          "model_module": "@jupyter-widgets/controls",
          "model_name": "HBoxModel",
          "model_module_version": "1.5.0",
          "state": {
            "_dom_classes": [],
            "_model_module": "@jupyter-widgets/controls",
            "_model_module_version": "1.5.0",
            "_model_name": "HBoxModel",
            "_view_count": null,
            "_view_module": "@jupyter-widgets/controls",
            "_view_module_version": "1.5.0",
            "_view_name": "HBoxView",
            "box_style": "",
            "children": [
              "IPY_MODEL_e0d33a43f5d349f3a4eec6bb5b67dc80",
              "IPY_MODEL_78a9ef191c7547b6b8354994d78c3b7c",
              "IPY_MODEL_294bd902379145829d4768ad95d95e41"
            ],
            "layout": "IPY_MODEL_55e342f66d2047caa7eb2a73288d59a0"
          }
        },
        "e0d33a43f5d349f3a4eec6bb5b67dc80": {
          "model_module": "@jupyter-widgets/controls",
          "model_name": "HTMLModel",
          "model_module_version": "1.5.0",
          "state": {
            "_dom_classes": [],
            "_model_module": "@jupyter-widgets/controls",
            "_model_module_version": "1.5.0",
            "_model_name": "HTMLModel",
            "_view_count": null,
            "_view_module": "@jupyter-widgets/controls",
            "_view_module_version": "1.5.0",
            "_view_name": "HTMLView",
            "description": "",
            "description_tooltip": null,
            "layout": "IPY_MODEL_c93e0402480c4f9fbc4aa7fec2f1250b",
            "placeholder": "​",
            "style": "IPY_MODEL_31917e0ee30944e886564a3f23a6056a",
            "value": "100%"
          }
        },
        "78a9ef191c7547b6b8354994d78c3b7c": {
          "model_module": "@jupyter-widgets/controls",
          "model_name": "FloatProgressModel",
          "model_module_version": "1.5.0",
          "state": {
            "_dom_classes": [],
            "_model_module": "@jupyter-widgets/controls",
            "_model_module_version": "1.5.0",
            "_model_name": "FloatProgressModel",
            "_view_count": null,
            "_view_module": "@jupyter-widgets/controls",
            "_view_module_version": "1.5.0",
            "_view_name": "ProgressView",
            "bar_style": "success",
            "description": "",
            "description_tooltip": null,
            "layout": "IPY_MODEL_50c0326fbcd74d3c98f248e3c43d9802",
            "max": 20,
            "min": 0,
            "orientation": "horizontal",
            "style": "IPY_MODEL_a27af523f2b149d1ad8816875b6754e3",
            "value": 20
          }
        },
        "294bd902379145829d4768ad95d95e41": {
          "model_module": "@jupyter-widgets/controls",
          "model_name": "HTMLModel",
          "model_module_version": "1.5.0",
          "state": {
            "_dom_classes": [],
            "_model_module": "@jupyter-widgets/controls",
            "_model_module_version": "1.5.0",
            "_model_name": "HTMLModel",
            "_view_count": null,
            "_view_module": "@jupyter-widgets/controls",
            "_view_module_version": "1.5.0",
            "_view_name": "HTMLView",
            "description": "",
            "description_tooltip": null,
            "layout": "IPY_MODEL_73304676a5e44a94a89dc26c10ed456e",
            "placeholder": "​",
            "style": "IPY_MODEL_77ccb9f2fb3742f9b4b89ad53d20356a",
            "value": " 20/20 [00:18&lt;00:00,  1.06it/s]"
          }
        },
        "55e342f66d2047caa7eb2a73288d59a0": {
          "model_module": "@jupyter-widgets/base",
          "model_name": "LayoutModel",
          "model_module_version": "1.2.0",
          "state": {
            "_model_module": "@jupyter-widgets/base",
            "_model_module_version": "1.2.0",
            "_model_name": "LayoutModel",
            "_view_count": null,
            "_view_module": "@jupyter-widgets/base",
            "_view_module_version": "1.2.0",
            "_view_name": "LayoutView",
            "align_content": null,
            "align_items": null,
            "align_self": null,
            "border": null,
            "bottom": null,
            "display": null,
            "flex": null,
            "flex_flow": null,
            "grid_area": null,
            "grid_auto_columns": null,
            "grid_auto_flow": null,
            "grid_auto_rows": null,
            "grid_column": null,
            "grid_gap": null,
            "grid_row": null,
            "grid_template_areas": null,
            "grid_template_columns": null,
            "grid_template_rows": null,
            "height": null,
            "justify_content": null,
            "justify_items": null,
            "left": null,
            "margin": null,
            "max_height": null,
            "max_width": null,
            "min_height": null,
            "min_width": null,
            "object_fit": null,
            "object_position": null,
            "order": null,
            "overflow": null,
            "overflow_x": null,
            "overflow_y": null,
            "padding": null,
            "right": null,
            "top": null,
            "visibility": null,
            "width": null
          }
        },
        "c93e0402480c4f9fbc4aa7fec2f1250b": {
          "model_module": "@jupyter-widgets/base",
          "model_name": "LayoutModel",
          "model_module_version": "1.2.0",
          "state": {
            "_model_module": "@jupyter-widgets/base",
            "_model_module_version": "1.2.0",
            "_model_name": "LayoutModel",
            "_view_count": null,
            "_view_module": "@jupyter-widgets/base",
            "_view_module_version": "1.2.0",
            "_view_name": "LayoutView",
            "align_content": null,
            "align_items": null,
            "align_self": null,
            "border": null,
            "bottom": null,
            "display": null,
            "flex": null,
            "flex_flow": null,
            "grid_area": null,
            "grid_auto_columns": null,
            "grid_auto_flow": null,
            "grid_auto_rows": null,
            "grid_column": null,
            "grid_gap": null,
            "grid_row": null,
            "grid_template_areas": null,
            "grid_template_columns": null,
            "grid_template_rows": null,
            "height": null,
            "justify_content": null,
            "justify_items": null,
            "left": null,
            "margin": null,
            "max_height": null,
            "max_width": null,
            "min_height": null,
            "min_width": null,
            "object_fit": null,
            "object_position": null,
            "order": null,
            "overflow": null,
            "overflow_x": null,
            "overflow_y": null,
            "padding": null,
            "right": null,
            "top": null,
            "visibility": null,
            "width": null
          }
        },
        "31917e0ee30944e886564a3f23a6056a": {
          "model_module": "@jupyter-widgets/controls",
          "model_name": "DescriptionStyleModel",
          "model_module_version": "1.5.0",
          "state": {
            "_model_module": "@jupyter-widgets/controls",
            "_model_module_version": "1.5.0",
            "_model_name": "DescriptionStyleModel",
            "_view_count": null,
            "_view_module": "@jupyter-widgets/base",
            "_view_module_version": "1.2.0",
            "_view_name": "StyleView",
            "description_width": ""
          }
        },
        "50c0326fbcd74d3c98f248e3c43d9802": {
          "model_module": "@jupyter-widgets/base",
          "model_name": "LayoutModel",
          "model_module_version": "1.2.0",
          "state": {
            "_model_module": "@jupyter-widgets/base",
            "_model_module_version": "1.2.0",
            "_model_name": "LayoutModel",
            "_view_count": null,
            "_view_module": "@jupyter-widgets/base",
            "_view_module_version": "1.2.0",
            "_view_name": "LayoutView",
            "align_content": null,
            "align_items": null,
            "align_self": null,
            "border": null,
            "bottom": null,
            "display": null,
            "flex": null,
            "flex_flow": null,
            "grid_area": null,
            "grid_auto_columns": null,
            "grid_auto_flow": null,
            "grid_auto_rows": null,
            "grid_column": null,
            "grid_gap": null,
            "grid_row": null,
            "grid_template_areas": null,
            "grid_template_columns": null,
            "grid_template_rows": null,
            "height": null,
            "justify_content": null,
            "justify_items": null,
            "left": null,
            "margin": null,
            "max_height": null,
            "max_width": null,
            "min_height": null,
            "min_width": null,
            "object_fit": null,
            "object_position": null,
            "order": null,
            "overflow": null,
            "overflow_x": null,
            "overflow_y": null,
            "padding": null,
            "right": null,
            "top": null,
            "visibility": null,
            "width": null
          }
        },
        "a27af523f2b149d1ad8816875b6754e3": {
          "model_module": "@jupyter-widgets/controls",
          "model_name": "ProgressStyleModel",
          "model_module_version": "1.5.0",
          "state": {
            "_model_module": "@jupyter-widgets/controls",
            "_model_module_version": "1.5.0",
            "_model_name": "ProgressStyleModel",
            "_view_count": null,
            "_view_module": "@jupyter-widgets/base",
            "_view_module_version": "1.2.0",
            "_view_name": "StyleView",
            "bar_color": null,
            "description_width": ""
          }
        },
        "73304676a5e44a94a89dc26c10ed456e": {
          "model_module": "@jupyter-widgets/base",
          "model_name": "LayoutModel",
          "model_module_version": "1.2.0",
          "state": {
            "_model_module": "@jupyter-widgets/base",
            "_model_module_version": "1.2.0",
            "_model_name": "LayoutModel",
            "_view_count": null,
            "_view_module": "@jupyter-widgets/base",
            "_view_module_version": "1.2.0",
            "_view_name": "LayoutView",
            "align_content": null,
            "align_items": null,
            "align_self": null,
            "border": null,
            "bottom": null,
            "display": null,
            "flex": null,
            "flex_flow": null,
            "grid_area": null,
            "grid_auto_columns": null,
            "grid_auto_flow": null,
            "grid_auto_rows": null,
            "grid_column": null,
            "grid_gap": null,
            "grid_row": null,
            "grid_template_areas": null,
            "grid_template_columns": null,
            "grid_template_rows": null,
            "height": null,
            "justify_content": null,
            "justify_items": null,
            "left": null,
            "margin": null,
            "max_height": null,
            "max_width": null,
            "min_height": null,
            "min_width": null,
            "object_fit": null,
            "object_position": null,
            "order": null,
            "overflow": null,
            "overflow_x": null,
            "overflow_y": null,
            "padding": null,
            "right": null,
            "top": null,
            "visibility": null,
            "width": null
          }
        },
        "77ccb9f2fb3742f9b4b89ad53d20356a": {
          "model_module": "@jupyter-widgets/controls",
          "model_name": "DescriptionStyleModel",
          "model_module_version": "1.5.0",
          "state": {
            "_model_module": "@jupyter-widgets/controls",
            "_model_module_version": "1.5.0",
            "_model_name": "DescriptionStyleModel",
            "_view_count": null,
            "_view_module": "@jupyter-widgets/base",
            "_view_module_version": "1.2.0",
            "_view_name": "StyleView",
            "description_width": ""
          }
        },
        "0d554c2b477e4a398dbfe74a96a92f51": {
          "model_module": "@jupyter-widgets/controls",
          "model_name": "HBoxModel",
          "model_module_version": "1.5.0",
          "state": {
            "_dom_classes": [],
            "_model_module": "@jupyter-widgets/controls",
            "_model_module_version": "1.5.0",
            "_model_name": "HBoxModel",
            "_view_count": null,
            "_view_module": "@jupyter-widgets/controls",
            "_view_module_version": "1.5.0",
            "_view_name": "HBoxView",
            "box_style": "",
            "children": [
              "IPY_MODEL_d983d3897cea41659e2311c47c07c8d7",
              "IPY_MODEL_bcd0f55d4ec34f86a1e6484b23989f68",
              "IPY_MODEL_2c90696108694e5e838da9de85b16c96"
            ],
            "layout": "IPY_MODEL_453ad2f1fbae4799acb9723c1cc44e96"
          }
        },
        "d983d3897cea41659e2311c47c07c8d7": {
          "model_module": "@jupyter-widgets/controls",
          "model_name": "HTMLModel",
          "model_module_version": "1.5.0",
          "state": {
            "_dom_classes": [],
            "_model_module": "@jupyter-widgets/controls",
            "_model_module_version": "1.5.0",
            "_model_name": "HTMLModel",
            "_view_count": null,
            "_view_module": "@jupyter-widgets/controls",
            "_view_module_version": "1.5.0",
            "_view_name": "HTMLView",
            "description": "",
            "description_tooltip": null,
            "layout": "IPY_MODEL_815bc6c03c2b490a9d81af0ff0e5e3d5",
            "placeholder": "​",
            "style": "IPY_MODEL_39ef1757083c4f0fb77f59f109fec9d7",
            "value": "100%"
          }
        },
        "bcd0f55d4ec34f86a1e6484b23989f68": {
          "model_module": "@jupyter-widgets/controls",
          "model_name": "FloatProgressModel",
          "model_module_version": "1.5.0",
          "state": {
            "_dom_classes": [],
            "_model_module": "@jupyter-widgets/controls",
            "_model_module_version": "1.5.0",
            "_model_name": "FloatProgressModel",
            "_view_count": null,
            "_view_module": "@jupyter-widgets/controls",
            "_view_module_version": "1.5.0",
            "_view_name": "ProgressView",
            "bar_style": "success",
            "description": "",
            "description_tooltip": null,
            "layout": "IPY_MODEL_17b74196afb042f8ab8b7d737b121dc6",
            "max": 2,
            "min": 0,
            "orientation": "horizontal",
            "style": "IPY_MODEL_ebb7b07e66b2431aba0ad54813c1659c",
            "value": 2
          }
        },
        "2c90696108694e5e838da9de85b16c96": {
          "model_module": "@jupyter-widgets/controls",
          "model_name": "HTMLModel",
          "model_module_version": "1.5.0",
          "state": {
            "_dom_classes": [],
            "_model_module": "@jupyter-widgets/controls",
            "_model_module_version": "1.5.0",
            "_model_name": "HTMLModel",
            "_view_count": null,
            "_view_module": "@jupyter-widgets/controls",
            "_view_module_version": "1.5.0",
            "_view_name": "HTMLView",
            "description": "",
            "description_tooltip": null,
            "layout": "IPY_MODEL_712d523382694a73ad34851c53601e3a",
            "placeholder": "​",
            "style": "IPY_MODEL_fc05249a6571434f8e1b5d581f27b8b5",
            "value": " 2/2 [00:02&lt;00:00,  1.01s/it]"
          }
        },
        "453ad2f1fbae4799acb9723c1cc44e96": {
          "model_module": "@jupyter-widgets/base",
          "model_name": "LayoutModel",
          "model_module_version": "1.2.0",
          "state": {
            "_model_module": "@jupyter-widgets/base",
            "_model_module_version": "1.2.0",
            "_model_name": "LayoutModel",
            "_view_count": null,
            "_view_module": "@jupyter-widgets/base",
            "_view_module_version": "1.2.0",
            "_view_name": "LayoutView",
            "align_content": null,
            "align_items": null,
            "align_self": null,
            "border": null,
            "bottom": null,
            "display": null,
            "flex": null,
            "flex_flow": null,
            "grid_area": null,
            "grid_auto_columns": null,
            "grid_auto_flow": null,
            "grid_auto_rows": null,
            "grid_column": null,
            "grid_gap": null,
            "grid_row": null,
            "grid_template_areas": null,
            "grid_template_columns": null,
            "grid_template_rows": null,
            "height": null,
            "justify_content": null,
            "justify_items": null,
            "left": null,
            "margin": null,
            "max_height": null,
            "max_width": null,
            "min_height": null,
            "min_width": null,
            "object_fit": null,
            "object_position": null,
            "order": null,
            "overflow": null,
            "overflow_x": null,
            "overflow_y": null,
            "padding": null,
            "right": null,
            "top": null,
            "visibility": null,
            "width": null
          }
        },
        "815bc6c03c2b490a9d81af0ff0e5e3d5": {
          "model_module": "@jupyter-widgets/base",
          "model_name": "LayoutModel",
          "model_module_version": "1.2.0",
          "state": {
            "_model_module": "@jupyter-widgets/base",
            "_model_module_version": "1.2.0",
            "_model_name": "LayoutModel",
            "_view_count": null,
            "_view_module": "@jupyter-widgets/base",
            "_view_module_version": "1.2.0",
            "_view_name": "LayoutView",
            "align_content": null,
            "align_items": null,
            "align_self": null,
            "border": null,
            "bottom": null,
            "display": null,
            "flex": null,
            "flex_flow": null,
            "grid_area": null,
            "grid_auto_columns": null,
            "grid_auto_flow": null,
            "grid_auto_rows": null,
            "grid_column": null,
            "grid_gap": null,
            "grid_row": null,
            "grid_template_areas": null,
            "grid_template_columns": null,
            "grid_template_rows": null,
            "height": null,
            "justify_content": null,
            "justify_items": null,
            "left": null,
            "margin": null,
            "max_height": null,
            "max_width": null,
            "min_height": null,
            "min_width": null,
            "object_fit": null,
            "object_position": null,
            "order": null,
            "overflow": null,
            "overflow_x": null,
            "overflow_y": null,
            "padding": null,
            "right": null,
            "top": null,
            "visibility": null,
            "width": null
          }
        },
        "39ef1757083c4f0fb77f59f109fec9d7": {
          "model_module": "@jupyter-widgets/controls",
          "model_name": "DescriptionStyleModel",
          "model_module_version": "1.5.0",
          "state": {
            "_model_module": "@jupyter-widgets/controls",
            "_model_module_version": "1.5.0",
            "_model_name": "DescriptionStyleModel",
            "_view_count": null,
            "_view_module": "@jupyter-widgets/base",
            "_view_module_version": "1.2.0",
            "_view_name": "StyleView",
            "description_width": ""
          }
        },
        "17b74196afb042f8ab8b7d737b121dc6": {
          "model_module": "@jupyter-widgets/base",
          "model_name": "LayoutModel",
          "model_module_version": "1.2.0",
          "state": {
            "_model_module": "@jupyter-widgets/base",
            "_model_module_version": "1.2.0",
            "_model_name": "LayoutModel",
            "_view_count": null,
            "_view_module": "@jupyter-widgets/base",
            "_view_module_version": "1.2.0",
            "_view_name": "LayoutView",
            "align_content": null,
            "align_items": null,
            "align_self": null,
            "border": null,
            "bottom": null,
            "display": null,
            "flex": null,
            "flex_flow": null,
            "grid_area": null,
            "grid_auto_columns": null,
            "grid_auto_flow": null,
            "grid_auto_rows": null,
            "grid_column": null,
            "grid_gap": null,
            "grid_row": null,
            "grid_template_areas": null,
            "grid_template_columns": null,
            "grid_template_rows": null,
            "height": null,
            "justify_content": null,
            "justify_items": null,
            "left": null,
            "margin": null,
            "max_height": null,
            "max_width": null,
            "min_height": null,
            "min_width": null,
            "object_fit": null,
            "object_position": null,
            "order": null,
            "overflow": null,
            "overflow_x": null,
            "overflow_y": null,
            "padding": null,
            "right": null,
            "top": null,
            "visibility": null,
            "width": null
          }
        },
        "ebb7b07e66b2431aba0ad54813c1659c": {
          "model_module": "@jupyter-widgets/controls",
          "model_name": "ProgressStyleModel",
          "model_module_version": "1.5.0",
          "state": {
            "_model_module": "@jupyter-widgets/controls",
            "_model_module_version": "1.5.0",
            "_model_name": "ProgressStyleModel",
            "_view_count": null,
            "_view_module": "@jupyter-widgets/base",
            "_view_module_version": "1.2.0",
            "_view_name": "StyleView",
            "bar_color": null,
            "description_width": ""
          }
        },
        "712d523382694a73ad34851c53601e3a": {
          "model_module": "@jupyter-widgets/base",
          "model_name": "LayoutModel",
          "model_module_version": "1.2.0",
          "state": {
            "_model_module": "@jupyter-widgets/base",
            "_model_module_version": "1.2.0",
            "_model_name": "LayoutModel",
            "_view_count": null,
            "_view_module": "@jupyter-widgets/base",
            "_view_module_version": "1.2.0",
            "_view_name": "LayoutView",
            "align_content": null,
            "align_items": null,
            "align_self": null,
            "border": null,
            "bottom": null,
            "display": null,
            "flex": null,
            "flex_flow": null,
            "grid_area": null,
            "grid_auto_columns": null,
            "grid_auto_flow": null,
            "grid_auto_rows": null,
            "grid_column": null,
            "grid_gap": null,
            "grid_row": null,
            "grid_template_areas": null,
            "grid_template_columns": null,
            "grid_template_rows": null,
            "height": null,
            "justify_content": null,
            "justify_items": null,
            "left": null,
            "margin": null,
            "max_height": null,
            "max_width": null,
            "min_height": null,
            "min_width": null,
            "object_fit": null,
            "object_position": null,
            "order": null,
            "overflow": null,
            "overflow_x": null,
            "overflow_y": null,
            "padding": null,
            "right": null,
            "top": null,
            "visibility": null,
            "width": null
          }
        },
        "fc05249a6571434f8e1b5d581f27b8b5": {
          "model_module": "@jupyter-widgets/controls",
          "model_name": "DescriptionStyleModel",
          "model_module_version": "1.5.0",
          "state": {
            "_model_module": "@jupyter-widgets/controls",
            "_model_module_version": "1.5.0",
            "_model_name": "DescriptionStyleModel",
            "_view_count": null,
            "_view_module": "@jupyter-widgets/base",
            "_view_module_version": "1.2.0",
            "_view_name": "StyleView",
            "description_width": ""
          }
        }
      }
    }
  },
  "cells": [
    {
      "cell_type": "markdown",
      "metadata": {
        "id": "vM4Zt7DealDy"
      },
      "source": [
        "# Question 2 work in the Gurmukhi Dataset"
      ]
    },
    {
      "cell_type": "markdown",
      "metadata": {
        "id": "h5jmZTh6bArF"
      },
      "source": [
        "## Checking Avilable GPU"
      ]
    },
    {
      "cell_type": "code",
      "execution_count": 328,
      "metadata": {
        "colab": {
          "base_uri": "https://localhost:8080/"
        },
        "id": "DwVYnqGaZowj",
        "outputId": "16906fab-0466-4a0d-b8e5-bf2cb4b0615b"
      },
      "outputs": [
        {
          "output_type": "stream",
          "name": "stdout",
          "text": [
            "NVIDIA-SMI has failed because it couldn't communicate with the NVIDIA driver. Make sure that the latest NVIDIA driver is installed and running.\n",
            "\n"
          ]
        }
      ],
      "source": [
        "!nvidia-smi"
      ]
    },
    {
      "cell_type": "markdown",
      "metadata": {
        "id": "rgDZV_3LbM4b"
      },
      "source": [
        "## Importing requirements"
      ]
    },
    {
      "cell_type": "code",
      "execution_count": 329,
      "metadata": {
        "id": "zEAQWhwpaH4v"
      },
      "outputs": [],
      "source": [
        "# pytorch libs\n",
        "import torch\n",
        "from torch import nn\n",
        "import torchvision\n",
        "\n",
        "# matplot libs\n",
        "import matplotlib.pyplot as plt\n",
        "\n",
        "# numpy\n",
        "import numpy as np\n",
        "\n",
        "# torch metrics\n",
        "try:\n",
        "  import torchmetrics\n",
        "except:\n",
        "  !pip3 -q install torchmetrics\n",
        "import torchmetrics\n",
        "from torchmetrics.classification import MulticlassAccuracy"
      ]
    },
    {
      "cell_type": "markdown",
      "metadata": {
        "id": "nCe4S9RDKCCi"
      },
      "source": [
        "## device agnostic code"
      ]
    },
    {
      "cell_type": "code",
      "execution_count": 330,
      "metadata": {
        "colab": {
          "base_uri": "https://localhost:8080/",
          "height": 35
        },
        "id": "bN4saR5mKITV",
        "outputId": "4465e500-3a01-4af6-ab6c-982843694c49"
      },
      "outputs": [
        {
          "output_type": "execute_result",
          "data": {
            "text/plain": [
              "'cpu'"
            ],
            "application/vnd.google.colaboratory.intrinsic+json": {
              "type": "string"
            }
          },
          "metadata": {},
          "execution_count": 330
        }
      ],
      "source": [
        "device = \"cuda\" if torch.cuda.is_available() else \"cpu\"\n",
        "device"
      ]
    },
    {
      "cell_type": "markdown",
      "metadata": {
        "id": "4DVJEos8et6e"
      },
      "source": [
        "## Getting Dataset with pytorch"
      ]
    },
    {
      "cell_type": "markdown",
      "metadata": {
        "id": "nzKRNK7xhF66"
      },
      "source": [
        "### Downloading Dataset"
      ]
    },
    {
      "cell_type": "code",
      "source": [
        "# !rm -rf data/"
      ],
      "metadata": {
        "id": "DgsKZQyZPs1E"
      },
      "execution_count": 331,
      "outputs": []
    },
    {
      "cell_type": "code",
      "source": [
        "file_id = \"1DXLTrDU0GgHt2yLoDyMfdECHV-2yNvjQ\"\n",
        "url = f\"https://drive.google.com/uc?export=download&id={file_id}\"\n",
        "\n",
        "import requests\n",
        "from pathlib import Path\n",
        "import zipfile\n",
        "import os\n",
        "\n",
        "# making paths for the data\n",
        "data_path = Path(\"data\")\n",
        "img_path = data_path / \"Gurmukhi\"\n",
        "\n",
        "img_path.mkdir(parents=True,exist_ok=True)\n",
        "\n",
        "if not (img_path/\"GurNum\").is_dir():\n",
        "  print(\"creating folder/dirs\")\n",
        "  # getting data from the url\n",
        "  res = requests.get(url)\n",
        "  # checking response\n",
        "  print(f\"status_code: {res.status_code}\")\n",
        "  if res.status_code == 200:\n",
        "    print(\"downloading the data...\")\n",
        "    with open(img_path/\"Gurmukhi.zip\",\"wb\") as f:\n",
        "      # print(res.content)\n",
        "      f.write(res.content)\n",
        "      zip_file_path = img_path/\"Gurmukhi.zip\"\n",
        "      print(zip_file_path)\n",
        "    with zipfile.ZipFile(zip_file_path,\"r\") as zipfile:\n",
        "      print(\"Extracting file\")\n",
        "      zipfile.extractall(img_path)\n",
        "      print(f\"All file extracted to {img_path}\")\n",
        "      print(\"Removing zip file\")\n",
        "      os.remove(zip_file_path)\n",
        "  else:\n",
        "    print(f\"GOT NO RESPONSE FROM URL: {url}\")\n",
        "\n",
        "  # renamaing val to test to follow PyTorch convention\n",
        "  print(\"renamaing val to test\")\n",
        "  os.rename(f\"{img_path}/GurNum/val\",f\"{img_path}/GurNum/test\")\n",
        "else:\n",
        "  print('skiping already exists')"
      ],
      "metadata": {
        "colab": {
          "base_uri": "https://localhost:8080/"
        },
        "id": "HnyGAwoxGdFm",
        "outputId": "38e6123f-5368-4384-c0df-cfd3ee10db60"
      },
      "execution_count": 332,
      "outputs": [
        {
          "output_type": "stream",
          "name": "stdout",
          "text": [
            "skiping already exists\n"
          ]
        }
      ]
    },
    {
      "cell_type": "code",
      "source": [
        "train_dir = img_path / \"GurNum/train\"\n",
        "test_dir = img_path / \"GurNum/test\"\n",
        "\n",
        "train_dir,test_dir"
      ],
      "metadata": {
        "colab": {
          "base_uri": "https://localhost:8080/"
        },
        "id": "Ma7HGv7fQUlG",
        "outputId": "5d2bc6f3-7f20-42ab-8493-491e6c4f2bae"
      },
      "execution_count": 333,
      "outputs": [
        {
          "output_type": "execute_result",
          "data": {
            "text/plain": [
              "(PosixPath('data/Gurmukhi/GurNum/train'),\n",
              " PosixPath('data/Gurmukhi/GurNum/test'))"
            ]
          },
          "metadata": {},
          "execution_count": 333
        }
      ]
    },
    {
      "cell_type": "code",
      "execution_count": 334,
      "metadata": {
        "colab": {
          "base_uri": "https://localhost:8080/"
        },
        "id": "M0y5h3xOfj76",
        "outputId": "d55db2a6-7013-4701-95d6-01d9247e1381"
      },
      "outputs": [
        {
          "output_type": "execute_result",
          "data": {
            "text/plain": [
              "(Dataset ImageFolder\n",
              "     Number of datapoints: 1000\n",
              "     Root location: data/Gurmukhi/GurNum/train\n",
              "     StandardTransform\n",
              " Transform: Compose(\n",
              "                Grayscale(num_output_channels=1)\n",
              "                ToTensor()\n",
              "            ), Dataset ImageFolder\n",
              "     Number of datapoints: 178\n",
              "     Root location: data/Gurmukhi/GurNum/test\n",
              "     StandardTransform\n",
              " Transform: Compose(\n",
              "                Grayscale(num_output_channels=1)\n",
              "                ToTensor()\n",
              "            ))"
            ]
          },
          "metadata": {},
          "execution_count": 334
        }
      ],
      "source": [
        "from torchvision import transforms\n",
        "\n",
        "image_trasform = transforms.Compose(\n",
        "    [\n",
        "        transforms.Grayscale(num_output_channels=1),\n",
        "        transforms.ToTensor()\n",
        "    ]\n",
        ")\n",
        "\n",
        "train_dataset = torchvision.datasets.ImageFolder(\n",
        "    root = train_dir,\n",
        "    transform = image_trasform\n",
        ")\n",
        "\n",
        "test_dataset = torchvision.datasets.ImageFolder(\n",
        "    root = test_dir,\n",
        "    transform = image_trasform\n",
        ")\n",
        "train_dataset,test_dataset"
      ]
    },
    {
      "cell_type": "markdown",
      "metadata": {
        "id": "dyPd2udBaUOT"
      },
      "source": [
        "### Vis. dataset (train dataset)"
      ]
    },
    {
      "cell_type": "code",
      "execution_count": 335,
      "metadata": {
        "colab": {
          "base_uri": "https://localhost:8080/",
          "height": 699
        },
        "id": "DoLciHIvhX3W",
        "outputId": "82be473b-1381-4fb7-b7ba-defec09fa3f2"
      },
      "outputs": [
        {
          "output_type": "display_data",
          "data": {
            "text/plain": [
              "<Figure size 864x864 with 9 Axes>"
            ],
            "image/png": "[encoded data removed]"
          },
          "metadata": {
            "needs_background": "light"
          }
        }
      ],
      "source": [
        "# randomly ploting image samples from the grayscale dataset\n",
        "labels_map = test_dataset.class_to_idx # getting class -> index map\n",
        "labels_map = dict(map(reversed, labels_map.items())) # inverting dict\n",
        "# print(labels_map)\n",
        "\n",
        "figure = plt.figure(figsize=(12, 12)) # fixing plotsize\n",
        "cols, rows = 3, 3\n",
        "for i in range(1, cols * rows + 1):\n",
        "    sample_idx = torch.randint(len(train_dataset), size=(1,)) # randomely selecting one image sample from the image index\n",
        "    img, label = train_dataset[sample_idx] # getting image and label of selected index\n",
        "    # sub plot code\n",
        "    figure.add_subplot(rows, cols, i) \n",
        "    plt.title(labels_map[label])\n",
        "    plt.axis(\"off\")\n",
        "    plt.imshow(img.squeeze(),cmap=\"gray\") # NOTE:- Color map is gray because we're converting imgae to grayscale\n",
        "    # sub plot code ends\n",
        "plt.show()"
      ]
    },
    {
      "cell_type": "markdown",
      "metadata": {
        "id": "sYyXAxh9ok_b"
      },
      "source": [
        "### Converting dataset to dataloader"
      ]
    },
    {
      "cell_type": "code",
      "execution_count": 336,
      "metadata": {
        "colab": {
          "base_uri": "https://localhost:8080/"
        },
        "id": "kFDnlX5to1ut",
        "outputId": "6ce013cb-666b-4fd4-eb03-467184226b4f"
      },
      "outputs": [
        {
          "output_type": "stream",
          "name": "stdout",
          "text": [
            "Numbers of Batches in Train Dataloader: 32\n",
            "Numbers of Batches in Test Dataloader: 6\n"
          ]
        }
      ],
      "source": [
        "import os\n",
        "\n",
        "# hyper parms. for dataloader\n",
        "BATCH_SIZE = 32\n",
        "NUM_WORKERS = os.cpu_count() # no. of avilable cpu cores\n",
        "\n",
        "# train dataloader\n",
        "train_dataloader = torch.utils.data.DataLoader(\n",
        "    dataset = train_dataset,\n",
        "    batch_size = BATCH_SIZE,\n",
        "    shuffle = True,\n",
        "    num_workers =  NUM_WORKERS   \n",
        ")\n",
        "\n",
        "# test dataloader\n",
        "test_dataloader = torch.utils.data.DataLoader(\n",
        "    dataset = test_dataset,\n",
        "    batch_size = BATCH_SIZE,\n",
        "    shuffle = False,\n",
        "    num_workers =  NUM_WORKERS   \n",
        ")\n",
        "\n",
        "print(f\"Numbers of Batches in Train Dataloader: {len(train_dataloader)}\")\n",
        "print(f\"Numbers of Batches in Test Dataloader: {len(test_dataloader)}\")\n",
        "# train_dataloader,test_dataloader"
      ]
    },
    {
      "cell_type": "markdown",
      "metadata": {
        "id": "W342rX4_d0Nr"
      },
      "source": [
        "## plot loss and accuracy graphs function"
      ]
    },
    {
      "cell_type": "code",
      "execution_count": 337,
      "metadata": {
        "id": "ugrC_X0idpAz"
      },
      "outputs": [],
      "source": [
        "from typing import Dict,List\n",
        "\n",
        "def plot_loss_curves(results: Dict[str, List[float]]):\n",
        "    \"\"\"Plots training curves of a results dictionary.\n",
        "\n",
        "    Args:\n",
        "        results (dict): dictionary containing list of values, e.g.\n",
        "            {\"train_loss\": [...],\n",
        "             \"train_acc\": [...],\n",
        "             \"test_loss\": [...],\n",
        "             \"test_acc\": [...]}\n",
        "    \"\"\"\n",
        "    \n",
        "    # Get the loss values of the results dictionary (training and test)\n",
        "    loss = results['train_loss']\n",
        "    test_loss = results['test_loss']\n",
        "\n",
        "    # Get the accuracy values of the results dictionary (training and test)\n",
        "    accuracy = results['train_acc']\n",
        "    test_accuracy = results['test_acc']\n",
        "\n",
        "    # Figure out how many epochs there were\n",
        "    epochs = range(len(results['train_loss']))\n",
        "\n",
        "    # Setup a plot \n",
        "    plt.figure(figsize=(15, 7))\n",
        "\n",
        "    # Plot loss\n",
        "    plt.subplot(1, 2, 1)\n",
        "    plt.plot(epochs, loss, label='train_loss')\n",
        "    plt.plot(epochs, test_loss, label='test_loss')\n",
        "    plt.title('Loss')\n",
        "    plt.xlabel('Epochs')\n",
        "    plt.legend()\n",
        "\n",
        "    # Plot accuracy\n",
        "    plt.subplot(1, 2, 2)\n",
        "    plt.plot(epochs, accuracy, label='train_accuracy')\n",
        "    plt.plot(epochs, test_accuracy, label='test_accuracy')\n",
        "    plt.title('Accuracy')\n",
        "    plt.xlabel('Epochs')\n",
        "    plt.legend()\n",
        "    plt.show()"
      ]
    },
    {
      "cell_type": "markdown",
      "metadata": {
        "id": "eNiE5yivrNEF"
      },
      "source": [
        "## Defining models"
      ]
    },
    {
      "cell_type": "code",
      "source": [
        "class MyDropout(nn.Module):\n",
        "    def __init__(self, p: float = 0):\n",
        "      \"\"\"\n",
        "      args:\n",
        "        p (float) = 0: prob. of droping a node from the layer\n",
        "      \"\"\"\n",
        "      super().__init__()\n",
        "      # prob. checking\n",
        "      if p < 0 or p > 1:\n",
        "          raise ValueError(f\"dropout prob. out of range (0-1), but got {p}\")\n",
        "      self.p = p\n",
        "\n",
        "    def forward(self, X):\n",
        "        if self.training:\n",
        "            binomial = torch.distributions.binomial.Binomial(probs=1-self.p)\n",
        "            return X * binomial.sample(X.size()) * (1.0/(1-self.p))\n",
        "        return X"
      ],
      "metadata": {
        "id": "qlyxvEfrSFg2"
      },
      "execution_count": 338,
      "outputs": []
    },
    {
      "cell_type": "code",
      "execution_count": 339,
      "metadata": {
        "id": "1OaXOkBtrOXl"
      },
      "outputs": [],
      "source": [
        "class GurNumModel0(nn.Module):\n",
        "  def __init__(\n",
        "      self,\n",
        "      in_channels:int,\n",
        "      hidden_units:int,\n",
        "      out_channels:int,\n",
        "      num_layers:int,\n",
        "      activation_funtion:nn.Module,\n",
        "      use_drop_prob: float = 0\n",
        "      ) -> None:\n",
        "    '''\n",
        "    args:\n",
        "      in_channels: input image shape\n",
        "      hidden_units: number of hidden in neural net.\n",
        "      out_channels: number of classes in the data\n",
        "      num_layers: number of layers including i/p and o/p layers\n",
        "      actication_function: activation function of your choice\n",
        "      use_drop_prob = 0: to use drop with prob. of value of it\n",
        "    '''\n",
        "    super().__init__()\n",
        "    self.num_layers = num_layers # no of layers in the neural net.\n",
        "    layer_list = [nn.Flatten()]\n",
        "    for i in range(num_layers):\n",
        "      # print(f\"creating layer: {i}, out of: {num_layers}\")\n",
        "      if i == 0: # input layer def.\n",
        "        layer_list.append(nn.Linear(in_features=in_channels,out_features=hidden_units))\n",
        "        layer_list.append(activation_funtion)\n",
        "        layer_list.append(MyDropout(p=use_drop_prob))\n",
        "      elif i == num_layers - 1: # out layer def.\n",
        "        layer_list.append(nn.Linear(in_features=hidden_units,out_features=out_channels))\n",
        "      else:\n",
        "        layer_list.append(nn.Linear(in_features=hidden_units,out_features=hidden_units))\n",
        "        layer_list.append(activation_funtion)\n",
        "        layer_list.append(MyDropout(p=use_drop_prob))\n",
        "    \n",
        "    # print(\"layer list:\")\n",
        "    # print(*layer_list,sep = '\\n')\n",
        "    self.block = nn.Sequential(*layer_list)\n",
        "\n",
        "  def forward(self,x:torch.Tensor):\n",
        "    return self.block(x)\n"
      ]
    },
    {
      "cell_type": "markdown",
      "metadata": {
        "id": "2sfShJCwJqWR"
      },
      "source": [
        "## Training models"
      ]
    },
    {
      "cell_type": "markdown",
      "source": [
        "### set seeds function"
      ],
      "metadata": {
        "id": "Fs9h-eMnntoh"
      }
    },
    {
      "cell_type": "code",
      "source": [
        "### set seed function\n",
        "def set_seed(seed:int = 42):\n",
        "  \"\"\"\n",
        "    sets mannual seeds for both cpu and cuda\n",
        "  \"\"\"\n",
        "  torch.manual_seed(seed)\n",
        "  torch.cuda.manual_seed(seed)"
      ],
      "metadata": {
        "id": "2aIR0if5tb4I"
      },
      "execution_count": 340,
      "outputs": []
    },
    {
      "cell_type": "markdown",
      "metadata": {
        "id": "7gXK7T_gJyk3"
      },
      "source": [
        "### making training, testing steps, train model functions and custom loss functions with L1 and L2 regularization"
      ]
    },
    {
      "cell_type": "markdown",
      "metadata": {
        "id": "iDXgbPG8agEC"
      },
      "source": [
        "#### train step"
      ]
    },
    {
      "cell_type": "code",
      "execution_count": 341,
      "metadata": {
        "id": "vOca5Pw41LHr"
      },
      "outputs": [],
      "source": [
        "def training_step(\n",
        "    model: nn.Module,\n",
        "    dataloader: torch.utils.data.DataLoader,\n",
        "    loss_fn: nn.Module,\n",
        "    acc_fn: torchmetrics.classification.accuracy.MulticlassAccuracy,\n",
        "    optimizer: torch.optim.Optimizer,\n",
        "    device: str,\n",
        "    regularizer = None,\n",
        "    cheack_grad = False,\n",
        "    ):\n",
        "    \"\"\"\n",
        "    Desc:\n",
        "      funtion to perform traning step for one EPOCH\n",
        "\n",
        "    Args:\n",
        "      model (nn.Module): Pytorch model class object\n",
        "      dataloader (torch.utils.data.DataLoader): training dataloder from training dataset\n",
        "      loss_fn (nn.Module): Loss Function (object) of your choice\n",
        "      acc_fn (torchmetrics.classification.accuracy.MulticlassAccuracy): accuracy function from trochmetrics\n",
        "      optimizer (torch.optim.Optimizer): Optimizer Function (object) of your choice\n",
        "      device (str): Torch Device \"CPU/GPU\"\n",
        "      regularizer (function) = None: A penalty function\n",
        "      cheack_grad (False) = False: to do gradiant checking during training\n",
        "    Returns:\n",
        "      train_loss (float), train_acc (float): training loss and training accuracy for one EPOCH\n",
        "    \"\"\"\n",
        "    model.train() # putting model in traing model\n",
        "\n",
        "    train_loss, train_acc = 0, 0 # initlizing loss and acc. for the epoch\n",
        "    set_flag = False \n",
        "\n",
        "    # print(type(model.parameters()))\n",
        "    for (X,y) in dataloader: # loop in batches\n",
        "      # model_parms_before_forward_pass = np.array([x.detach().numpy() for x in model.parameters()].copy())\n",
        "      X,y = X.to(device), y.to(device) # sending the data to target device\n",
        "      # print(f\"shape of X: {X.shape}, shape of y: {y.shape}\")\n",
        "      \n",
        "      # 1. forward pass\n",
        "      y_pred_logits = model(X)\n",
        "\n",
        "      # cumulating tensors to theta\n",
        "      if cheack_grad:\n",
        "        # making theta\n",
        "        if next(iter(model.parameters())).grad != None:\n",
        "          theta = np.array([i.grad.detach().numpy() for i in model.parameters()])\n",
        "        else:\n",
        "          set_flag = True\n",
        "          theta = np.zeros(next(iter(model.parameters())).shape)\n",
        "        # print(type(theta))\n",
        "        epsilon = np.ones(theta.shape) * 1e-7\n",
        "        # print(epsilon)\n",
        "        thetaplus = theta+epsilon\n",
        "        thetaminus = theta-epsilon\n",
        "\n",
        "        grad_approx = (thetaplus - thetaminus)\n",
        "        # print(dtheta_approx)\n",
        "        \n",
        "      # 2. calculate the loss\n",
        "      \n",
        "      # loss = loss_fn(y_pred_logits, y) + l1_penalty(model.parameters())\n",
        "      if regularizer != None:\n",
        "        # print(\"using regularizer\")\n",
        "        loss = loss_fn(y_pred_logits, y) + regularizer(model.parameters())\n",
        "      else:\n",
        "        loss = loss_fn(y_pred_logits, y)\n",
        "      train_loss += loss.item()\n",
        "\n",
        "      # 3. optimizer zero grad\n",
        "      optimizer.zero_grad()\n",
        "\n",
        "      # 4. loss backword\n",
        "      loss.backward()\n",
        "      \n",
        "      # 5. optimizer step\n",
        "      optimizer.step()\n",
        "\n",
        "        \n",
        "\n",
        "      # model_parms_after_forward_pass = np.array([x.detach().numpy() for x in model.parameters()])\n",
        "      # print(\"Model parms diff:\")\n",
        "      # print([(i,j) for (i,j) in zip(iter(model_parms_after_forward_pass),iter(model_parms_before_forward_pass))])\n",
        "      # print(model_parms_after_forward_pass - model_parms_before_forward_pass,sep=\"\\n\")\n",
        "      train_acc += acc_fn(y_pred_logits.argmax(dim = 1), y).item()\n",
        "\n",
        "      if cheack_grad:\n",
        "        if set_flag:\n",
        "          continue\n",
        "        grad_approx = theta\n",
        "        actual_grad = np.array([i.grad.detach().numpy() for i in model.parameters()])\n",
        "        grad_diff = grad_approx - actual_grad\n",
        "        nm = np.average([np.linalg.norm(i) for i in grad_diff])\n",
        "        dm = (np.average([np.linalg.norm(i) in actual_grad]) + np.average([np.linalg.norm(i) for i in grad_approx]))/2\n",
        "        \n",
        "        diff = (nm / dm)\n",
        "        if diff < 1e-7:\n",
        "          pass\n",
        "        else:\n",
        "          # if grad cheak fails the code will stops \n",
        "          raise ValueError(\"Invalid gradient computation\")\n",
        "    # 6. returning actual loss and acc.x\n",
        "    return train_loss/len(dataloader), train_acc/len(dataloader)\n",
        "\n"
      ]
    },
    {
      "cell_type": "markdown",
      "metadata": {
        "id": "68T7u1VLank8"
      },
      "source": [
        "#### test step"
      ]
    },
    {
      "cell_type": "code",
      "execution_count": 342,
      "metadata": {
        "id": "sT7JIsn5aqis"
      },
      "outputs": [],
      "source": [
        "def testing_step(\n",
        "    model: nn.Module,\n",
        "    dataloader: torch.utils.data.DataLoader,\n",
        "    loss_fn: nn.Module,\n",
        "    acc_fn: torchmetrics.classification.accuracy.MulticlassAccuracy,\n",
        "    device: str\n",
        "    ):\n",
        "    \"\"\"\n",
        "    Desc:\n",
        "      funtion to perform testing step for one EPOCH\n",
        "\n",
        "    Args:\n",
        "      model (nn.Module): Pytorch model class object\n",
        "      dataloader (torch.utils.data.DataLoader): testing dataloder from training dataset\n",
        "      loss_fn (nn.Module): Loss Function (object) of your choice\n",
        "      acc_fn (torchmetrics.classification.accuracy.MulticlassAccuracy): accuracy function from trochmetrics\n",
        "      device (str): Torch Device \"CPU/GPU\"\n",
        "    Returns:\n",
        "      test_loss (float), test_acc (float): testing loss and testing accuracy for one EPOCH\n",
        "    \"\"\"\n",
        "    model.eval() # putting model in eval model\n",
        "\n",
        "    test_loss, test_acc = 0, 0 # initlizing loss and acc. for the epoch\n",
        "\n",
        "    with torch.inference_mode():\n",
        "      for (X,y) in dataloader: # loop in batches\n",
        "        X,y = X.to(device), y.to(device) # sending the data to target device\n",
        "        # print(f\"shape of X: {X.shape}, shape of y: {y.shape}\")\n",
        "\n",
        "        # 1. forward pass\n",
        "        y_pred_logits = model(X)\n",
        "\n",
        "        # 2. calculate the loss\n",
        "        loss = loss_fn(y_pred_logits, y)\n",
        "        test_loss += loss.item()\n",
        "\n",
        "        # 3. calculating accuracy\n",
        "        test_acc += acc_fn(y_pred_logits.argmax(dim = 1), y).item()\n",
        "\n",
        "    # 6. returning actual loss and acc.\n",
        "    return test_loss/len(dataloader), test_acc/len(dataloader)"
      ]
    },
    {
      "cell_type": "markdown",
      "metadata": {
        "id": "O0iHgYDIaxoW"
      },
      "source": [
        "#### training function"
      ]
    },
    {
      "cell_type": "code",
      "execution_count": 343,
      "metadata": {
        "id": "9ioAkaZQa2Cj"
      },
      "outputs": [],
      "source": [
        "from tqdm.auto import tqdm\n",
        "\n",
        "def train(\n",
        "    model: nn.Module,\n",
        "    train_dataloader: torch.utils.data.DataLoader,\n",
        "    test_dataloader: torch.utils.data.DataLoader,\n",
        "    loss_fn: nn.Module,\n",
        "    acc_fn: torchmetrics.classification.accuracy.MulticlassAccuracy,\n",
        "    optimizer: torch.optim.Optimizer,\n",
        "    device: str,\n",
        "    epochs: int,\n",
        "    regularizer = None,\n",
        "    cheack_grad=False\n",
        "  ):\n",
        "  \"\"\"\n",
        "    Desc:\n",
        "      funtion to perform training for one {epochs} param\n",
        "\n",
        "    Args:\n",
        "      model (nn.Module): Pytorch model class object\n",
        "      train_dataloader (torch.utils.data.DataLoader): training dataloder from training dataset\n",
        "      test_dataloader (torch.utils.data.DataLoader): testing dataloder from testing dataset\n",
        "      loss_fn (nn.Module): Loss Function (object) of your choice\n",
        "      acc_fn (torchmetrics.classification.accuracy.MulticlassAccuracy): accuracy function from trochmetrics\n",
        "      device (str): Torch Device \"CPU/GPU\"\n",
        "      regularizer (function) = None: A penalty function\n",
        "      cheack_grad (False) = False: to do gradiant checking during training\n",
        "    Returns:\n",
        "      result_dict ({str: List[float]}): testing loss and testing accuracy for one EPOCH\n",
        "  \"\"\"\n",
        "  # 1. init. result dict\n",
        "  result_dict = {\n",
        "      \"train_loss\": [],\n",
        "      \"train_acc\": [],\n",
        "      \"test_loss\": [],\n",
        "      \"test_acc\": []\n",
        "    }\n",
        "  \n",
        "  # 2. loop in range epochs performs train and test steps on the model\n",
        "  for epoch in tqdm(range(epochs)):\n",
        "    train_loss, train_acc = training_step(\n",
        "                                            model=model,\n",
        "                                            dataloader=train_dataloader,\n",
        "                                            loss_fn=loss_fn,\n",
        "                                            acc_fn=acc_fn,\n",
        "                                            optimizer=optimizer,\n",
        "                                            device=device,\n",
        "                                            regularizer=regularizer,\n",
        "                                            cheack_grad=cheack_grad\n",
        "                                          )\n",
        "\n",
        "    test_loss, test_acc = testing_step(\n",
        "                                        model=model,\n",
        "                                        dataloader=train_dataloader,\n",
        "                                        loss_fn=loss_fn,\n",
        "                                        acc_fn=acc_fn,\n",
        "                                        device=device\n",
        "                                      )\n",
        "  \n",
        "  # 3. print out results\n",
        "    print(\n",
        "              f\"Epoch: {epoch+1} | \"\n",
        "              f\"train_loss: {train_loss:.4f} | \"\n",
        "              f\"train_acc: {train_acc:.4f} | \"\n",
        "              f\"test_loss: {test_loss:.4f} | \"\n",
        "              f\"test_acc: {test_acc:.4f}\"\n",
        "          )\n",
        "    \n",
        "  # 4. adding results to result_dict\n",
        "    result_dict[\"train_loss\"].append(train_loss)\n",
        "    result_dict[\"train_acc\"].append(train_acc)\n",
        "    result_dict[\"test_loss\"].append(test_loss)\n",
        "    result_dict[\"test_acc\"].append(test_acc)\n",
        "\n",
        "  # 5. return result dict\n",
        "  return result_dict"
      ]
    },
    {
      "cell_type": "markdown",
      "source": [
        "#### Penalty with L1 regularization"
      ],
      "metadata": {
        "id": "FOHRRZDugJQZ"
      }
    },
    {
      "cell_type": "code",
      "source": [
        "def l1_penalty(params: torch.Tensor, l1_lambda:float = 0.001):\n",
        "    \"\"\"\n",
        "    Desc:\n",
        "      Calculte the penalty with L1 norm.\n",
        "      \n",
        "    Args:\n",
        "      params (torch.Tensor): training model parameters\n",
        "      l1_lambda (float) = 10e-3: scaler multiplyer default value:- 10e-3\n",
        "\n",
        "    Returns:\n",
        "      Returns the L1 penalty of the params.\n",
        "    \"\"\"\n",
        "    l1_norm = 0\n",
        "    for param in params:\n",
        "      l1_norm += torch.linalg.norm(param,1) ** 2\n",
        "    return l1_lambda*l1_norm"
      ],
      "metadata": {
        "id": "6w5zA0JJiGvO"
      },
      "execution_count": 344,
      "outputs": []
    },
    {
      "cell_type": "markdown",
      "source": [
        "#### Penalty with L2 regularization"
      ],
      "metadata": {
        "id": "5jf_onRmoSvi"
      }
    },
    {
      "cell_type": "code",
      "source": [
        "def l2_penalty(params: torch.Tensor, l2_lambda:float = 0.001):\n",
        "    \"\"\"\n",
        "    Desc:\n",
        "      Calculte the penalty with L2 norm.\n",
        "      \n",
        "    Args:\n",
        "      params (torch.Tensor): training model parameters\n",
        "      l2_lambda (float) = 10e-3: scaler multiplyer default value:- 10e-3\n",
        "\n",
        "    Returns:\n",
        "      Returns the L2 penalty of the params.\n",
        "    \"\"\"\n",
        "    l2_norm = 0\n",
        "    for param in params:\n",
        "      l2_norm += torch.linalg.norm(param,2) ** 2\n",
        "    return l2_lambda*l2_norm"
      ],
      "metadata": {
        "id": "ne9TQulgnmSG"
      },
      "execution_count": 345,
      "outputs": []
    },
    {
      "cell_type": "markdown",
      "metadata": {
        "id": "3gpa9IR8aJf-"
      },
      "source": [
        "### making model object"
      ]
    },
    {
      "cell_type": "code",
      "execution_count": 346,
      "metadata": {
        "colab": {
          "base_uri": "https://localhost:8080/"
        },
        "id": "bpMp0JRWK2VL",
        "outputId": "b297175f-4637-4d53-94ea-7762f6e3cbab"
      },
      "outputs": [
        {
          "output_type": "execute_result",
          "data": {
            "text/plain": [
              "(32, 32)"
            ]
          },
          "metadata": {},
          "execution_count": 346
        }
      ],
      "source": [
        "height = next(iter(train_dataloader))[0].shape[2]\n",
        "width = next(iter(train_dataloader))[0].shape[2]\n",
        "height,width"
      ]
    },
    {
      "cell_type": "code",
      "execution_count": 347,
      "metadata": {
        "colab": {
          "base_uri": "https://localhost:8080/"
        },
        "id": "jSIcC3r4MHks",
        "outputId": "201be9c5-9c89-478d-b918-7106cd80778f"
      },
      "outputs": [
        {
          "output_type": "execute_result",
          "data": {
            "text/plain": [
              "['0', '1', '2', '3', '4', '5', '6', '7', '8', '9']"
            ]
          },
          "metadata": {},
          "execution_count": 347
        }
      ],
      "source": [
        "class_names = train_dataloader.dataset.classes\n",
        "class_names"
      ]
    },
    {
      "cell_type": "code",
      "execution_count": 348,
      "metadata": {
        "colab": {
          "base_uri": "https://localhost:8080/"
        },
        "id": "HmUJV6jaJ73H",
        "outputId": "edb0cf16-1ad5-43e3-8073-90f86f8e91de"
      },
      "outputs": [
        {
          "output_type": "stream",
          "name": "stdout",
          "text": [
            "\n",
            "MODEL INFO: \n",
            "\n",
            "GurNumModel0(\n",
            "  (block): Sequential(\n",
            "    (0): Flatten(start_dim=1, end_dim=-1)\n",
            "    (1): Linear(in_features=1024, out_features=16, bias=True)\n",
            "    (2): Sigmoid()\n",
            "    (3): MyDropout()\n",
            "    (4): Linear(in_features=16, out_features=16, bias=True)\n",
            "    (5): Sigmoid()\n",
            "    (6): MyDropout()\n",
            "    (7): Linear(in_features=16, out_features=10, bias=True)\n",
            "  )\n",
            ")\n"
          ]
        }
      ],
      "source": [
        "set_seed()\n",
        "model_sigmoid_3_layers = GurNumModel0(\n",
        "    in_channels = height*width,\n",
        "    hidden_units = 16,\n",
        "    out_channels = len(class_names),\n",
        "    num_layers = 3,\n",
        "    activation_funtion = nn.Sigmoid()\n",
        "    ).to(device)\n",
        "print(\"\\nMODEL INFO: \\n\")\n",
        "print(model_sigmoid_3_layers)"
      ]
    },
    {
      "cell_type": "code",
      "execution_count": 349,
      "metadata": {
        "colab": {
          "base_uri": "https://localhost:8080/"
        },
        "id": "TUPO_FChYuMw",
        "outputId": "f19ad59f-172e-40af-a7b9-c9c366cf3077"
      },
      "outputs": [
        {
          "output_type": "stream",
          "name": "stdout",
          "text": [
            "\n",
            "MODEL INFO: \n",
            "\n",
            "GurNumModel0(\n",
            "  (block): Sequential(\n",
            "    (0): Flatten(start_dim=1, end_dim=-1)\n",
            "    (1): Linear(in_features=1024, out_features=16, bias=True)\n",
            "    (2): Tanh()\n",
            "    (3): MyDropout()\n",
            "    (4): Linear(in_features=16, out_features=16, bias=True)\n",
            "    (5): Tanh()\n",
            "    (6): MyDropout()\n",
            "    (7): Linear(in_features=16, out_features=10, bias=True)\n",
            "  )\n",
            ")\n"
          ]
        }
      ],
      "source": [
        "set_seed()\n",
        "model_tanh_3_layers = GurNumModel0(\n",
        "    in_channels = height*width,\n",
        "    hidden_units = 16,\n",
        "    out_channels = len(class_names),\n",
        "    num_layers = 3,\n",
        "    activation_funtion = nn.Tanh()\n",
        "    ).to(device)\n",
        "print(\"\\nMODEL INFO: \\n\")\n",
        "print(model_tanh_3_layers)"
      ]
    },
    {
      "cell_type": "markdown",
      "metadata": {
        "id": "-IpaeVBbbEjV"
      },
      "source": [
        "### training model_sigmode_3_layers without regularization"
      ]
    },
    {
      "cell_type": "code",
      "execution_count": 350,
      "metadata": {
        "colab": {
          "base_uri": "https://localhost:8080/",
          "height": 424,
          "referenced_widgets": [
            "14816ec6f7e440c696af3d25aa64c63f",
            "83c9507fab144727b32b4f7452a2321e",
            "94f78799f39b41ad9ccdb1a50b3d6b2b",
            "59db24a5ec954898baa1ecbe02fe6893",
            "5626c2d9955343b4bbfd10b5ba5e6451",
            "29621700160e42978e79b8c8e272c314",
            "2b2d28855b864cb2b9ff0b0f82deae63",
            "7d7d37c730a141a69c461bf2427636f0",
            "a1742db4c44c41ec8889c4f2960594bf",
            "09b5a54e9c984dcca3a95d27311226f9",
            "7b828b6a554f4a90952723a92d4c0efc"
          ]
        },
        "id": "1STwcuwvbL5k",
        "outputId": "1bfb10ce-9830-4511-960a-7e0ffd826dd1"
      },
      "outputs": [
        {
          "output_type": "display_data",
          "data": {
            "text/plain": [
              "  0%|          | 0/20 [00:00<?, ?it/s]"
            ],
            "application/vnd.jupyter.widget-view+json": {
              "version_major": 2,
              "version_minor": 0,
              "model_id": "14816ec6f7e440c696af3d25aa64c63f"
            }
          },
          "metadata": {}
        },
        {
          "output_type": "stream",
          "name": "stdout",
          "text": [
            "Epoch: 1 | train_loss: 2.3096 | train_acc: 0.1641 | test_loss: 2.2596 | test_acc: 0.1875\n",
            "Epoch: 2 | train_loss: 2.2297 | train_acc: 0.2388 | test_loss: 2.2017 | test_acc: 0.2772\n",
            "Epoch: 3 | train_loss: 2.1768 | train_acc: 0.3159 | test_loss: 2.1505 | test_acc: 0.3827\n",
            "Epoch: 4 | train_loss: 2.1240 | train_acc: 0.5032 | test_loss: 2.0901 | test_acc: 0.6121\n",
            "Epoch: 5 | train_loss: 2.0627 | train_acc: 0.6572 | test_loss: 2.0289 | test_acc: 0.7116\n",
            "Epoch: 6 | train_loss: 1.9985 | train_acc: 0.7279 | test_loss: 1.9585 | test_acc: 0.7513\n",
            "Epoch: 7 | train_loss: 1.9256 | train_acc: 0.7524 | test_loss: 1.8872 | test_acc: 0.7684\n",
            "Epoch: 8 | train_loss: 1.8511 | train_acc: 0.7587 | test_loss: 1.8063 | test_acc: 0.7533\n",
            "Epoch: 9 | train_loss: 1.7721 | train_acc: 0.7410 | test_loss: 1.7280 | test_acc: 0.7458\n",
            "Epoch: 10 | train_loss: 1.6906 | train_acc: 0.7600 | test_loss: 1.6446 | test_acc: 0.7809\n",
            "Epoch: 11 | train_loss: 1.6051 | train_acc: 0.8038 | test_loss: 1.5583 | test_acc: 0.7914\n",
            "Epoch: 12 | train_loss: 1.5200 | train_acc: 0.7915 | test_loss: 1.4769 | test_acc: 0.7977\n",
            "Epoch: 13 | train_loss: 1.4383 | train_acc: 0.8078 | test_loss: 1.3997 | test_acc: 0.8118\n",
            "Epoch: 14 | train_loss: 1.3581 | train_acc: 0.7985 | test_loss: 1.3175 | test_acc: 0.8091\n",
            "Epoch: 15 | train_loss: 1.2832 | train_acc: 0.8178 | test_loss: 1.2376 | test_acc: 0.8207\n",
            "Epoch: 16 | train_loss: 1.2082 | train_acc: 0.8079 | test_loss: 1.1662 | test_acc: 0.8272\n",
            "Epoch: 17 | train_loss: 1.1388 | train_acc: 0.8287 | test_loss: 1.0932 | test_acc: 0.8167\n",
            "Epoch: 18 | train_loss: 1.0659 | train_acc: 0.8202 | test_loss: 1.0341 | test_acc: 0.8352\n",
            "Epoch: 19 | train_loss: 1.0023 | train_acc: 0.8158 | test_loss: 0.9692 | test_acc: 0.8397\n",
            "Epoch: 20 | train_loss: 0.9417 | train_acc: 0.8342 | test_loss: 0.9117 | test_acc: 0.8448\n",
            "total training time: 18.555 sec.\n"
          ]
        }
      ],
      "source": [
        "# init. epochs\n",
        "NUM_EPOCHS = 20\n",
        "\n",
        "# init. loss function, accuracy function and optimizer\n",
        "loss_fn = nn.CrossEntropyLoss()\n",
        "# loss_fn = mcross_entropy_loss_with_L1()\n",
        "acc_fn = MulticlassAccuracy(num_classes=len(class_names)).to(device=device)\n",
        "optimizer = torch.optim.Adam(params=model_sigmoid_3_layers.parameters(), lr=0.001)\n",
        "\n",
        "# importing and init. the timer for checking model training time\n",
        "from timeit import default_timer as timer\n",
        "start_time = timer()\n",
        "\n",
        "# train model\n",
        "model_sigmoid_3_layer_results = train(model=model_sigmoid_3_layers, \n",
        "                        train_dataloader=train_dataloader,\n",
        "                        test_dataloader=test_dataloader,\n",
        "                        optimizer=optimizer,\n",
        "                        device=device,\n",
        "                        loss_fn=loss_fn, \n",
        "                        acc_fn=acc_fn,\n",
        "                        epochs=NUM_EPOCHS)\n",
        "\n",
        "# end timer\n",
        "end_time = timer()\n",
        "# printing time taken\n",
        "print(f\"total training time: {end_time-start_time:.3f} sec.\")\n",
        "# print(\"model stats:\")\n",
        "# print(model_0_results)"
      ]
    },
    {
      "cell_type": "code",
      "source": [
        "plot_loss_curves(model_sigmoid_3_layer_results)"
      ],
      "metadata": {
        "colab": {
          "base_uri": "https://localhost:8080/",
          "height": 458
        },
        "id": "nIgMYVnoq68v",
        "outputId": "b521e3ba-2fb0-4b6b-960f-d016bf8ae8f0"
      },
      "execution_count": 351,
      "outputs": [
        {
          "output_type": "display_data",
          "data": {
            "text/plain": [
              "<Figure size 1080x504 with 2 Axes>"
            ],
            "image/png": "[encoded data removed]"
          },
          "metadata": {
            "needs_background": "light"
          }
        }
      ]
    },
    {
      "cell_type": "markdown",
      "metadata": {
        "id": "-G5ZZlwGlSzw"
      },
      "source": [
        "### training model_tanh_3_layers without regularization"
      ]
    },
    {
      "cell_type": "code",
      "execution_count": 352,
      "metadata": {
        "colab": {
          "base_uri": "https://localhost:8080/",
          "height": 424,
          "referenced_widgets": [
            "aac35fdc6f72414fb630f218ee2d9b3f",
            "e57c66bebfc44aa78cd5107cfedee82b",
            "fd4ee1ed465343d096a5d45959c2dd24",
            "158b5b9b4517476796beee3944031610",
            "a041c34f3c28408eb6e80a535c838e1a",
            "878238dff4514ebfa4e4df0ab855e766",
            "792e5b99d4354c858cbad4f4ca598bf0",
            "f97900276c5a4126bb060598f03d7d32",
            "9a111e8e76234c3c8dd9e534e0f425d5",
            "805ed158756746c998d0558d1a98d0cd",
            "92effcb9ca32463ea44bfa4a66ae13a2"
          ]
        },
        "id": "pBHYBMwgZCit",
        "outputId": "23223677-62a6-4338-d57b-98bb3307342e"
      },
      "outputs": [
        {
          "output_type": "display_data",
          "data": {
            "text/plain": [
              "  0%|          | 0/20 [00:00<?, ?it/s]"
            ],
            "application/vnd.jupyter.widget-view+json": {
              "version_major": 2,
              "version_minor": 0,
              "model_id": "aac35fdc6f72414fb630f218ee2d9b3f"
            }
          },
          "metadata": {}
        },
        {
          "output_type": "stream",
          "name": "stdout",
          "text": [
            "Epoch: 1 | train_loss: 1.9821 | train_acc: 0.4414 | test_loss: 1.7151 | test_acc: 0.5905\n",
            "Epoch: 2 | train_loss: 1.5498 | train_acc: 0.7051 | test_loss: 1.3751 | test_acc: 0.7741\n",
            "Epoch: 3 | train_loss: 1.2483 | train_acc: 0.7977 | test_loss: 1.1013 | test_acc: 0.8424\n",
            "Epoch: 4 | train_loss: 0.9997 | train_acc: 0.8650 | test_loss: 0.8892 | test_acc: 0.8655\n",
            "Epoch: 5 | train_loss: 0.8178 | train_acc: 0.8457 | test_loss: 0.7227 | test_acc: 0.8935\n",
            "Epoch: 6 | train_loss: 0.6569 | train_acc: 0.8799 | test_loss: 0.5865 | test_acc: 0.8899\n",
            "Epoch: 7 | train_loss: 0.5339 | train_acc: 0.9134 | test_loss: 0.4676 | test_acc: 0.9200\n",
            "Epoch: 8 | train_loss: 0.4436 | train_acc: 0.9174 | test_loss: 0.3983 | test_acc: 0.9245\n",
            "Epoch: 9 | train_loss: 0.3680 | train_acc: 0.9064 | test_loss: 0.3487 | test_acc: 0.9347\n",
            "Epoch: 10 | train_loss: 0.3156 | train_acc: 0.9176 | test_loss: 0.2873 | test_acc: 0.9429\n",
            "Epoch: 11 | train_loss: 0.2634 | train_acc: 0.9165 | test_loss: 0.2354 | test_acc: 0.9319\n",
            "Epoch: 12 | train_loss: 0.2198 | train_acc: 0.9520 | test_loss: 0.2006 | test_acc: 0.9505\n",
            "Epoch: 13 | train_loss: 0.1872 | train_acc: 0.9508 | test_loss: 0.1661 | test_acc: 0.9598\n",
            "Epoch: 14 | train_loss: 0.1666 | train_acc: 0.9418 | test_loss: 0.1471 | test_acc: 0.9277\n",
            "Epoch: 15 | train_loss: 0.1493 | train_acc: 0.9465 | test_loss: 0.1303 | test_acc: 0.9537\n",
            "Epoch: 16 | train_loss: 0.1250 | train_acc: 0.9452 | test_loss: 0.1194 | test_acc: 0.9612\n",
            "Epoch: 17 | train_loss: 0.1090 | train_acc: 0.9457 | test_loss: 0.0994 | test_acc: 0.9552\n",
            "Epoch: 18 | train_loss: 0.0953 | train_acc: 0.9607 | test_loss: 0.0861 | test_acc: 0.9556\n",
            "Epoch: 19 | train_loss: 0.0812 | train_acc: 0.9453 | test_loss: 0.0750 | test_acc: 0.9557\n",
            "Epoch: 20 | train_loss: 0.0732 | train_acc: 0.9682 | test_loss: 0.0681 | test_acc: 0.9552\n",
            "total training time: 18.493 sec.\n"
          ]
        }
      ],
      "source": [
        "# init. epochs\n",
        "NUM_EPOCHS = 20\n",
        "\n",
        "# init. loss function, accuracy function and optimizer\n",
        "loss_fn = nn.CrossEntropyLoss()\n",
        "acc_fn = MulticlassAccuracy(num_classes=len(class_names)).to(device=device)\n",
        "optimizer = torch.optim.Adam(params=model_tanh_3_layers.parameters(), lr=0.001)\n",
        "\n",
        "# importing and init. the timer for checking model training time\n",
        "from timeit import default_timer as timer\n",
        "start_time = timer()\n",
        "\n",
        "# train model\n",
        "model_tanh_3_layer_results = train(model=model_tanh_3_layers, \n",
        "                        train_dataloader=train_dataloader,\n",
        "                        test_dataloader=test_dataloader,\n",
        "                        optimizer=optimizer,\n",
        "                        device=device,\n",
        "                        loss_fn=loss_fn, \n",
        "                        acc_fn=acc_fn,\n",
        "                        epochs=NUM_EPOCHS)\n",
        "\n",
        "\n",
        "# end timer\n",
        "end_time = timer()\n",
        "# printing time taken\n",
        "print(f\"total training time: {end_time-start_time:.3f} sec.\")\n",
        "# print(\"model stats:\")\n",
        "# print(model_0_results)"
      ]
    },
    {
      "cell_type": "code",
      "source": [
        "plot_loss_curves(model_tanh_3_layer_results)"
      ],
      "metadata": {
        "colab": {
          "base_uri": "https://localhost:8080/",
          "height": 458
        },
        "id": "JtOswBzbq_be",
        "outputId": "729fb9ee-ec64-411e-a8e0-0710832c1674"
      },
      "execution_count": 353,
      "outputs": [
        {
          "output_type": "display_data",
          "data": {
            "text/plain": [
              "<Figure size 1080x504 with 2 Axes>"
            ],
            "image/png": "[encoded data removed]"
          },
          "metadata": {
            "needs_background": "light"
          }
        }
      ]
    },
    {
      "cell_type": "markdown",
      "metadata": {
        "id": "g9NP183XovdU"
      },
      "source": [
        "### making model object"
      ]
    },
    {
      "cell_type": "code",
      "execution_count": 354,
      "metadata": {
        "colab": {
          "base_uri": "https://localhost:8080/"
        },
        "outputId": "3fb8202f-c942-4723-e3e8-894d31169fb4",
        "id": "ps7jkL4JovdU"
      },
      "outputs": [
        {
          "output_type": "stream",
          "name": "stdout",
          "text": [
            "\n",
            "MODEL INFO: \n",
            "\n",
            "GurNumModel0(\n",
            "  (block): Sequential(\n",
            "    (0): Flatten(start_dim=1, end_dim=-1)\n",
            "    (1): Linear(in_features=1024, out_features=16, bias=True)\n",
            "    (2): Sigmoid()\n",
            "    (3): MyDropout()\n",
            "    (4): Linear(in_features=16, out_features=16, bias=True)\n",
            "    (5): Sigmoid()\n",
            "    (6): MyDropout()\n",
            "    (7): Linear(in_features=16, out_features=10, bias=True)\n",
            "  )\n",
            ")\n"
          ]
        }
      ],
      "source": [
        "set_seed()\n",
        "model_sigmoid_3_layers = GurNumModel0(\n",
        "    in_channels = height*width,\n",
        "    hidden_units = 16,\n",
        "    out_channels = len(class_names),\n",
        "    num_layers = 3,\n",
        "    activation_funtion = nn.Sigmoid()\n",
        "    ).to(device)\n",
        "print(\"\\nMODEL INFO: \\n\")\n",
        "print(model_sigmoid_3_layers)"
      ]
    },
    {
      "cell_type": "code",
      "execution_count": 355,
      "metadata": {
        "colab": {
          "base_uri": "https://localhost:8080/"
        },
        "outputId": "cb3fbb6f-835f-4093-a2cd-6fdd573744ea",
        "id": "joONWO8bovdU"
      },
      "outputs": [
        {
          "output_type": "stream",
          "name": "stdout",
          "text": [
            "\n",
            "MODEL INFO: \n",
            "\n",
            "GurNumModel0(\n",
            "  (block): Sequential(\n",
            "    (0): Flatten(start_dim=1, end_dim=-1)\n",
            "    (1): Linear(in_features=1024, out_features=16, bias=True)\n",
            "    (2): Tanh()\n",
            "    (3): MyDropout()\n",
            "    (4): Linear(in_features=16, out_features=16, bias=True)\n",
            "    (5): Tanh()\n",
            "    (6): MyDropout()\n",
            "    (7): Linear(in_features=16, out_features=10, bias=True)\n",
            "  )\n",
            ")\n"
          ]
        }
      ],
      "source": [
        "set_seed()\n",
        "model_tanh_3_layers = GurNumModel0(\n",
        "    in_channels = height*width,\n",
        "    hidden_units = 16,\n",
        "    out_channels = len(class_names),\n",
        "    num_layers = 3,\n",
        "    activation_funtion = nn.Tanh()\n",
        "    ).to(device)\n",
        "print(\"\\nMODEL INFO: \\n\")\n",
        "print(model_tanh_3_layers)"
      ]
    },
    {
      "cell_type": "markdown",
      "metadata": {
        "id": "SullUiyloLAm"
      },
      "source": [
        "### train loop for model_sigmode_3_layers with l1 regularization"
      ]
    },
    {
      "cell_type": "code",
      "execution_count": 356,
      "metadata": {
        "colab": {
          "base_uri": "https://localhost:8080/",
          "height": 424,
          "referenced_widgets": [
            "0f70afe6644344148bf4885a0a9267af",
            "1c05dcb888fa488b8e085e644ba7609e",
            "3ee856de41fc42149ab522987aaa9579",
            "cd6d59cd4949468fbc646d3721a2d843",
            "6f573e80791d480790c3ec71b9c9d434",
            "db7a4432a5424693b76a85890329caed",
            "a846dc90f9954d84889a2e607ab6a52c",
            "e0250758b9a440dfacaa2caea9391ccd",
            "6ba7346fbdd344ccb82af56578818127",
            "9a4e247972884fabb23b402704ef465f",
            "6405b3c454b9430eb1431d6a791db854"
          ]
        },
        "outputId": "126464b3-f8f0-4d6e-9077-406a24b16d1a",
        "id": "9s5ornCzoLAm"
      },
      "outputs": [
        {
          "output_type": "display_data",
          "data": {
            "text/plain": [
              "  0%|          | 0/20 [00:00<?, ?it/s]"
            ],
            "application/vnd.jupyter.widget-view+json": {
              "version_major": 2,
              "version_minor": 0,
              "model_id": "0f70afe6644344148bf4885a0a9267af"
            }
          },
          "metadata": {}
        },
        {
          "output_type": "stream",
          "name": "stdout",
          "text": [
            "Epoch: 1 | train_loss: 2.3229 | train_acc: 0.1641 | test_loss: 2.2609 | test_acc: 0.1875\n",
            "Epoch: 2 | train_loss: 2.2437 | train_acc: 0.2353 | test_loss: 2.2047 | test_acc: 0.2757\n",
            "Epoch: 3 | train_loss: 2.1934 | train_acc: 0.3101 | test_loss: 2.1560 | test_acc: 0.3913\n",
            "Epoch: 4 | train_loss: 2.1441 | train_acc: 0.4952 | test_loss: 2.0988 | test_acc: 0.6095\n",
            "Epoch: 5 | train_loss: 2.0874 | train_acc: 0.6569 | test_loss: 2.0407 | test_acc: 0.7119\n",
            "Epoch: 6 | train_loss: 2.0288 | train_acc: 0.7311 | test_loss: 1.9745 | test_acc: 0.7477\n",
            "Epoch: 7 | train_loss: 1.9623 | train_acc: 0.7562 | test_loss: 1.9071 | test_acc: 0.7714\n",
            "Epoch: 8 | train_loss: 1.8945 | train_acc: 0.7576 | test_loss: 1.8302 | test_acc: 0.7530\n",
            "Epoch: 9 | train_loss: 1.8223 | train_acc: 0.7414 | test_loss: 1.7558 | test_acc: 0.7469\n",
            "Epoch: 10 | train_loss: 1.7480 | train_acc: 0.7596 | test_loss: 1.6760 | test_acc: 0.7843\n",
            "Epoch: 11 | train_loss: 1.6694 | train_acc: 0.8051 | test_loss: 1.5933 | test_acc: 0.7917\n",
            "Epoch: 12 | train_loss: 1.5914 | train_acc: 0.7972 | test_loss: 1.5156 | test_acc: 0.8010\n",
            "Epoch: 13 | train_loss: 1.5166 | train_acc: 0.8086 | test_loss: 1.4417 | test_acc: 0.8097\n",
            "Epoch: 14 | train_loss: 1.4436 | train_acc: 0.8004 | test_loss: 1.3635 | test_acc: 0.8106\n",
            "Epoch: 15 | train_loss: 1.3759 | train_acc: 0.8197 | test_loss: 1.2866 | test_acc: 0.8155\n",
            "Epoch: 16 | train_loss: 1.3072 | train_acc: 0.8037 | test_loss: 1.2177 | test_acc: 0.8220\n",
            "Epoch: 17 | train_loss: 1.2448 | train_acc: 0.8286 | test_loss: 1.1473 | test_acc: 0.8168\n",
            "Epoch: 18 | train_loss: 1.1780 | train_acc: 0.8186 | test_loss: 1.0897 | test_acc: 0.8352\n",
            "Epoch: 19 | train_loss: 1.1202 | train_acc: 0.8145 | test_loss: 1.0272 | test_acc: 0.8393\n",
            "Epoch: 20 | train_loss: 1.0644 | train_acc: 0.8340 | test_loss: 0.9713 | test_acc: 0.8370\n",
            "total training time: 19.236 sec.\n"
          ]
        }
      ],
      "source": [
        "# init. epochs\n",
        "NUM_EPOCHS = 20\n",
        "\n",
        "# init. loss function, accuracy function and optimizer\n",
        "loss_fn = nn.CrossEntropyLoss()\n",
        "# loss_fn = mcross_entropy_loss_with_L1()\n",
        "acc_fn = MulticlassAccuracy(num_classes=len(class_names)).to(device=device)\n",
        "optimizer = torch.optim.Adam(params=model_sigmoid_3_layers.parameters(), lr=0.001)\n",
        "\n",
        "# importing and init. the timer for checking model training time\n",
        "from timeit import default_timer as timer\n",
        "start_time = timer()\n",
        "\n",
        "# train model\n",
        "model_sigmoid_3_layer_results = train(model=model_sigmoid_3_layers, \n",
        "                        train_dataloader=train_dataloader,\n",
        "                        test_dataloader=test_dataloader,\n",
        "                        optimizer=optimizer,\n",
        "                        device=device,\n",
        "                        loss_fn=loss_fn, \n",
        "                        acc_fn=acc_fn,\n",
        "                        epochs=NUM_EPOCHS,\n",
        "                        regularizer=l1_penalty)\n",
        "\n",
        "# end timer\n",
        "end_time = timer()\n",
        "# printing time taken\n",
        "print(f\"total training time: {end_time-start_time:.3f} sec.\")\n",
        "# print(\"model stats:\")\n",
        "# print(model_0_results)"
      ]
    },
    {
      "cell_type": "code",
      "source": [
        "plot_loss_curves(model_sigmoid_3_layer_results)"
      ],
      "metadata": {
        "colab": {
          "base_uri": "https://localhost:8080/",
          "height": 458
        },
        "id": "lWEozWo4qpGF",
        "outputId": "9d38826c-cfda-4f59-cbe3-4369eff37249"
      },
      "execution_count": 357,
      "outputs": [
        {
          "output_type": "display_data",
          "data": {
            "text/plain": [
              "<Figure size 1080x504 with 2 Axes>"
            ],
            "image/png": "[encoded data removed]"
          },
          "metadata": {
            "needs_background": "light"
          }
        }
      ]
    },
    {
      "cell_type": "markdown",
      "metadata": {
        "id": "mDS_Q36IoLAm"
      },
      "source": [
        "### training model_tanh_3_layers with l1 regularization"
      ]
    },
    {
      "cell_type": "code",
      "execution_count": 358,
      "metadata": {
        "colab": {
          "base_uri": "https://localhost:8080/",
          "height": 424,
          "referenced_widgets": [
            "def3ca8d3b5c48558389fc9c1fc5a91a",
            "6cc6019809234a6f95eb02a83f0f3794",
            "af9ce9ed7e1646dd95ee715a382188bc",
            "df66eef206df400b8ad05fbfe87a6403",
            "e6bf2b7a9eb442c881bc1895e59e29f4",
            "6419c31ba5ec4a80b1b06e2a2b529950",
            "3799f57407554b1b9f1aed63bcd3edd2",
            "19053614918b4c50b62c0046aae6740f",
            "229a5955b78341d6a5cdcb3371060c37",
            "58cdc138cb2d45b9a5fef5f38ef32328",
            "2d941cb08c1f46f4868acf5c1fcfef5f"
          ]
        },
        "outputId": "1edab676-d4a4-4114-c95d-fec154293c96",
        "id": "efb8Kd5WoLAm"
      },
      "outputs": [
        {
          "output_type": "display_data",
          "data": {
            "text/plain": [
              "  0%|          | 0/20 [00:00<?, ?it/s]"
            ],
            "application/vnd.jupyter.widget-view+json": {
              "version_major": 2,
              "version_minor": 0,
              "model_id": "def3ca8d3b5c48558389fc9c1fc5a91a"
            }
          },
          "metadata": {}
        },
        {
          "output_type": "stream",
          "name": "stdout",
          "text": [
            "Epoch: 1 | train_loss: 1.9964 | train_acc: 0.4422 | test_loss: 1.7164 | test_acc: 0.5917\n",
            "Epoch: 2 | train_loss: 1.5660 | train_acc: 0.7053 | test_loss: 1.3771 | test_acc: 0.7747\n",
            "Epoch: 3 | train_loss: 1.2661 | train_acc: 0.7989 | test_loss: 1.1037 | test_acc: 0.8439\n",
            "Epoch: 4 | train_loss: 1.0191 | train_acc: 0.8655 | test_loss: 0.8912 | test_acc: 0.8666\n",
            "Epoch: 5 | train_loss: 0.8390 | train_acc: 0.8462 | test_loss: 0.7236 | test_acc: 0.8919\n",
            "Epoch: 6 | train_loss: 0.6796 | train_acc: 0.8799 | test_loss: 0.5881 | test_acc: 0.8889\n",
            "Epoch: 7 | train_loss: 0.5592 | train_acc: 0.9131 | test_loss: 0.4701 | test_acc: 0.9200\n",
            "Epoch: 8 | train_loss: 0.4707 | train_acc: 0.9174 | test_loss: 0.4020 | test_acc: 0.9255\n",
            "Epoch: 9 | train_loss: 0.3976 | train_acc: 0.9060 | test_loss: 0.3529 | test_acc: 0.9347\n",
            "Epoch: 10 | train_loss: 0.3471 | train_acc: 0.9184 | test_loss: 0.2901 | test_acc: 0.9429\n",
            "Epoch: 11 | train_loss: 0.2963 | train_acc: 0.9168 | test_loss: 0.2400 | test_acc: 0.9319\n",
            "Epoch: 12 | train_loss: 0.2537 | train_acc: 0.9528 | test_loss: 0.2063 | test_acc: 0.9505\n",
            "Epoch: 13 | train_loss: 0.2224 | train_acc: 0.9508 | test_loss: 0.1715 | test_acc: 0.9614\n",
            "Epoch: 14 | train_loss: 0.2035 | train_acc: 0.9418 | test_loss: 0.1523 | test_acc: 0.9277\n",
            "Epoch: 15 | train_loss: 0.1862 | train_acc: 0.9450 | test_loss: 0.1354 | test_acc: 0.9537\n",
            "Epoch: 16 | train_loss: 0.1629 | train_acc: 0.9452 | test_loss: 0.1251 | test_acc: 0.9604\n",
            "Epoch: 17 | train_loss: 0.1477 | train_acc: 0.9457 | test_loss: 0.1045 | test_acc: 0.9552\n",
            "Epoch: 18 | train_loss: 0.1342 | train_acc: 0.9607 | test_loss: 0.0913 | test_acc: 0.9556\n",
            "Epoch: 19 | train_loss: 0.1207 | train_acc: 0.9422 | test_loss: 0.0804 | test_acc: 0.9557\n",
            "Epoch: 20 | train_loss: 0.1134 | train_acc: 0.9682 | test_loss: 0.0732 | test_acc: 0.9552\n",
            "total training time: 20.045 sec.\n"
          ]
        }
      ],
      "source": [
        "# init. epochs\n",
        "NUM_EPOCHS = 20\n",
        "\n",
        "# init. loss function, accuracy function and optimizer\n",
        "loss_fn = nn.CrossEntropyLoss()\n",
        "acc_fn = MulticlassAccuracy(num_classes=len(class_names)).to(device=device)\n",
        "optimizer = torch.optim.Adam(params=model_tanh_3_layers.parameters(), lr=0.001)\n",
        "\n",
        "# importing and init. the timer for checking model training time\n",
        "from timeit import default_timer as timer\n",
        "start_time = timer()\n",
        "\n",
        "# train model\n",
        "model_tanh_3_layer_results = train(model=model_tanh_3_layers, \n",
        "                        train_dataloader=train_dataloader,\n",
        "                        test_dataloader=test_dataloader,\n",
        "                        optimizer=optimizer,\n",
        "                        device=device,\n",
        "                        loss_fn=loss_fn, \n",
        "                        acc_fn=acc_fn,\n",
        "                        epochs=NUM_EPOCHS,\n",
        "                        regularizer=l1_penalty)\n",
        "\n",
        "\n",
        "# end timer\n",
        "end_time = timer()\n",
        "# printing time taken\n",
        "print(f\"total training time: {end_time-start_time:.3f} sec.\")\n",
        "# print(\"model stats:\")\n",
        "# print(model_0_results)"
      ]
    },
    {
      "cell_type": "code",
      "source": [
        "plot_loss_curves(model_tanh_3_layer_results)"
      ],
      "metadata": {
        "colab": {
          "base_uri": "https://localhost:8080/",
          "height": 458
        },
        "id": "__7x9OwgsY-p",
        "outputId": "ba4ae65b-2f88-4a88-e166-02f50acc671e"
      },
      "execution_count": 359,
      "outputs": [
        {
          "output_type": "display_data",
          "data": {
            "text/plain": [
              "<Figure size 1080x504 with 2 Axes>"
            ],
            "image/png": "[encoded data removed]"
          },
          "metadata": {
            "needs_background": "light"
          }
        }
      ]
    },
    {
      "cell_type": "markdown",
      "metadata": {
        "id": "aIosTrs8oky0"
      },
      "source": [
        "### making model object"
      ]
    },
    {
      "cell_type": "code",
      "execution_count": 360,
      "metadata": {
        "colab": {
          "base_uri": "https://localhost:8080/"
        },
        "outputId": "ecbbf8a0-34f8-484f-bc79-0bd24f5b08c4",
        "id": "MCXTR_XPoky0"
      },
      "outputs": [
        {
          "output_type": "stream",
          "name": "stdout",
          "text": [
            "\n",
            "MODEL INFO: \n",
            "\n",
            "GurNumModel0(\n",
            "  (block): Sequential(\n",
            "    (0): Flatten(start_dim=1, end_dim=-1)\n",
            "    (1): Linear(in_features=1024, out_features=16, bias=True)\n",
            "    (2): Sigmoid()\n",
            "    (3): MyDropout()\n",
            "    (4): Linear(in_features=16, out_features=16, bias=True)\n",
            "    (5): Sigmoid()\n",
            "    (6): MyDropout()\n",
            "    (7): Linear(in_features=16, out_features=10, bias=True)\n",
            "  )\n",
            ")\n"
          ]
        }
      ],
      "source": [
        "set_seed()\n",
        "model_sigmoid_3_layers = GurNumModel0(\n",
        "    in_channels = height*width,\n",
        "    hidden_units = 16,\n",
        "    out_channels = len(class_names),\n",
        "    num_layers = 3,\n",
        "    activation_funtion = nn.Sigmoid()\n",
        "    ).to(device)\n",
        "print(\"\\nMODEL INFO: \\n\")\n",
        "print(model_sigmoid_3_layers)"
      ]
    },
    {
      "cell_type": "code",
      "execution_count": 361,
      "metadata": {
        "colab": {
          "base_uri": "https://localhost:8080/"
        },
        "outputId": "188046bc-70a1-4e2e-d78c-d19bf1fa7f77",
        "id": "yuU2kxU2oky0"
      },
      "outputs": [
        {
          "output_type": "stream",
          "name": "stdout",
          "text": [
            "\n",
            "MODEL INFO: \n",
            "\n",
            "GurNumModel0(\n",
            "  (block): Sequential(\n",
            "    (0): Flatten(start_dim=1, end_dim=-1)\n",
            "    (1): Linear(in_features=1024, out_features=16, bias=True)\n",
            "    (2): Tanh()\n",
            "    (3): MyDropout()\n",
            "    (4): Linear(in_features=16, out_features=16, bias=True)\n",
            "    (5): Tanh()\n",
            "    (6): MyDropout()\n",
            "    (7): Linear(in_features=16, out_features=10, bias=True)\n",
            "  )\n",
            ")\n"
          ]
        }
      ],
      "source": [
        "set_seed()\n",
        "model_tanh_3_layers = GurNumModel0(\n",
        "    in_channels = height*width,\n",
        "    hidden_units = 16,\n",
        "    out_channels = len(class_names),\n",
        "    num_layers = 3,\n",
        "    activation_funtion = nn.Tanh()\n",
        "    ).to(device)\n",
        "print(\"\\nMODEL INFO: \\n\")\n",
        "print(model_tanh_3_layers)"
      ]
    },
    {
      "cell_type": "markdown",
      "metadata": {
        "id": "-KFJe34covdU"
      },
      "source": [
        "### training model_sigmode_3_layers with l2 regularization"
      ]
    },
    {
      "cell_type": "code",
      "execution_count": 362,
      "metadata": {
        "colab": {
          "base_uri": "https://localhost:8080/",
          "height": 424,
          "referenced_widgets": [
            "95d9a32586d442a389f44c8698fe8b28",
            "043505c99b18413493653d765be9d1b7",
            "9d42aed0bf794162aaeb47b2105ec3e5",
            "575bd075b71f409285aeba9fa8222c63",
            "ea70034ca0a0477a9421a7f9c5122b94",
            "29a52f597a5340678321ac3b9830d9fe",
            "5684ab2521ea44fa8b6b0ac4633ef49c",
            "740abb730004424b8c380b650cc615c9",
            "4b67e6490503441c8c009c6d2caf8f77",
            "07261243607240c2ad5d5e9f7d96d8d7",
            "296e3cacdcdb473da655594e90d4fb04"
          ]
        },
        "outputId": "e41b6b9a-d644-488c-fd28-9efa7b6ae860",
        "id": "bHbgWLPDovdU"
      },
      "outputs": [
        {
          "output_type": "display_data",
          "data": {
            "text/plain": [
              "  0%|          | 0/20 [00:00<?, ?it/s]"
            ],
            "application/vnd.jupyter.widget-view+json": {
              "version_major": 2,
              "version_minor": 0,
              "model_id": "95d9a32586d442a389f44c8698fe8b28"
            }
          },
          "metadata": {}
        },
        {
          "output_type": "stream",
          "name": "stdout",
          "text": [
            "Epoch: 1 | train_loss: 2.3131 | train_acc: 0.1641 | test_loss: 2.2604 | test_acc: 0.1875\n",
            "Epoch: 2 | train_loss: 2.2359 | train_acc: 0.2353 | test_loss: 2.2038 | test_acc: 0.2757\n",
            "Epoch: 3 | train_loss: 2.1860 | train_acc: 0.3117 | test_loss: 2.1538 | test_acc: 0.3918\n",
            "Epoch: 4 | train_loss: 2.1360 | train_acc: 0.5129 | test_loss: 2.0958 | test_acc: 0.6574\n",
            "Epoch: 5 | train_loss: 2.0784 | train_acc: 0.6837 | test_loss: 2.0359 | test_acc: 0.7337\n",
            "Epoch: 6 | train_loss: 2.0184 | train_acc: 0.7570 | test_loss: 1.9686 | test_acc: 0.7589\n",
            "Epoch: 7 | train_loss: 1.9499 | train_acc: 0.7680 | test_loss: 1.8982 | test_acc: 0.7787\n",
            "Epoch: 8 | train_loss: 1.8788 | train_acc: 0.7616 | test_loss: 1.8191 | test_acc: 0.7574\n",
            "Epoch: 9 | train_loss: 1.8039 | train_acc: 0.7486 | test_loss: 1.7423 | test_acc: 0.7504\n",
            "Epoch: 10 | train_loss: 1.7257 | train_acc: 0.7629 | test_loss: 1.6588 | test_acc: 0.7802\n",
            "Epoch: 11 | train_loss: 1.6424 | train_acc: 0.8098 | test_loss: 1.5729 | test_acc: 0.7945\n",
            "Epoch: 12 | train_loss: 1.5606 | train_acc: 0.7931 | test_loss: 1.4923 | test_acc: 0.7992\n",
            "Epoch: 13 | train_loss: 1.4812 | train_acc: 0.8104 | test_loss: 1.4146 | test_acc: 0.8101\n",
            "Epoch: 14 | train_loss: 1.4018 | train_acc: 0.7976 | test_loss: 1.3320 | test_acc: 0.8046\n",
            "Epoch: 15 | train_loss: 1.3287 | train_acc: 0.8192 | test_loss: 1.2497 | test_acc: 0.8150\n",
            "Epoch: 16 | train_loss: 1.2542 | train_acc: 0.8046 | test_loss: 1.1791 | test_acc: 0.8233\n",
            "Epoch: 17 | train_loss: 1.1875 | train_acc: 0.8286 | test_loss: 1.1040 | test_acc: 0.8205\n",
            "Epoch: 18 | train_loss: 1.1134 | train_acc: 0.8249 | test_loss: 1.0437 | test_acc: 0.8378\n",
            "Epoch: 19 | train_loss: 1.0522 | train_acc: 0.8196 | test_loss: 0.9789 | test_acc: 0.8432\n",
            "Epoch: 20 | train_loss: 0.9937 | train_acc: 0.8339 | test_loss: 0.9194 | test_acc: 0.8447\n",
            "total training time: 20.195 sec.\n"
          ]
        }
      ],
      "source": [
        "# init. epochs\n",
        "NUM_EPOCHS = 20\n",
        "\n",
        "# init. loss function, accuracy function and optimizer\n",
        "loss_fn = nn.CrossEntropyLoss()\n",
        "# loss_fn = mcross_entropy_loss_with_L1()\n",
        "acc_fn = MulticlassAccuracy(num_classes=len(class_names)).to(device=device)\n",
        "optimizer = torch.optim.Adam(params=model_sigmoid_3_layers.parameters(), lr=0.001)\n",
        "\n",
        "# importing and init. the timer for checking model training time\n",
        "from timeit import default_timer as timer\n",
        "start_time = timer()\n",
        "\n",
        "# train model\n",
        "model_sigmoid_3_layer_results = train(model=model_sigmoid_3_layers, \n",
        "                        train_dataloader=train_dataloader,\n",
        "                        test_dataloader=test_dataloader,\n",
        "                        optimizer=optimizer,\n",
        "                        device=device,\n",
        "                        loss_fn=loss_fn, \n",
        "                        acc_fn=acc_fn,\n",
        "                        epochs=NUM_EPOCHS,\n",
        "                        regularizer=l2_penalty)\n",
        "\n",
        "# end timer\n",
        "end_time = timer()\n",
        "# printing time taken\n",
        "print(f\"total training time: {end_time-start_time:.3f} sec.\")\n",
        "# print(\"model stats:\")\n",
        "# print(model_0_results)"
      ]
    },
    {
      "cell_type": "code",
      "source": [
        "plot_loss_curves(model_sigmoid_3_layer_results)"
      ],
      "metadata": {
        "colab": {
          "base_uri": "https://localhost:8080/",
          "height": 458
        },
        "id": "h3d5IKpdrwvF",
        "outputId": "8ec620ff-948b-4cd7-de5d-a75468cd1ac7"
      },
      "execution_count": 363,
      "outputs": [
        {
          "output_type": "display_data",
          "data": {
            "text/plain": [
              "<Figure size 1080x504 with 2 Axes>"
            ],
            "image/png": "[encoded data removed]"
          },
          "metadata": {
            "needs_background": "light"
          }
        }
      ]
    },
    {
      "cell_type": "markdown",
      "metadata": {
        "id": "2MSf3BEOovdU"
      },
      "source": [
        "### training model_tanh_3_layers with l2 regularization"
      ]
    },
    {
      "cell_type": "code",
      "execution_count": 364,
      "metadata": {
        "colab": {
          "base_uri": "https://localhost:8080/",
          "height": 424,
          "referenced_widgets": [
            "b739395bcf63498b9c4d0a7d55b2968b",
            "69d3498b38ea401a996a52f199915581",
            "b7179b1e1756489fbf2aeaa6ffa8221a",
            "9791fe4b08bc4d67bace2eeb79b15a50",
            "6ff76832af6d4512923636fb52017fe6",
            "4de7a983731d4c9e942e9ebb943aab44",
            "17eb1b24914644e2a37978d914023454",
            "e6ca70864f9e4503b2eac35b687a40e5",
            "8eddf415fbb24e31b0bcee6696f87fee",
            "9e64c0698e024a088eccf6e792a15c4d",
            "d36b5c918c7d4b4b9353316d8a007a47"
          ]
        },
        "outputId": "f0298dbd-a0db-458a-8e17-f64b85f4c265",
        "id": "VWs_86wMovdU"
      },
      "outputs": [
        {
          "output_type": "display_data",
          "data": {
            "text/plain": [
              "  0%|          | 0/20 [00:00<?, ?it/s]"
            ],
            "application/vnd.jupyter.widget-view+json": {
              "version_major": 2,
              "version_minor": 0,
              "model_id": "b739395bcf63498b9c4d0a7d55b2968b"
            }
          },
          "metadata": {}
        },
        {
          "output_type": "stream",
          "name": "stdout",
          "text": [
            "Epoch: 1 | train_loss: 1.9855 | train_acc: 0.4437 | test_loss: 1.7153 | test_acc: 0.5926\n",
            "Epoch: 2 | train_loss: 1.5542 | train_acc: 0.7061 | test_loss: 1.3756 | test_acc: 0.7747\n",
            "Epoch: 3 | train_loss: 1.2537 | train_acc: 0.7988 | test_loss: 1.1020 | test_acc: 0.8424\n",
            "Epoch: 4 | train_loss: 1.0062 | train_acc: 0.8650 | test_loss: 0.8899 | test_acc: 0.8672\n",
            "Epoch: 5 | train_loss: 0.8253 | train_acc: 0.8457 | test_loss: 0.7241 | test_acc: 0.8935\n",
            "Epoch: 6 | train_loss: 0.6655 | train_acc: 0.8799 | test_loss: 0.5881 | test_acc: 0.8899\n",
            "Epoch: 7 | train_loss: 0.5433 | train_acc: 0.9141 | test_loss: 0.4687 | test_acc: 0.9200\n",
            "Epoch: 8 | train_loss: 0.4532 | train_acc: 0.9174 | test_loss: 0.4000 | test_acc: 0.9220\n",
            "Epoch: 9 | train_loss: 0.3784 | train_acc: 0.9086 | test_loss: 0.3512 | test_acc: 0.9353\n",
            "Epoch: 10 | train_loss: 0.3265 | train_acc: 0.9181 | test_loss: 0.2897 | test_acc: 0.9423\n",
            "Epoch: 11 | train_loss: 0.2752 | train_acc: 0.9165 | test_loss: 0.2361 | test_acc: 0.9319\n",
            "Epoch: 12 | train_loss: 0.2312 | train_acc: 0.9520 | test_loss: 0.2024 | test_acc: 0.9505\n",
            "Epoch: 13 | train_loss: 0.1994 | train_acc: 0.9508 | test_loss: 0.1668 | test_acc: 0.9598\n",
            "Epoch: 14 | train_loss: 0.1792 | train_acc: 0.9418 | test_loss: 0.1481 | test_acc: 0.9277\n",
            "Epoch: 15 | train_loss: 0.1627 | train_acc: 0.9465 | test_loss: 0.1324 | test_acc: 0.9537\n",
            "Epoch: 16 | train_loss: 0.1378 | train_acc: 0.9452 | test_loss: 0.1213 | test_acc: 0.9612\n",
            "Epoch: 17 | train_loss: 0.1226 | train_acc: 0.9457 | test_loss: 0.1007 | test_acc: 0.9552\n",
            "Epoch: 18 | train_loss: 0.1094 | train_acc: 0.9607 | test_loss: 0.0871 | test_acc: 0.9556\n",
            "Epoch: 19 | train_loss: 0.0955 | train_acc: 0.9453 | test_loss: 0.0763 | test_acc: 0.9557\n",
            "Epoch: 20 | train_loss: 0.0878 | train_acc: 0.9682 | test_loss: 0.0693 | test_acc: 0.9552\n",
            "total training time: 21.102 sec.\n"
          ]
        }
      ],
      "source": [
        "# init. epochs\n",
        "NUM_EPOCHS = 20\n",
        "\n",
        "# init. loss function, accuracy function and optimizer\n",
        "loss_fn = nn.CrossEntropyLoss()\n",
        "acc_fn = MulticlassAccuracy(num_classes=len(class_names)).to(device=device)\n",
        "optimizer = torch.optim.Adam(params=model_tanh_3_layers.parameters(), lr=0.001)\n",
        "\n",
        "# importing and init. the timer for checking model training time\n",
        "from timeit import default_timer as timer\n",
        "start_time = timer()\n",
        "\n",
        "# train model\n",
        "model_tanh_3_layer_results = train(model=model_tanh_3_layers, \n",
        "                        train_dataloader=train_dataloader,\n",
        "                        test_dataloader=test_dataloader,\n",
        "                        optimizer=optimizer,\n",
        "                        device=device,\n",
        "                        loss_fn=loss_fn, \n",
        "                        acc_fn=acc_fn,\n",
        "                        epochs=NUM_EPOCHS,\n",
        "                        regularizer=l2_penalty)\n",
        "\n",
        "\n",
        "# end timer\n",
        "end_time = timer()\n",
        "# printing time taken\n",
        "print(f\"total training time: {end_time-start_time:.3f} sec.\")\n",
        "# print(\"model stats:\")\n",
        "# print(model_0_results)"
      ]
    },
    {
      "cell_type": "code",
      "source": [
        "plot_loss_curves(model_tanh_3_layer_results)"
      ],
      "metadata": {
        "colab": {
          "base_uri": "https://localhost:8080/",
          "height": 458
        },
        "id": "buHeDSmErnHx",
        "outputId": "32228926-f784-4eb5-dc89-60469c50d54c"
      },
      "execution_count": 365,
      "outputs": [
        {
          "output_type": "display_data",
          "data": {
            "text/plain": [
              "<Figure size 1080x504 with 2 Axes>"
            ],
            "image/png": "[encoded data removed]"
          },
          "metadata": {
            "needs_background": "light"
          }
        }
      ]
    },
    {
      "cell_type": "markdown",
      "source": [
        "### making model object"
      ],
      "metadata": {
        "id": "Avj96Fh8qH6z"
      }
    },
    {
      "cell_type": "code",
      "source": [
        "model_sigmode_3_layers_with_drop_out_25 = GurNumModel0(\n",
        "    in_channels = height*width,\n",
        "    hidden_units = 16,\n",
        "    out_channels = len(class_names),\n",
        "    num_layers = 3,\n",
        "    activation_funtion = nn.Sigmoid(),\n",
        "    use_drop_prob=0.25\n",
        "    ).to(device)\n",
        "print(\"\\nMODEL INFO: \\n\")\n",
        "print(model_sigmode_3_layers_with_drop_out_25)"
      ],
      "metadata": {
        "colab": {
          "base_uri": "https://localhost:8080/"
        },
        "id": "5tCr9JaGkpus",
        "outputId": "0bd84dbf-7182-45e0-ac09-f388675e2f52"
      },
      "execution_count": 366,
      "outputs": [
        {
          "output_type": "stream",
          "name": "stdout",
          "text": [
            "\n",
            "MODEL INFO: \n",
            "\n",
            "GurNumModel0(\n",
            "  (block): Sequential(\n",
            "    (0): Flatten(start_dim=1, end_dim=-1)\n",
            "    (1): Linear(in_features=1024, out_features=16, bias=True)\n",
            "    (2): Sigmoid()\n",
            "    (3): MyDropout()\n",
            "    (4): Linear(in_features=16, out_features=16, bias=True)\n",
            "    (5): Sigmoid()\n",
            "    (6): MyDropout()\n",
            "    (7): Linear(in_features=16, out_features=10, bias=True)\n",
            "  )\n",
            ")\n"
          ]
        }
      ]
    },
    {
      "cell_type": "code",
      "source": [
        "model_tanh_3_layers_with_drop_out_25 = GurNumModel0(\n",
        "    in_channels = height*width,\n",
        "    hidden_units = 16,\n",
        "    out_channels = len(class_names),\n",
        "    num_layers = 3,\n",
        "    activation_funtion = nn.Tanh(),\n",
        "    use_drop_prob=0.25\n",
        "    ).to(device)\n",
        "print(\"\\nMODEL INFO: \\n\")\n",
        "print(model_tanh_3_layers_with_drop_out_25)"
      ],
      "metadata": {
        "colab": {
          "base_uri": "https://localhost:8080/"
        },
        "id": "nOtRJO0Mk-4o",
        "outputId": "bfa93913-6c5b-47bf-dc0c-983443c2c631"
      },
      "execution_count": 367,
      "outputs": [
        {
          "output_type": "stream",
          "name": "stdout",
          "text": [
            "\n",
            "MODEL INFO: \n",
            "\n",
            "GurNumModel0(\n",
            "  (block): Sequential(\n",
            "    (0): Flatten(start_dim=1, end_dim=-1)\n",
            "    (1): Linear(in_features=1024, out_features=16, bias=True)\n",
            "    (2): Tanh()\n",
            "    (3): MyDropout()\n",
            "    (4): Linear(in_features=16, out_features=16, bias=True)\n",
            "    (5): Tanh()\n",
            "    (6): MyDropout()\n",
            "    (7): Linear(in_features=16, out_features=10, bias=True)\n",
            "  )\n",
            ")\n"
          ]
        }
      ]
    },
    {
      "cell_type": "markdown",
      "source": [
        "### train loop for model_sigmoid_3_layers with dropout = 0.25"
      ],
      "metadata": {
        "id": "cDgbPGMJqP64"
      }
    },
    {
      "cell_type": "code",
      "source": [
        "# training model_sigmoid_3_layer with drop outs prob. 0.25 \n",
        "# init. epochs\n",
        "NUM_EPOCHS = 20\n",
        "\n",
        "# init. loss function, accuracy function and optimizer\n",
        "loss_fn = nn.CrossEntropyLoss()\n",
        "# loss_fn = mcross_entropy_loss_with_L1()\n",
        "acc_fn = MulticlassAccuracy(num_classes=len(class_names)).to(device=device)\n",
        "optimizer = torch.optim.Adam(params=model_sigmode_3_layers_with_drop_out_25.parameters(), lr=0.001)\n",
        "\n",
        "# importing and init. the timer for checking model training time\n",
        "from timeit import default_timer as timer\n",
        "start_time = timer()\n",
        "\n",
        "# train model\n",
        "model_sigmode_3_layers_with_drop_out_25_results = train(model=model_sigmode_3_layers_with_drop_out_25, \n",
        "                        train_dataloader=train_dataloader,\n",
        "                        test_dataloader=test_dataloader,\n",
        "                        optimizer=optimizer,\n",
        "                        device=device,\n",
        "                        loss_fn=loss_fn, \n",
        "                        acc_fn=acc_fn,\n",
        "                        epochs=NUM_EPOCHS)\n",
        "\n",
        "# end timer\n",
        "end_time = timer()\n",
        "# printing time taken\n",
        "print(f\"total training time: {end_time-start_time:.3f} sec.\")\n",
        "# print(\"model stats:\")\n",
        "# print(model_0_results)"
      ],
      "metadata": {
        "colab": {
          "base_uri": "https://localhost:8080/",
          "height": 424,
          "referenced_widgets": [
            "488c18f642a6427cb4ac9ccd5a10f01a",
            "f826096aa642468f8049af4fd1186b89",
            "b41f941b73204a6b9fc501276ef1a91e",
            "c04a2815b3d143bf98b99a0d89731e36",
            "8dbaf8a0d94044419ff621b076266c1b",
            "1ab74a26400941368b8697ec6f421596",
            "160e1d07c5b64f1ea4c13551b641c994",
            "cb84d9a4abe34b6088bf901a96010718",
            "d311773a06a847969c8db0e8f83f8d8b",
            "775b49ad610f414a8c6576b4a82589c0",
            "ac24df448fe846b99efd8054fccf66ea"
          ]
        },
        "id": "j0ePmmwvXpYG",
        "outputId": "76a3715d-8ba5-4eb9-f02c-4b3c441235e0"
      },
      "execution_count": 368,
      "outputs": [
        {
          "output_type": "display_data",
          "data": {
            "text/plain": [
              "  0%|          | 0/20 [00:00<?, ?it/s]"
            ],
            "application/vnd.jupyter.widget-view+json": {
              "version_major": 2,
              "version_minor": 0,
              "model_id": "488c18f642a6427cb4ac9ccd5a10f01a"
            }
          },
          "metadata": {}
        },
        {
          "output_type": "stream",
          "name": "stdout",
          "text": [
            "Epoch: 1 | train_loss: 2.3256 | train_acc: 0.0960 | test_loss: 2.2781 | test_acc: 0.1938\n",
            "Epoch: 2 | train_loss: 2.2702 | train_acc: 0.1372 | test_loss: 2.2316 | test_acc: 0.2835\n",
            "Epoch: 3 | train_loss: 2.2302 | train_acc: 0.1861 | test_loss: 2.1871 | test_acc: 0.3348\n",
            "Epoch: 4 | train_loss: 2.1815 | train_acc: 0.2565 | test_loss: 2.1416 | test_acc: 0.4592\n",
            "Epoch: 5 | train_loss: 2.1291 | train_acc: 0.2857 | test_loss: 2.0901 | test_acc: 0.4701\n",
            "Epoch: 6 | train_loss: 2.0963 | train_acc: 0.2721 | test_loss: 2.0343 | test_acc: 0.4292\n",
            "Epoch: 7 | train_loss: 2.0371 | train_acc: 0.3176 | test_loss: 1.9790 | test_acc: 0.4179\n",
            "Epoch: 8 | train_loss: 1.9817 | train_acc: 0.3054 | test_loss: 1.9191 | test_acc: 0.4163\n",
            "Epoch: 9 | train_loss: 1.9203 | train_acc: 0.3326 | test_loss: 1.8588 | test_acc: 0.4420\n",
            "Epoch: 10 | train_loss: 1.8674 | train_acc: 0.3732 | test_loss: 1.8049 | test_acc: 0.5163\n",
            "Epoch: 11 | train_loss: 1.8314 | train_acc: 0.3685 | test_loss: 1.7512 | test_acc: 0.5366\n",
            "Epoch: 12 | train_loss: 1.7818 | train_acc: 0.3778 | test_loss: 1.7034 | test_acc: 0.5693\n",
            "Epoch: 13 | train_loss: 1.7317 | train_acc: 0.3940 | test_loss: 1.6575 | test_acc: 0.6513\n",
            "Epoch: 14 | train_loss: 1.6937 | train_acc: 0.4494 | test_loss: 1.6163 | test_acc: 0.6284\n",
            "Epoch: 15 | train_loss: 1.6578 | train_acc: 0.4683 | test_loss: 1.5724 | test_acc: 0.7547\n",
            "Epoch: 16 | train_loss: 1.6250 | train_acc: 0.5069 | test_loss: 1.5374 | test_acc: 0.7204\n",
            "Epoch: 17 | train_loss: 1.6011 | train_acc: 0.4711 | test_loss: 1.4959 | test_acc: 0.8091\n",
            "Epoch: 18 | train_loss: 1.5561 | train_acc: 0.5177 | test_loss: 1.4567 | test_acc: 0.8103\n",
            "Epoch: 19 | train_loss: 1.5399 | train_acc: 0.5085 | test_loss: 1.4218 | test_acc: 0.8206\n",
            "Epoch: 20 | train_loss: 1.4949 | train_acc: 0.5316 | test_loss: 1.3824 | test_acc: 0.8176\n",
            "total training time: 18.989 sec.\n"
          ]
        }
      ]
    },
    {
      "cell_type": "code",
      "source": [
        "plot_loss_curves(model_sigmode_3_layers_with_drop_out_25_results)"
      ],
      "metadata": {
        "colab": {
          "base_uri": "https://localhost:8080/",
          "height": 458
        },
        "id": "7E7cZZiVldcS",
        "outputId": "dc08be2e-ebec-4de9-b37f-c0a07c7a6ea4"
      },
      "execution_count": 369,
      "outputs": [
        {
          "output_type": "display_data",
          "data": {
            "text/plain": [
              "<Figure size 1080x504 with 2 Axes>"
            ],
            "image/png": "[encoded data removed]"
          },
          "metadata": {
            "needs_background": "light"
          }
        }
      ]
    },
    {
      "cell_type": "markdown",
      "source": [
        "### train loop for model_tanh_3_layers with dropout = 0.25"
      ],
      "metadata": {
        "id": "dJbVsbYIqSOE"
      }
    },
    {
      "cell_type": "code",
      "source": [
        "# training model_tanh_3_layer with drop outs prob. 0.25 \n",
        "# init. epochs\n",
        "NUM_EPOCHS = 20\n",
        "\n",
        "# init. loss function, accuracy function and optimizer\n",
        "loss_fn = nn.CrossEntropyLoss()\n",
        "# loss_fn = mcross_entropy_loss_with_L1()\n",
        "acc_fn = MulticlassAccuracy(num_classes=len(class_names)).to(device=device)\n",
        "optimizer = torch.optim.Adam(params=model_tanh_3_layers_with_drop_out_25.parameters(), lr=0.001)\n",
        "\n",
        "# importing and init. the timer for checking model training time\n",
        "from timeit import default_timer as timer\n",
        "start_time = timer()\n",
        "\n",
        "# train model\n",
        "model_tanh_3_layers_with_drop_out_25_results = train(model=model_tanh_3_layers_with_drop_out_25, \n",
        "                        train_dataloader=train_dataloader,\n",
        "                        test_dataloader=test_dataloader,\n",
        "                        optimizer=optimizer,\n",
        "                        device=device,\n",
        "                        loss_fn=loss_fn, \n",
        "                        acc_fn=acc_fn,\n",
        "                        epochs=NUM_EPOCHS)\n",
        "\n",
        "# end timer\n",
        "end_time = timer()\n",
        "# printing time taken\n",
        "print(f\"total training time: {end_time-start_time:.3f} sec.\")\n",
        "# print(\"model stats:\")\n",
        "# print(model_0_results)"
      ],
      "metadata": {
        "colab": {
          "base_uri": "https://localhost:8080/",
          "height": 424,
          "referenced_widgets": [
            "56c01534120e451283d7f868e323cc0c",
            "e0d33a43f5d349f3a4eec6bb5b67dc80",
            "78a9ef191c7547b6b8354994d78c3b7c",
            "294bd902379145829d4768ad95d95e41",
            "55e342f66d2047caa7eb2a73288d59a0",
            "c93e0402480c4f9fbc4aa7fec2f1250b",
            "31917e0ee30944e886564a3f23a6056a",
            "50c0326fbcd74d3c98f248e3c43d9802",
            "a27af523f2b149d1ad8816875b6754e3",
            "73304676a5e44a94a89dc26c10ed456e",
            "77ccb9f2fb3742f9b4b89ad53d20356a"
          ]
        },
        "id": "3qYrRJ55l-pN",
        "outputId": "e3490df1-8e01-474f-d598-de7bed5a15d5"
      },
      "execution_count": 370,
      "outputs": [
        {
          "output_type": "display_data",
          "data": {
            "text/plain": [
              "  0%|          | 0/20 [00:00<?, ?it/s]"
            ],
            "application/vnd.jupyter.widget-view+json": {
              "version_major": 2,
              "version_minor": 0,
              "model_id": "56c01534120e451283d7f868e323cc0c"
            }
          },
          "metadata": {}
        },
        {
          "output_type": "stream",
          "name": "stdout",
          "text": [
            "Epoch: 1 | train_loss: 2.2041 | train_acc: 0.1766 | test_loss: 2.0240 | test_acc: 0.4626\n",
            "Epoch: 2 | train_loss: 1.9293 | train_acc: 0.4217 | test_loss: 1.6979 | test_acc: 0.7929\n",
            "Epoch: 3 | train_loss: 1.6306 | train_acc: 0.6694 | test_loss: 1.4475 | test_acc: 0.8288\n",
            "Epoch: 4 | train_loss: 1.3794 | train_acc: 0.7674 | test_loss: 1.1951 | test_acc: 0.8886\n",
            "Epoch: 5 | train_loss: 1.2025 | train_acc: 0.8465 | test_loss: 1.0015 | test_acc: 0.9052\n",
            "Epoch: 6 | train_loss: 1.0445 | train_acc: 0.8635 | test_loss: 0.8381 | test_acc: 0.9054\n",
            "Epoch: 7 | train_loss: 0.9196 | train_acc: 0.8615 | test_loss: 0.6801 | test_acc: 0.9177\n",
            "Epoch: 8 | train_loss: 0.8072 | train_acc: 0.8894 | test_loss: 0.5744 | test_acc: 0.9110\n",
            "Epoch: 9 | train_loss: 0.6783 | train_acc: 0.8666 | test_loss: 0.4788 | test_acc: 0.9197\n",
            "Epoch: 10 | train_loss: 0.6227 | train_acc: 0.8855 | test_loss: 0.4112 | test_acc: 0.9255\n",
            "Epoch: 11 | train_loss: 0.5458 | train_acc: 0.9132 | test_loss: 0.3378 | test_acc: 0.9169\n",
            "Epoch: 12 | train_loss: 0.4837 | train_acc: 0.9004 | test_loss: 0.3003 | test_acc: 0.9409\n",
            "Epoch: 13 | train_loss: 0.4540 | train_acc: 0.9127 | test_loss: 0.2649 | test_acc: 0.9371\n",
            "Epoch: 14 | train_loss: 0.4149 | train_acc: 0.8867 | test_loss: 0.2252 | test_acc: 0.9428\n",
            "Epoch: 15 | train_loss: 0.3800 | train_acc: 0.9118 | test_loss: 0.1877 | test_acc: 0.9436\n",
            "Epoch: 16 | train_loss: 0.3556 | train_acc: 0.9221 | test_loss: 0.1756 | test_acc: 0.9433\n",
            "Epoch: 17 | train_loss: 0.3043 | train_acc: 0.9218 | test_loss: 0.1473 | test_acc: 0.9192\n",
            "Epoch: 18 | train_loss: 0.2791 | train_acc: 0.9211 | test_loss: 0.1286 | test_acc: 0.9611\n",
            "Epoch: 19 | train_loss: 0.2732 | train_acc: 0.9387 | test_loss: 0.1154 | test_acc: 0.9477\n",
            "Epoch: 20 | train_loss: 0.2502 | train_acc: 0.9232 | test_loss: 0.1021 | test_acc: 0.9460\n",
            "total training time: 19.000 sec.\n"
          ]
        }
      ]
    },
    {
      "cell_type": "code",
      "source": [
        "plot_loss_curves(model_tanh_3_layers_with_drop_out_25_results)"
      ],
      "metadata": {
        "colab": {
          "base_uri": "https://localhost:8080/",
          "height": 458
        },
        "id": "mEVVcR8dmQpq",
        "outputId": "4278265e-35f8-4cce-ab8f-90303370d971"
      },
      "execution_count": 371,
      "outputs": [
        {
          "output_type": "display_data",
          "data": {
            "text/plain": [
              "<Figure size 1080x504 with 2 Axes>"
            ],
            "image/png": "[encoded data removed]"
          },
          "metadata": {
            "needs_background": "light"
          }
        }
      ]
    },
    {
      "cell_type": "markdown",
      "source": [
        "### making model object"
      ],
      "metadata": {
        "id": "CQb9At0cKPKT"
      }
    },
    {
      "cell_type": "code",
      "source": [
        "model_sigmode_3_layers_with_drop_out_25 = GurNumModel0(\n",
        "    in_channels = height*width,\n",
        "    hidden_units = 16,\n",
        "    out_channels = len(class_names),\n",
        "    num_layers = 3,\n",
        "    activation_funtion = nn.Sigmoid(),\n",
        "    use_drop_prob=0.25\n",
        "    ).to(device)\n",
        "print(\"\\nMODEL INFO: \\n\")\n",
        "print(model_sigmode_3_layers_with_drop_out_25)"
      ],
      "metadata": {
        "colab": {
          "base_uri": "https://localhost:8080/"
        },
        "outputId": "84f69061-bd51-44a2-c5d3-ef241c15892c",
        "id": "Gk2T1DaNKPKU"
      },
      "execution_count": 372,
      "outputs": [
        {
          "output_type": "stream",
          "name": "stdout",
          "text": [
            "\n",
            "MODEL INFO: \n",
            "\n",
            "GurNumModel0(\n",
            "  (block): Sequential(\n",
            "    (0): Flatten(start_dim=1, end_dim=-1)\n",
            "    (1): Linear(in_features=1024, out_features=16, bias=True)\n",
            "    (2): Sigmoid()\n",
            "    (3): MyDropout()\n",
            "    (4): Linear(in_features=16, out_features=16, bias=True)\n",
            "    (5): Sigmoid()\n",
            "    (6): MyDropout()\n",
            "    (7): Linear(in_features=16, out_features=10, bias=True)\n",
            "  )\n",
            ")\n"
          ]
        }
      ]
    },
    {
      "cell_type": "code",
      "source": [
        "model_tanh_3_layers_with_drop_out_25 = GurNumModel0(\n",
        "    in_channels = height*width,\n",
        "    hidden_units = 16,\n",
        "    out_channels = len(class_names),\n",
        "    num_layers = 3,\n",
        "    activation_funtion = nn.Tanh(),\n",
        "    use_drop_prob=0.25\n",
        "    ).to(device)\n",
        "print(\"\\nMODEL INFO: \\n\")\n",
        "print(model_tanh_3_layers_with_drop_out_25)"
      ],
      "metadata": {
        "colab": {
          "base_uri": "https://localhost:8080/"
        },
        "outputId": "58a099c2-581e-402c-e2ba-f6c1fada930c",
        "id": "nz4bbb2aKPKU"
      },
      "execution_count": 373,
      "outputs": [
        {
          "output_type": "stream",
          "name": "stdout",
          "text": [
            "\n",
            "MODEL INFO: \n",
            "\n",
            "GurNumModel0(\n",
            "  (block): Sequential(\n",
            "    (0): Flatten(start_dim=1, end_dim=-1)\n",
            "    (1): Linear(in_features=1024, out_features=16, bias=True)\n",
            "    (2): Tanh()\n",
            "    (3): MyDropout()\n",
            "    (4): Linear(in_features=16, out_features=16, bias=True)\n",
            "    (5): Tanh()\n",
            "    (6): MyDropout()\n",
            "    (7): Linear(in_features=16, out_features=10, bias=True)\n",
            "  )\n",
            ")\n"
          ]
        }
      ]
    },
    {
      "cell_type": "markdown",
      "source": [
        "### gradiant checking"
      ],
      "metadata": {
        "id": "8LuvL6J8KPKU"
      }
    },
    {
      "cell_type": "code",
      "source": [
        "# training model_sigmoid_3_layer with drop outs prob. 0.25 \n",
        "# init. epochs\n",
        "NUM_EPOCHS = 2\n",
        "\n",
        "# init. loss function, accuracy function and optimizer\n",
        "loss_fn = nn.CrossEntropyLoss()\n",
        "# loss_fn = mcross_entropy_loss_with_L1()\n",
        "acc_fn = MulticlassAccuracy(num_classes=len(class_names)).to(device=device)\n",
        "optimizer = torch.optim.Adam(params=model_sigmode_3_layers_with_drop_out_25.parameters(), lr=0.001)\n",
        "\n",
        "# importing and init. the timer for checking model training time\n",
        "from timeit import default_timer as timer\n",
        "start_time = timer()\n",
        "\n",
        "print(\"the execution will throw an error if grad. was not calculate corrected!!!\")\n",
        "# train model\n",
        "model_sigmode_3_layers_with_drop_out_25_results = train(model=model_sigmode_3_layers_with_drop_out_25, \n",
        "                        train_dataloader=train_dataloader,\n",
        "                        test_dataloader=test_dataloader,\n",
        "                        optimizer=optimizer,\n",
        "                        device=device,\n",
        "                        loss_fn=loss_fn, \n",
        "                        acc_fn=acc_fn,\n",
        "                        epochs=NUM_EPOCHS,\n",
        "                        cheack_grad=True # For cheaking grad calculations\n",
        "                        )\n",
        "\n",
        "# end timer\n",
        "end_time = timer()\n",
        "# printing time taken\n",
        "print(f\"total training time: {end_time-start_time:.3f} sec.\")\n",
        "# print(\"model stats:\")\n",
        "# print(model_0_results)"
      ],
      "metadata": {
        "colab": {
          "base_uri": "https://localhost:8080/",
          "height": 248,
          "referenced_widgets": [
            "0d554c2b477e4a398dbfe74a96a92f51",
            "d983d3897cea41659e2311c47c07c8d7",
            "bcd0f55d4ec34f86a1e6484b23989f68",
            "2c90696108694e5e838da9de85b16c96",
            "453ad2f1fbae4799acb9723c1cc44e96",
            "815bc6c03c2b490a9d81af0ff0e5e3d5",
            "39ef1757083c4f0fb77f59f109fec9d7",
            "17b74196afb042f8ab8b7d737b121dc6",
            "ebb7b07e66b2431aba0ad54813c1659c",
            "712d523382694a73ad34851c53601e3a",
            "fc05249a6571434f8e1b5d581f27b8b5"
          ]
        },
        "id": "c7oa_oKHKhlQ",
        "outputId": "ba5117a6-963e-49fb-f645-7fb38f2ecc7a"
      },
      "execution_count": 374,
      "outputs": [
        {
          "output_type": "stream",
          "name": "stdout",
          "text": [
            "the execution will throw an error if grad. was not calculate corrected!!!\n"
          ]
        },
        {
          "output_type": "display_data",
          "data": {
            "text/plain": [
              "  0%|          | 0/2 [00:00<?, ?it/s]"
            ],
            "application/vnd.jupyter.widget-view+json": {
              "version_major": 2,
              "version_minor": 0,
              "model_id": "0d554c2b477e4a398dbfe74a96a92f51"
            }
          },
          "metadata": {}
        },
        {
          "output_type": "stream",
          "name": "stderr",
          "text": [
            "<ipython-input-341-7f6d21f4fb37>:45: VisibleDeprecationWarning: Creating an ndarray from ragged nested sequences (which is a list-or-tuple of lists-or-tuples-or ndarrays with different lengths or shapes) is deprecated. If you meant to do this, you must specify 'dtype=object' when creating the ndarray.\n",
            "  theta = np.array([i.grad.detach().numpy() for i in model.parameters()])\n"
          ]
        },
        {
          "output_type": "stream",
          "name": "stdout",
          "text": [
            "Epoch: 1 | train_loss: 2.3169 | train_acc: 0.1095 | test_loss: 2.2882 | test_acc: 0.1623\n"
          ]
        },
        {
          "output_type": "stream",
          "name": "stderr",
          "text": [
            "<ipython-input-341-7f6d21f4fb37>:89: VisibleDeprecationWarning: Creating an ndarray from ragged nested sequences (which is a list-or-tuple of lists-or-tuples-or ndarrays with different lengths or shapes) is deprecated. If you meant to do this, you must specify 'dtype=object' when creating the ndarray.\n",
            "  actual_grad = np.array([i.grad.detach().numpy() for i in model.parameters()])\n",
            "<ipython-input-341-7f6d21f4fb37>:92: DeprecationWarning: elementwise comparison failed; this will raise an error in the future.\n",
            "  dm = (np.average([np.linalg.norm(i) in actual_grad]) + np.average([np.linalg.norm(i) for i in grad_approx]))/2\n"
          ]
        },
        {
          "output_type": "stream",
          "name": "stdout",
          "text": [
            "Epoch: 2 | train_loss: 2.2834 | train_acc: 0.1488 | test_loss: 2.2426 | test_acc: 0.2233\n",
            "total training time: 2.019 sec.\n"
          ]
        }
      ]
    }
  ]
}